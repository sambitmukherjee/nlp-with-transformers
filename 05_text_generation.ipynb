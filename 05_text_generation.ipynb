{
  "cells": [
    {
      "cell_type": "code",
      "execution_count": 1,
      "metadata": {
        "id": "ja0ZxUjLPYsr",
        "colab": {
          "base_uri": "https://localhost:8080/"
        },
        "outputId": "3938d402-278a-4900-f6f3-e9a184009bde"
      },
      "outputs": [
        {
          "output_type": "stream",
          "name": "stdout",
          "text": [
            "fatal: destination path 'notebooks' already exists and is not an empty directory.\n",
            "/content/notebooks\n",
            "⏳ Installing base requirements ...\n",
            "✅ Base requirements installed!\n",
            "⏳ Installing Git LFS ...\n",
            "✅ Git LFS installed!\n"
          ]
        }
      ],
      "source": [
        "# Uncomment and run this cell if you're on Colab or Kaggle:\n",
        "!git clone https://github.com/nlp-with-transformers/notebooks.git\n",
        "%cd notebooks\n",
        "from install import *\n",
        "install_requirements()"
      ]
    },
    {
      "cell_type": "code",
      "execution_count": 2,
      "metadata": {
        "id": "O9_lVTBgPYsv",
        "outputId": "6ed5bb7b-6e17-4c63-e7c1-3e61fa38beb9",
        "colab": {
          "base_uri": "https://localhost:8080/"
        }
      },
      "outputs": [
        {
          "output_type": "stream",
          "name": "stdout",
          "text": [
            "No GPU was detected! This notebook can be *very* slow without a GPU 🐢\n",
            "Go to Runtime > Change runtime type and select a GPU hardware accelerator.\n",
            "Using transformers v4.16.2\n",
            "Using datasets v1.16.1\n"
          ]
        }
      ],
      "source": [
        "from utils import *\n",
        "setup_chapter()"
      ]
    },
    {
      "cell_type": "markdown",
      "metadata": {
        "id": "PpyfqC99PYsx"
      },
      "source": [
        "# Text Generation"
      ]
    },
    {
      "cell_type": "markdown",
      "metadata": {
        "id": "etOFV73yPYsz"
      },
      "source": [
        "<img alt=\"LM Meta Learning\" width=\"800\" caption=\"During pretraining, language models are exposed to sequences of tasks that can be adapted during inference (courtesy of Tom B. Brown)\" src=\"https://github.com/nlp-with-transformers/notebooks/blob/main/images/chapter05_lm-meta-learning.png?raw=1\" id=\"lm-meta-learning\"/>"
      ]
    },
    {
      "cell_type": "markdown",
      "metadata": {
        "id": "6DEvXWOFPYsz"
      },
      "source": [
        "<img alt=\"Meena\" width=\"300\" caption=\"Meena on the left telling a corny joke to a human on the right (courtesy of Daniel Adiwardana and Thang Luong)\" src=\"https://github.com/nlp-with-transformers/notebooks/blob/main/images/chapter05_meena.png?raw=1\" id=\"meena\"/>"
      ]
    },
    {
      "cell_type": "markdown",
      "metadata": {
        "id": "6rdZ02LPPYs2"
      },
      "source": [
        "## The Challenge with Generating Coherent Text"
      ]
    },
    {
      "cell_type": "markdown",
      "metadata": {
        "id": "nfHVWkohPYs4"
      },
      "source": [
        "<img alt=\"Text generation\" width=\"700\" caption=\"Generating text from an input sequence by adding a new word to the input at each step\" src=\"https://github.com/nlp-with-transformers/notebooks/blob/main/images/chapter05_text-generation.png?raw=1\" id=\"text-generation\"/>"
      ]
    },
    {
      "cell_type": "markdown",
      "metadata": {
        "id": "Vn2Ao5ASPYs5"
      },
      "source": [
        "## Greedy Search Decoding"
      ]
    },
    {
      "cell_type": "code",
      "source": [
        "import torch\n",
        "from transformers import AutoTokenizer, AutoModelForCausalLM\n",
        "\n",
        "device = \"cuda\" if torch.cuda.is_available() else \"cpu\"\n",
        "model_name = \"gpt2\"\n",
        "tokenizer = AutoTokenizer.from_pretrained(model_name)\n",
        "model = AutoModelForCausalLM.from_pretrained(model_name).to(device)"
      ],
      "metadata": {
        "colab": {
          "base_uri": "https://localhost:8080/"
        },
        "id": "6a0oYQjYe8dm",
        "outputId": "920c829e-93de-45ff-ba23-0e33804c4613"
      },
      "execution_count": 3,
      "outputs": [
        {
          "output_type": "stream",
          "name": "stderr",
          "text": [
            "/usr/local/lib/python3.10/dist-packages/transformers/modeling_utils.py:1435: FutureWarning: You are using `torch.load` with `weights_only=False` (the current default value), which uses the default pickle module implicitly. It is possible to construct malicious pickle data which will execute arbitrary code during unpickling (See https://github.com/pytorch/pytorch/blob/main/SECURITY.md#untrusted-models for more details). In a future release, the default value for `weights_only` will be flipped to `True`. This limits the functions that could be executed during unpickling. Arbitrary objects will no longer be allowed to be loaded via this mode unless they are explicitly allowlisted by the user via `torch.serialization.add_safe_globals`. We recommend you start setting `weights_only=True` for any use case where you don't have full control of the loaded file. Please open an issue on GitHub for any issues related to this experimental feature.\n",
            "  state_dict = torch.load(resolved_archive_file, map_location=\"cpu\")\n"
          ]
        }
      ]
    },
    {
      "cell_type": "code",
      "source": [
        "tokenizer"
      ],
      "metadata": {
        "colab": {
          "base_uri": "https://localhost:8080/"
        },
        "id": "rSTnnhLXfkAf",
        "outputId": "d9e3547e-734c-4289-bc67-044a6ebbb5a7"
      },
      "execution_count": 4,
      "outputs": [
        {
          "output_type": "execute_result",
          "data": {
            "text/plain": [
              "PreTrainedTokenizerFast(name_or_path='gpt2', vocab_size=50257, model_max_len=1024, is_fast=True, padding_side='right', truncation_side='right', special_tokens={'bos_token': '<|endoftext|>', 'eos_token': '<|endoftext|>', 'unk_token': '<|endoftext|>'})"
            ]
          },
          "metadata": {},
          "execution_count": 4
        }
      ]
    },
    {
      "cell_type": "code",
      "source": [
        "tokenizer.all_special_tokens"
      ],
      "metadata": {
        "colab": {
          "base_uri": "https://localhost:8080/"
        },
        "id": "hTA87Fs7ft0N",
        "outputId": "08ede798-1fdd-4fda-df9a-8159aab22283"
      },
      "execution_count": 5,
      "outputs": [
        {
          "output_type": "execute_result",
          "data": {
            "text/plain": [
              "['<|endoftext|>']"
            ]
          },
          "metadata": {},
          "execution_count": 5
        }
      ]
    },
    {
      "cell_type": "code",
      "source": [
        "# Exploratory:\n",
        "x = torch.tensor([0.35, 0.5, 0.15])\n",
        "torch.argsort(x, dim=-1, descending=True)"
      ],
      "metadata": {
        "colab": {
          "base_uri": "https://localhost:8080/"
        },
        "id": "UOkPppA1fxWx",
        "outputId": "fe047400-6df4-42cd-9829-4989555e158d"
      },
      "execution_count": 6,
      "outputs": [
        {
          "output_type": "execute_result",
          "data": {
            "text/plain": [
              "tensor([1, 0, 2])"
            ]
          },
          "metadata": {},
          "execution_count": 6
        }
      ]
    },
    {
      "cell_type": "code",
      "source": [
        "input_txt = \"Transformers are the\"\n",
        "tokenizer(input_txt, return_tensors=\"pt\")"
      ],
      "metadata": {
        "colab": {
          "base_uri": "https://localhost:8080/"
        },
        "id": "3oimnaz9gkfS",
        "outputId": "b9e5601f-496e-4634-ff74-06ac95eb2ff0"
      },
      "execution_count": 7,
      "outputs": [
        {
          "output_type": "execute_result",
          "data": {
            "text/plain": [
              "{'input_ids': tensor([[41762,   364,   389,   262]]), 'attention_mask': tensor([[1, 1, 1, 1]])}"
            ]
          },
          "metadata": {},
          "execution_count": 7
        }
      ]
    },
    {
      "cell_type": "code",
      "source": [
        "tokenizer.tokenize(input_txt)"
      ],
      "metadata": {
        "colab": {
          "base_uri": "https://localhost:8080/"
        },
        "id": "XPfwn778gvk6",
        "outputId": "6b94b1f2-b205-4107-98dd-b40d83530cf4"
      },
      "execution_count": 8,
      "outputs": [
        {
          "output_type": "execute_result",
          "data": {
            "text/plain": [
              "['Transform', 'ers', 'Ġare', 'Ġthe']"
            ]
          },
          "metadata": {},
          "execution_count": 8
        }
      ]
    },
    {
      "cell_type": "code",
      "source": [
        "input_ids = tokenizer(input_txt, return_tensors=\"pt\")['input_ids'].to(device)\n",
        "iterations = []\n",
        "n_steps = 8\n",
        "choices_per_step = 5"
      ],
      "metadata": {
        "id": "XpyMrLCAg4YB"
      },
      "execution_count": 9,
      "outputs": []
    },
    {
      "cell_type": "code",
      "source": [
        "tokenizer.convert_ids_to_tokens(input_ids[0])"
      ],
      "metadata": {
        "colab": {
          "base_uri": "https://localhost:8080/"
        },
        "id": "hift5eymhL-E",
        "outputId": "7ab84ed2-25b2-4429-cac8-c73355b81aef"
      },
      "execution_count": 10,
      "outputs": [
        {
          "output_type": "execute_result",
          "data": {
            "text/plain": [
              "['Transform', 'ers', 'Ġare', 'Ġthe']"
            ]
          },
          "metadata": {},
          "execution_count": 10
        }
      ]
    },
    {
      "cell_type": "code",
      "source": [
        "tokenizer.decode(input_ids[0])"
      ],
      "metadata": {
        "colab": {
          "base_uri": "https://localhost:8080/",
          "height": 35
        },
        "id": "gs3b4jPWhQ2r",
        "outputId": "46a545b3-4eef-4679-9812-ce3a1f2f30a4"
      },
      "execution_count": 11,
      "outputs": [
        {
          "output_type": "execute_result",
          "data": {
            "text/plain": [
              "'Transformers are the'"
            ],
            "application/vnd.google.colaboratory.intrinsic+json": {
              "type": "string"
            }
          },
          "metadata": {},
          "execution_count": 11
        }
      ]
    },
    {
      "cell_type": "code",
      "source": [
        "with torch.no_grad():\n",
        "    for _ in range(n_steps):\n",
        "        iteration = dict()\n",
        "        iteration['Input'] = tokenizer.decode(input_ids[0])\n",
        "        print(iteration)\n",
        "        break"
      ],
      "metadata": {
        "colab": {
          "base_uri": "https://localhost:8080/"
        },
        "id": "xliuMfvshVlF",
        "outputId": "ba3f95e1-7380-4cd3-d2f6-6e07392fe01c"
      },
      "execution_count": 12,
      "outputs": [
        {
          "output_type": "stream",
          "name": "stdout",
          "text": [
            "{'Input': 'Transformers are the'}\n"
          ]
        }
      ]
    },
    {
      "cell_type": "code",
      "source": [
        "with torch.no_grad():\n",
        "    for _ in range(n_steps):\n",
        "        iteration = dict()\n",
        "        iteration['Input'] = tokenizer.decode(input_ids[0])\n",
        "        output = model(input_ids=input_ids)\n",
        "        print(type(output.logits))\n",
        "        print(output.logits.shape)\n",
        "        break"
      ],
      "metadata": {
        "colab": {
          "base_uri": "https://localhost:8080/"
        },
        "id": "ncDjo0A3hmoh",
        "outputId": "af931829-284d-4d4b-a817-d6d9133e55c6"
      },
      "execution_count": 13,
      "outputs": [
        {
          "output_type": "stream",
          "name": "stdout",
          "text": [
            "<class 'torch.Tensor'>\n",
            "torch.Size([1, 4, 50257])\n"
          ]
        }
      ]
    },
    {
      "cell_type": "markdown",
      "source": [
        "The shape is (batch size, sequence length, vocab size)."
      ],
      "metadata": {
        "id": "QTtd5t3R2--5"
      }
    },
    {
      "cell_type": "code",
      "source": [
        "with torch.no_grad():\n",
        "    for _ in range(n_steps):\n",
        "        iteration = dict()\n",
        "        iteration['Input'] = tokenizer.decode(input_ids[0])\n",
        "        output = model(input_ids=input_ids)\n",
        "        # Select logits of the first (only) example in the batch and the last token, and apply softmax:\n",
        "        next_token_logits = output.logits[0, -1, :]\n",
        "        print(next_token_logits.shape)\n",
        "        next_token_probs = torch.softmax(next_token_logits, dim=-1)\n",
        "        print(next_token_probs.shape)\n",
        "        break"
      ],
      "metadata": {
        "colab": {
          "base_uri": "https://localhost:8080/"
        },
        "id": "2P3mJ2VwiKG5",
        "outputId": "787e2d4d-f19b-4535-c051-7c81fab0d681"
      },
      "execution_count": 14,
      "outputs": [
        {
          "output_type": "stream",
          "name": "stdout",
          "text": [
            "torch.Size([50257])\n",
            "torch.Size([50257])\n"
          ]
        }
      ]
    },
    {
      "cell_type": "code",
      "source": [
        "with torch.no_grad():\n",
        "    for _ in range(n_steps):\n",
        "        iteration = dict()\n",
        "        iteration['Input'] = tokenizer.decode(input_ids[0])\n",
        "        output = model(input_ids=input_ids)\n",
        "        # Select logits of the first (only) example in the batch and the last token, and apply softmax:\n",
        "        next_token_logits = output.logits[0, -1, :]\n",
        "        next_token_probs = torch.softmax(next_token_logits, dim=-1)\n",
        "        sorted_ids = torch.argsort(next_token_probs, dim=-1, descending=True)\n",
        "        print(sorted_ids)\n",
        "        break"
      ],
      "metadata": {
        "colab": {
          "base_uri": "https://localhost:8080/"
        },
        "id": "rwivUG3Ui3rq",
        "outputId": "86b55aa8-b7da-4708-8ee0-4e990821ee47"
      },
      "execution_count": 15,
      "outputs": [
        {
          "output_type": "stream",
          "name": "stdout",
          "text": [
            "tensor([  749,   976,   691,  ...,   208,   179, 37574])\n"
          ]
        }
      ]
    },
    {
      "cell_type": "code",
      "source": [
        "with torch.no_grad():\n",
        "    for _ in range(n_steps):\n",
        "        iteration = dict()\n",
        "        iteration['Input'] = tokenizer.decode(input_ids[0])\n",
        "        output = model(input_ids=input_ids)\n",
        "        # Select logits of the first (only) example in the batch and the last token, and apply softmax:\n",
        "        next_token_logits = output.logits[0, -1, :]\n",
        "        next_token_probs = torch.softmax(next_token_logits, dim=-1)\n",
        "        sorted_ids = torch.argsort(next_token_probs, dim=-1, descending=True)\n",
        "        # Store tokens with highest probabilities:\n",
        "        for choice_idx in range(choices_per_step):\n",
        "            token_id = sorted_ids[choice_idx]\n",
        "            token_prob = next_token_probs[token_id].cpu().numpy()\n",
        "            token_choice = f\"{tokenizer.decode(token_id)} ({100 * token_prob:.2f}%)\"\n",
        "            iteration[f'Choice {choice_idx + 1}'] = token_choice\n",
        "        print(iteration)\n",
        "        break"
      ],
      "metadata": {
        "colab": {
          "base_uri": "https://localhost:8080/"
        },
        "id": "0atNtq9sjmBc",
        "outputId": "2cb6b6e6-0fa9-471c-9ea4-cb79cb3fae6e"
      },
      "execution_count": 16,
      "outputs": [
        {
          "output_type": "stream",
          "name": "stdout",
          "text": [
            "{'Input': 'Transformers are the', 'Choice 1': ' most (9.76%)', 'Choice 2': '\n",
            "same (2.94%)', 'Choice 3': ' only (2.87%)', 'Choice 4': ' best (2.38%)', 'Choice\n",
            "5': ' first (1.77%)'}\n"
          ]
        }
      ]
    },
    {
      "cell_type": "code",
      "source": [
        "sorted_ids"
      ],
      "metadata": {
        "colab": {
          "base_uri": "https://localhost:8080/"
        },
        "id": "S1UDBw7kkmi6",
        "outputId": "5cd2817e-be8a-4334-b2e9-31605bfa8664"
      },
      "execution_count": 17,
      "outputs": [
        {
          "output_type": "execute_result",
          "data": {
            "text/plain": [
              "tensor([  749,   976,   691,  ...,   208,   179, 37574])"
            ]
          },
          "metadata": {},
          "execution_count": 17
        }
      ]
    },
    {
      "cell_type": "code",
      "source": [
        "sorted_ids[0]"
      ],
      "metadata": {
        "colab": {
          "base_uri": "https://localhost:8080/"
        },
        "id": "ztO84Nj4kqtn",
        "outputId": "2e6bc0d8-1fc5-400d-f31d-8cc217f64b58"
      },
      "execution_count": 18,
      "outputs": [
        {
          "output_type": "execute_result",
          "data": {
            "text/plain": [
              "tensor(749)"
            ]
          },
          "metadata": {},
          "execution_count": 18
        }
      ]
    },
    {
      "cell_type": "markdown",
      "source": [
        "**Note:** `sorted_ids[0]` is the most likely token at the current time step."
      ],
      "metadata": {
        "id": "lUlK4yHalYJI"
      }
    },
    {
      "cell_type": "code",
      "source": [
        "sorted_ids[0, None]"
      ],
      "metadata": {
        "colab": {
          "base_uri": "https://localhost:8080/"
        },
        "id": "ftbQhyHrkucT",
        "outputId": "1d066821-ba61-4e17-b7bc-9050b6955825"
      },
      "execution_count": 19,
      "outputs": [
        {
          "output_type": "execute_result",
          "data": {
            "text/plain": [
              "tensor([749])"
            ]
          },
          "metadata": {},
          "execution_count": 19
        }
      ]
    },
    {
      "cell_type": "code",
      "source": [
        "sorted_ids[None, 0, None]"
      ],
      "metadata": {
        "colab": {
          "base_uri": "https://localhost:8080/"
        },
        "id": "1kw09gVPkxIo",
        "outputId": "57450b04-8c81-4d42-a240-d965da225b1f"
      },
      "execution_count": 20,
      "outputs": [
        {
          "output_type": "execute_result",
          "data": {
            "text/plain": [
              "tensor([[749]])"
            ]
          },
          "metadata": {},
          "execution_count": 20
        }
      ]
    },
    {
      "cell_type": "code",
      "source": [
        "with torch.no_grad():\n",
        "    for _ in range(n_steps):\n",
        "        iteration = dict()\n",
        "        iteration['Input'] = tokenizer.decode(input_ids[0])\n",
        "        output = model(input_ids=input_ids)\n",
        "        # Select logits of the first (only) example in the batch and the last token, and apply softmax:\n",
        "        next_token_logits = output.logits[0, -1, :]\n",
        "        next_token_probs = torch.softmax(next_token_logits, dim=-1)\n",
        "        sorted_ids = torch.argsort(next_token_probs, dim=-1, descending=True)\n",
        "        # Store tokens with highest probabilities:\n",
        "        for choice_idx in range(choices_per_step):\n",
        "            token_id = sorted_ids[choice_idx]\n",
        "            token_prob = next_token_probs[token_id].cpu().numpy()\n",
        "            token_choice = f\"{tokenizer.decode(token_id)} ({100 * token_prob:.2f}%)\"\n",
        "            iteration[f'Choice {choice_idx + 1}'] = token_choice\n",
        "        # Append predicted next token to input:\n",
        "        input_ids = torch.cat([input_ids, sorted_ids[None, 0, None]], dim=-1)\n",
        "        iterations.append(iteration)\n",
        "iterations"
      ],
      "metadata": {
        "colab": {
          "base_uri": "https://localhost:8080/"
        },
        "id": "NLxSqEqnk0vP",
        "outputId": "b23f3109-ed75-4e5d-e730-959bdf2d7dbe"
      },
      "execution_count": 21,
      "outputs": [
        {
          "output_type": "execute_result",
          "data": {
            "text/plain": [
              "[{'Input': 'Transformers are the',\n",
              "  'Choice 1': ' most (9.76%)',\n",
              "  'Choice 2': ' same (2.94%)',\n",
              "  'Choice 3': ' only (2.87%)',\n",
              "  'Choice 4': ' best (2.38%)',\n",
              "  'Choice 5': ' first (1.77%)'},\n",
              " {'Input': 'Transformers are the most',\n",
              "  'Choice 1': ' common (22.90%)',\n",
              "  'Choice 2': ' powerful (6.88%)',\n",
              "  'Choice 3': ' important (6.32%)',\n",
              "  'Choice 4': ' popular (3.95%)',\n",
              "  'Choice 5': ' commonly (2.14%)'},\n",
              " {'Input': 'Transformers are the most common',\n",
              "  'Choice 1': ' type (15.06%)',\n",
              "  'Choice 2': ' types (3.31%)',\n",
              "  'Choice 3': ' form (1.91%)',\n",
              "  'Choice 4': ' way (1.89%)',\n",
              "  'Choice 5': ' and (1.49%)'},\n",
              " {'Input': 'Transformers are the most common type',\n",
              "  'Choice 1': ' of (83.13%)',\n",
              "  'Choice 2': ' in (3.16%)',\n",
              "  'Choice 3': '. (1.92%)',\n",
              "  'Choice 4': ', (1.63%)',\n",
              "  'Choice 5': ' for (0.88%)'},\n",
              " {'Input': 'Transformers are the most common type of',\n",
              "  'Choice 1': ' particle (1.55%)',\n",
              "  'Choice 2': ' object (1.02%)',\n",
              "  'Choice 3': ' light (0.71%)',\n",
              "  'Choice 4': ' energy (0.67%)',\n",
              "  'Choice 5': ' objects (0.66%)'},\n",
              " {'Input': 'Transformers are the most common type of particle',\n",
              "  'Choice 1': '. (14.26%)',\n",
              "  'Choice 2': ' in (11.57%)',\n",
              "  'Choice 3': ' that (10.19%)',\n",
              "  'Choice 4': ', (9.57%)',\n",
              "  'Choice 5': ' accelerator (5.81%)'},\n",
              " {'Input': 'Transformers are the most common type of particle.',\n",
              "  'Choice 1': ' They (17.48%)',\n",
              "  'Choice 2': '\\n (15.19%)',\n",
              "  'Choice 3': ' The (7.06%)',\n",
              "  'Choice 4': ' These (3.09%)',\n",
              "  'Choice 5': ' In (3.07%)'},\n",
              " {'Input': 'Transformers are the most common type of particle. They',\n",
              "  'Choice 1': ' are (38.78%)',\n",
              "  'Choice 2': ' have (8.14%)',\n",
              "  'Choice 3': ' can (7.98%)',\n",
              "  'Choice 4': \"'re (5.04%)\",\n",
              "  'Choice 5': ' consist (1.57%)'}]"
            ]
          },
          "metadata": {},
          "execution_count": 21
        }
      ]
    },
    {
      "cell_type": "code",
      "source": [
        "import pandas as pd\n",
        "\n",
        "pd.set_option('display.max_colwidth', 0)\n",
        "pd.DataFrame(iterations)"
      ],
      "metadata": {
        "colab": {
          "base_uri": "https://localhost:8080/",
          "height": 300
        },
        "id": "k7135MLGl0g0",
        "outputId": "596de446-e9e9-49a4-ffc3-c989100381f2"
      },
      "execution_count": 22,
      "outputs": [
        {
          "output_type": "execute_result",
          "data": {
            "text/plain": [
              "                                                     Input           Choice 1  \\\n",
              "0  Transformers are the                                      most (9.76%)       \n",
              "1  Transformers are the most                                 common (22.90%)    \n",
              "2  Transformers are the most common                          type (15.06%)      \n",
              "3  Transformers are the most common type                     of (83.13%)        \n",
              "4  Transformers are the most common type of                  particle (1.55%)   \n",
              "5  Transformers are the most common type of particle        . (14.26%)          \n",
              "6  Transformers are the most common type of particle.        They (17.48%)      \n",
              "7  Transformers are the most common type of particle. They   are (38.78%)       \n",
              "\n",
              "            Choice 2            Choice 3          Choice 4  \\\n",
              "0   same (2.94%)       only (2.87%)        best (2.38%)      \n",
              "1   powerful (6.88%)   important (6.32%)   popular (3.95%)   \n",
              "2   types (3.31%)      form (1.91%)        way (1.89%)       \n",
              "3   in (3.16%)        . (1.92%)           , (1.63%)          \n",
              "4   object (1.02%)     light (0.71%)       energy (0.67%)    \n",
              "5   in (11.57%)        that (10.19%)      , (9.57%)          \n",
              "6  \\n (15.19%)         The (7.06%)         These (3.09%)     \n",
              "7   have (8.14%)       can (7.98%)        're (5.04%)        \n",
              "\n",
              "               Choice 5  \n",
              "0   first (1.77%)        \n",
              "1   commonly (2.14%)     \n",
              "2   and (1.49%)          \n",
              "3   for (0.88%)          \n",
              "4   objects (0.66%)      \n",
              "5   accelerator (5.81%)  \n",
              "6   In (3.07%)           \n",
              "7   consist (1.57%)      "
            ],
            "text/html": [
              "\n",
              "  <div id=\"df-d5753261-8206-4d5f-abc4-714caa472fa5\" class=\"colab-df-container\">\n",
              "    <div>\n",
              "<style scoped>\n",
              "    .dataframe tbody tr th:only-of-type {\n",
              "        vertical-align: middle;\n",
              "    }\n",
              "\n",
              "    .dataframe tbody tr th {\n",
              "        vertical-align: top;\n",
              "    }\n",
              "\n",
              "    .dataframe thead th {\n",
              "        text-align: right;\n",
              "    }\n",
              "</style>\n",
              "<table border=\"1\" class=\"dataframe\">\n",
              "  <thead>\n",
              "    <tr style=\"text-align: right;\">\n",
              "      <th></th>\n",
              "      <th>Input</th>\n",
              "      <th>Choice 1</th>\n",
              "      <th>Choice 2</th>\n",
              "      <th>Choice 3</th>\n",
              "      <th>Choice 4</th>\n",
              "      <th>Choice 5</th>\n",
              "    </tr>\n",
              "  </thead>\n",
              "  <tbody>\n",
              "    <tr>\n",
              "      <th>0</th>\n",
              "      <td>Transformers are the</td>\n",
              "      <td>most (9.76%)</td>\n",
              "      <td>same (2.94%)</td>\n",
              "      <td>only (2.87%)</td>\n",
              "      <td>best (2.38%)</td>\n",
              "      <td>first (1.77%)</td>\n",
              "    </tr>\n",
              "    <tr>\n",
              "      <th>1</th>\n",
              "      <td>Transformers are the most</td>\n",
              "      <td>common (22.90%)</td>\n",
              "      <td>powerful (6.88%)</td>\n",
              "      <td>important (6.32%)</td>\n",
              "      <td>popular (3.95%)</td>\n",
              "      <td>commonly (2.14%)</td>\n",
              "    </tr>\n",
              "    <tr>\n",
              "      <th>2</th>\n",
              "      <td>Transformers are the most common</td>\n",
              "      <td>type (15.06%)</td>\n",
              "      <td>types (3.31%)</td>\n",
              "      <td>form (1.91%)</td>\n",
              "      <td>way (1.89%)</td>\n",
              "      <td>and (1.49%)</td>\n",
              "    </tr>\n",
              "    <tr>\n",
              "      <th>3</th>\n",
              "      <td>Transformers are the most common type</td>\n",
              "      <td>of (83.13%)</td>\n",
              "      <td>in (3.16%)</td>\n",
              "      <td>. (1.92%)</td>\n",
              "      <td>, (1.63%)</td>\n",
              "      <td>for (0.88%)</td>\n",
              "    </tr>\n",
              "    <tr>\n",
              "      <th>4</th>\n",
              "      <td>Transformers are the most common type of</td>\n",
              "      <td>particle (1.55%)</td>\n",
              "      <td>object (1.02%)</td>\n",
              "      <td>light (0.71%)</td>\n",
              "      <td>energy (0.67%)</td>\n",
              "      <td>objects (0.66%)</td>\n",
              "    </tr>\n",
              "    <tr>\n",
              "      <th>5</th>\n",
              "      <td>Transformers are the most common type of particle</td>\n",
              "      <td>. (14.26%)</td>\n",
              "      <td>in (11.57%)</td>\n",
              "      <td>that (10.19%)</td>\n",
              "      <td>, (9.57%)</td>\n",
              "      <td>accelerator (5.81%)</td>\n",
              "    </tr>\n",
              "    <tr>\n",
              "      <th>6</th>\n",
              "      <td>Transformers are the most common type of particle.</td>\n",
              "      <td>They (17.48%)</td>\n",
              "      <td>\\n (15.19%)</td>\n",
              "      <td>The (7.06%)</td>\n",
              "      <td>These (3.09%)</td>\n",
              "      <td>In (3.07%)</td>\n",
              "    </tr>\n",
              "    <tr>\n",
              "      <th>7</th>\n",
              "      <td>Transformers are the most common type of particle. They</td>\n",
              "      <td>are (38.78%)</td>\n",
              "      <td>have (8.14%)</td>\n",
              "      <td>can (7.98%)</td>\n",
              "      <td>'re (5.04%)</td>\n",
              "      <td>consist (1.57%)</td>\n",
              "    </tr>\n",
              "  </tbody>\n",
              "</table>\n",
              "</div>\n",
              "    <div class=\"colab-df-buttons\">\n",
              "\n",
              "  <div class=\"colab-df-container\">\n",
              "    <button class=\"colab-df-convert\" onclick=\"convertToInteractive('df-d5753261-8206-4d5f-abc4-714caa472fa5')\"\n",
              "            title=\"Convert this dataframe to an interactive table.\"\n",
              "            style=\"display:none;\">\n",
              "\n",
              "  <svg xmlns=\"http://www.w3.org/2000/svg\" height=\"24px\" viewBox=\"0 -960 960 960\">\n",
              "    <path d=\"M120-120v-720h720v720H120Zm60-500h600v-160H180v160Zm220 220h160v-160H400v160Zm0 220h160v-160H400v160ZM180-400h160v-160H180v160Zm440 0h160v-160H620v160ZM180-180h160v-160H180v160Zm440 0h160v-160H620v160Z\"/>\n",
              "  </svg>\n",
              "    </button>\n",
              "\n",
              "  <style>\n",
              "    .colab-df-container {\n",
              "      display:flex;\n",
              "      gap: 12px;\n",
              "    }\n",
              "\n",
              "    .colab-df-convert {\n",
              "      background-color: #E8F0FE;\n",
              "      border: none;\n",
              "      border-radius: 50%;\n",
              "      cursor: pointer;\n",
              "      display: none;\n",
              "      fill: #1967D2;\n",
              "      height: 32px;\n",
              "      padding: 0 0 0 0;\n",
              "      width: 32px;\n",
              "    }\n",
              "\n",
              "    .colab-df-convert:hover {\n",
              "      background-color: #E2EBFA;\n",
              "      box-shadow: 0px 1px 2px rgba(60, 64, 67, 0.3), 0px 1px 3px 1px rgba(60, 64, 67, 0.15);\n",
              "      fill: #174EA6;\n",
              "    }\n",
              "\n",
              "    .colab-df-buttons div {\n",
              "      margin-bottom: 4px;\n",
              "    }\n",
              "\n",
              "    [theme=dark] .colab-df-convert {\n",
              "      background-color: #3B4455;\n",
              "      fill: #D2E3FC;\n",
              "    }\n",
              "\n",
              "    [theme=dark] .colab-df-convert:hover {\n",
              "      background-color: #434B5C;\n",
              "      box-shadow: 0px 1px 3px 1px rgba(0, 0, 0, 0.15);\n",
              "      filter: drop-shadow(0px 1px 2px rgba(0, 0, 0, 0.3));\n",
              "      fill: #FFFFFF;\n",
              "    }\n",
              "  </style>\n",
              "\n",
              "    <script>\n",
              "      const buttonEl =\n",
              "        document.querySelector('#df-d5753261-8206-4d5f-abc4-714caa472fa5 button.colab-df-convert');\n",
              "      buttonEl.style.display =\n",
              "        google.colab.kernel.accessAllowed ? 'block' : 'none';\n",
              "\n",
              "      async function convertToInteractive(key) {\n",
              "        const element = document.querySelector('#df-d5753261-8206-4d5f-abc4-714caa472fa5');\n",
              "        const dataTable =\n",
              "          await google.colab.kernel.invokeFunction('convertToInteractive',\n",
              "                                                    [key], {});\n",
              "        if (!dataTable) return;\n",
              "\n",
              "        const docLinkHtml = 'Like what you see? Visit the ' +\n",
              "          '<a target=\"_blank\" href=https://colab.research.google.com/notebooks/data_table.ipynb>data table notebook</a>'\n",
              "          + ' to learn more about interactive tables.';\n",
              "        element.innerHTML = '';\n",
              "        dataTable['output_type'] = 'display_data';\n",
              "        await google.colab.output.renderOutput(dataTable, element);\n",
              "        const docLink = document.createElement('div');\n",
              "        docLink.innerHTML = docLinkHtml;\n",
              "        element.appendChild(docLink);\n",
              "      }\n",
              "    </script>\n",
              "  </div>\n",
              "\n",
              "\n",
              "<div id=\"df-95307a0a-5eb5-49d7-ae26-85655fd85c82\">\n",
              "  <button class=\"colab-df-quickchart\" onclick=\"quickchart('df-95307a0a-5eb5-49d7-ae26-85655fd85c82')\"\n",
              "            title=\"Suggest charts\"\n",
              "            style=\"display:none;\">\n",
              "\n",
              "<svg xmlns=\"http://www.w3.org/2000/svg\" height=\"24px\"viewBox=\"0 0 24 24\"\n",
              "     width=\"24px\">\n",
              "    <g>\n",
              "        <path d=\"M19 3H5c-1.1 0-2 .9-2 2v14c0 1.1.9 2 2 2h14c1.1 0 2-.9 2-2V5c0-1.1-.9-2-2-2zM9 17H7v-7h2v7zm4 0h-2V7h2v10zm4 0h-2v-4h2v4z\"/>\n",
              "    </g>\n",
              "</svg>\n",
              "  </button>\n",
              "\n",
              "<style>\n",
              "  .colab-df-quickchart {\n",
              "      --bg-color: #E8F0FE;\n",
              "      --fill-color: #1967D2;\n",
              "      --hover-bg-color: #E2EBFA;\n",
              "      --hover-fill-color: #174EA6;\n",
              "      --disabled-fill-color: #AAA;\n",
              "      --disabled-bg-color: #DDD;\n",
              "  }\n",
              "\n",
              "  [theme=dark] .colab-df-quickchart {\n",
              "      --bg-color: #3B4455;\n",
              "      --fill-color: #D2E3FC;\n",
              "      --hover-bg-color: #434B5C;\n",
              "      --hover-fill-color: #FFFFFF;\n",
              "      --disabled-bg-color: #3B4455;\n",
              "      --disabled-fill-color: #666;\n",
              "  }\n",
              "\n",
              "  .colab-df-quickchart {\n",
              "    background-color: var(--bg-color);\n",
              "    border: none;\n",
              "    border-radius: 50%;\n",
              "    cursor: pointer;\n",
              "    display: none;\n",
              "    fill: var(--fill-color);\n",
              "    height: 32px;\n",
              "    padding: 0;\n",
              "    width: 32px;\n",
              "  }\n",
              "\n",
              "  .colab-df-quickchart:hover {\n",
              "    background-color: var(--hover-bg-color);\n",
              "    box-shadow: 0 1px 2px rgba(60, 64, 67, 0.3), 0 1px 3px 1px rgba(60, 64, 67, 0.15);\n",
              "    fill: var(--button-hover-fill-color);\n",
              "  }\n",
              "\n",
              "  .colab-df-quickchart-complete:disabled,\n",
              "  .colab-df-quickchart-complete:disabled:hover {\n",
              "    background-color: var(--disabled-bg-color);\n",
              "    fill: var(--disabled-fill-color);\n",
              "    box-shadow: none;\n",
              "  }\n",
              "\n",
              "  .colab-df-spinner {\n",
              "    border: 2px solid var(--fill-color);\n",
              "    border-color: transparent;\n",
              "    border-bottom-color: var(--fill-color);\n",
              "    animation:\n",
              "      spin 1s steps(1) infinite;\n",
              "  }\n",
              "\n",
              "  @keyframes spin {\n",
              "    0% {\n",
              "      border-color: transparent;\n",
              "      border-bottom-color: var(--fill-color);\n",
              "      border-left-color: var(--fill-color);\n",
              "    }\n",
              "    20% {\n",
              "      border-color: transparent;\n",
              "      border-left-color: var(--fill-color);\n",
              "      border-top-color: var(--fill-color);\n",
              "    }\n",
              "    30% {\n",
              "      border-color: transparent;\n",
              "      border-left-color: var(--fill-color);\n",
              "      border-top-color: var(--fill-color);\n",
              "      border-right-color: var(--fill-color);\n",
              "    }\n",
              "    40% {\n",
              "      border-color: transparent;\n",
              "      border-right-color: var(--fill-color);\n",
              "      border-top-color: var(--fill-color);\n",
              "    }\n",
              "    60% {\n",
              "      border-color: transparent;\n",
              "      border-right-color: var(--fill-color);\n",
              "    }\n",
              "    80% {\n",
              "      border-color: transparent;\n",
              "      border-right-color: var(--fill-color);\n",
              "      border-bottom-color: var(--fill-color);\n",
              "    }\n",
              "    90% {\n",
              "      border-color: transparent;\n",
              "      border-bottom-color: var(--fill-color);\n",
              "    }\n",
              "  }\n",
              "</style>\n",
              "\n",
              "  <script>\n",
              "    async function quickchart(key) {\n",
              "      const quickchartButtonEl =\n",
              "        document.querySelector('#' + key + ' button');\n",
              "      quickchartButtonEl.disabled = true;  // To prevent multiple clicks.\n",
              "      quickchartButtonEl.classList.add('colab-df-spinner');\n",
              "      try {\n",
              "        const charts = await google.colab.kernel.invokeFunction(\n",
              "            'suggestCharts', [key], {});\n",
              "      } catch (error) {\n",
              "        console.error('Error during call to suggestCharts:', error);\n",
              "      }\n",
              "      quickchartButtonEl.classList.remove('colab-df-spinner');\n",
              "      quickchartButtonEl.classList.add('colab-df-quickchart-complete');\n",
              "    }\n",
              "    (() => {\n",
              "      let quickchartButtonEl =\n",
              "        document.querySelector('#df-95307a0a-5eb5-49d7-ae26-85655fd85c82 button');\n",
              "      quickchartButtonEl.style.display =\n",
              "        google.colab.kernel.accessAllowed ? 'block' : 'none';\n",
              "    })();\n",
              "  </script>\n",
              "</div>\n",
              "\n",
              "    </div>\n",
              "  </div>\n"
            ],
            "application/vnd.google.colaboratory.intrinsic+json": {
              "type": "dataframe",
              "summary": "{\n  \"name\": \"pd\",\n  \"rows\": 8,\n  \"fields\": [\n    {\n      \"column\": \"Input\",\n      \"properties\": {\n        \"dtype\": \"string\",\n        \"num_unique_values\": 8,\n        \"samples\": [\n          \"Transformers are the most\",\n          \"Transformers are the most common type of particle\",\n          \"Transformers are the\"\n        ],\n        \"semantic_type\": \"\",\n        \"description\": \"\"\n      }\n    },\n    {\n      \"column\": \"Choice 1\",\n      \"properties\": {\n        \"dtype\": \"string\",\n        \"num_unique_values\": 8,\n        \"samples\": [\n          \" common (22.90%)\",\n          \". (14.26%)\",\n          \" most (9.76%)\"\n        ],\n        \"semantic_type\": \"\",\n        \"description\": \"\"\n      }\n    },\n    {\n      \"column\": \"Choice 2\",\n      \"properties\": {\n        \"dtype\": \"string\",\n        \"num_unique_values\": 8,\n        \"samples\": [\n          \" powerful (6.88%)\",\n          \" in (11.57%)\",\n          \" same (2.94%)\"\n        ],\n        \"semantic_type\": \"\",\n        \"description\": \"\"\n      }\n    },\n    {\n      \"column\": \"Choice 3\",\n      \"properties\": {\n        \"dtype\": \"string\",\n        \"num_unique_values\": 8,\n        \"samples\": [\n          \" important (6.32%)\",\n          \" that (10.19%)\",\n          \" only (2.87%)\"\n        ],\n        \"semantic_type\": \"\",\n        \"description\": \"\"\n      }\n    },\n    {\n      \"column\": \"Choice 4\",\n      \"properties\": {\n        \"dtype\": \"string\",\n        \"num_unique_values\": 8,\n        \"samples\": [\n          \" popular (3.95%)\",\n          \", (9.57%)\",\n          \" best (2.38%)\"\n        ],\n        \"semantic_type\": \"\",\n        \"description\": \"\"\n      }\n    },\n    {\n      \"column\": \"Choice 5\",\n      \"properties\": {\n        \"dtype\": \"string\",\n        \"num_unique_values\": 8,\n        \"samples\": [\n          \" commonly (2.14%)\",\n          \" accelerator (5.81%)\",\n          \" first (1.77%)\"\n        ],\n        \"semantic_type\": \"\",\n        \"description\": \"\"\n      }\n    }\n  ]\n}"
            }
          },
          "metadata": {},
          "execution_count": 22
        }
      ]
    },
    {
      "cell_type": "code",
      "source": [
        "input_ids = tokenizer(input_txt, return_tensors=\"pt\")['input_ids'].to(device)\n",
        "output = model.generate(input_ids, max_new_tokens=n_steps, do_sample=False)\n",
        "output"
      ],
      "metadata": {
        "colab": {
          "base_uri": "https://localhost:8080/"
        },
        "id": "Q--abE53mu2I",
        "outputId": "8444e241-0edf-4b05-df35-e4bb0842eb31"
      },
      "execution_count": 23,
      "outputs": [
        {
          "output_type": "execute_result",
          "data": {
            "text/plain": [
              "tensor([[41762,   364,   389,   262,   749,  2219,  2099,   286, 18758,    13,\n",
              "          1119,   389]])"
            ]
          },
          "metadata": {},
          "execution_count": 23
        }
      ]
    },
    {
      "cell_type": "code",
      "source": [
        "tokenizer.decode(output[0])"
      ],
      "metadata": {
        "colab": {
          "base_uri": "https://localhost:8080/",
          "height": 35
        },
        "id": "pJsSKKzkpSzS",
        "outputId": "6f649a27-5aea-46ba-97c9-26bcabda2b5b"
      },
      "execution_count": 24,
      "outputs": [
        {
          "output_type": "execute_result",
          "data": {
            "text/plain": [
              "'Transformers are the most common type of particle. They are'"
            ],
            "application/vnd.google.colaboratory.intrinsic+json": {
              "type": "string"
            }
          },
          "metadata": {},
          "execution_count": 24
        }
      ]
    },
    {
      "cell_type": "code",
      "source": [
        "help(model.generate)"
      ],
      "metadata": {
        "colab": {
          "base_uri": "https://localhost:8080/"
        },
        "id": "HalrUjYXpWY9",
        "outputId": "0bd17bdb-22eb-483d-dc36-5ba48e0a5528"
      },
      "execution_count": 25,
      "outputs": [
        {
          "output_type": "stream",
          "name": "stdout",
          "text": [
            "Help on method generate in module transformers.generation_utils:\n",
            "\n",
            "generate(inputs: Optional[torch.Tensor] = None, max_length: Optional[int] = None, min_length: Optional[int] = None, do_sample: Optional[bool] = None, early_stopping: Optional[bool] = None, num_beams: Optional[int] = None, temperature: Optional[float] = None, top_k: Optional[int] = None, top_p: Optional[float] = None, repetition_penalty: Optional[float] = None, bad_words_ids: Optional[Iterable[int]] = None, bos_token_id: Optional[int] = None, pad_token_id: Optional[int] = None, eos_token_id: Optional[int] = None, length_penalty: Optional[float] = None, no_repeat_ngram_size: Optional[int] = None, encoder_no_repeat_ngram_size: Optional[int] = None, num_return_sequences: Optional[int] = None, max_time: Optional[float] = None, max_new_tokens: Optional[int] = None, decoder_start_token_id: Optional[int] = None, use_cache: Optional[bool] = None, num_beam_groups: Optional[int] = None, diversity_penalty: Optional[float] = None, prefix_allowed_tokens_fn: Optional[Callable[[int, torch.Tensor], List[int]]] = None, logits_processor: Optional[transformers.generation_logits_process.LogitsProcessorList] = [], stopping_criteria: Optional[transformers.generation_stopping_criteria.StoppingCriteriaList] = [], output_attentions: Optional[bool] = None, output_hidden_states: Optional[bool] = None, output_scores: Optional[bool] = None, return_dict_in_generate: Optional[bool] = None, forced_bos_token_id: Optional[int] = None, forced_eos_token_id: Optional[int] = None, remove_invalid_values: Optional[bool] = None, synced_gpus: Optional[bool] = None, **model_kwargs) -> Union[transformers.generation_utils.GreedySearchEncoderDecoderOutput, transformers.generation_utils.GreedySearchDecoderOnlyOutput, transformers.generation_utils.SampleEncoderDecoderOutput, transformers.generation_utils.SampleDecoderOnlyOutput, transformers.generation_utils.BeamSearchEncoderDecoderOutput, transformers.generation_utils.BeamSearchDecoderOnlyOutput, transformers.generation_utils.BeamSampleEncoderDecoderOutput, transformers.generation_utils.BeamSampleDecoderOnlyOutput, torch.LongTensor] method of transformers.models.gpt2.modeling_gpt2.GPT2LMHeadModel instance\n",
            "    Generates sequences for models with a language modeling head. The method currently supports greedy decoding,\n",
            "    multinomial sampling, beam-search decoding, and beam-search multinomial sampling.\n",
            "    \n",
            "    Apart from `inputs`, all the arguments below will default to the value of the attribute of the same name inside\n",
            "    the [`PretrainedConfig`] of the model. The default values indicated are the default values of those config.\n",
            "    \n",
            "    Most of these parameters are explained in more detail in [this blog\n",
            "    post](https://huggingface.co/blog/how-to-generate).\n",
            "    \n",
            "    Parameters:\n",
            "    \n",
            "        inputs (`torch.Tensor` of shape `(batch_size, sequence_length)`, `(batch_size, sequence_length,\n",
            "        feature_dim)` or `(batch_size, num_channels, height, width)`, *optional*):\n",
            "            The sequence used as a prompt for the generation or as model inputs to the encoder. If `None` the\n",
            "            method initializes it with `bos_token_id` and a batch size of 1. For decoder-only models `inputs`\n",
            "            should of in the format of `input_ids`. For encoder-decoder models *inputs* can represent any of\n",
            "            `input_ids`, `input_values`, `input_features`, or `pixel_values`.\n",
            "        max_length (`int`, *optional*, defaults to `model.config.max_length`):\n",
            "            The maximum length of the sequence to be generated.\n",
            "        max_new_tokens (`int`, *optional*, defaults to None):\n",
            "            The maximum numbers of tokens to generate, ignore the current number of tokens. Use either\n",
            "            `max_new_tokens` or `max_length` but not both, they serve the same purpose.\n",
            "        min_length (`int`, *optional*, defaults to 10):\n",
            "            The minimum length of the sequence to be generated.\n",
            "        do_sample (`bool`, *optional*, defaults to `False`):\n",
            "            Whether or not to use sampling ; use greedy decoding otherwise.\n",
            "        early_stopping (`bool`, *optional*, defaults to `False`):\n",
            "            Whether to stop the beam search when at least `num_beams` sentences are finished per batch or not.\n",
            "        num_beams (`int`, *optional*, defaults to 1):\n",
            "            Number of beams for beam search. 1 means no beam search.\n",
            "        temperature (`float`, *optional*, defaults to 1.0):\n",
            "            The value used to module the next token probabilities.\n",
            "        top_k (`int`, *optional*, defaults to 50):\n",
            "            The number of highest probability vocabulary tokens to keep for top-k-filtering.\n",
            "        top_p (`float`, *optional*, defaults to 1.0):\n",
            "            If set to float < 1, only the most probable tokens with probabilities that add up to `top_p` or higher\n",
            "            are kept for generation.\n",
            "        repetition_penalty (`float`, *optional*, defaults to 1.0):\n",
            "            The parameter for repetition penalty. 1.0 means no penalty. See [this\n",
            "            paper](https://arxiv.org/pdf/1909.05858.pdf) for more details.\n",
            "        pad_token_id (`int`, *optional*):\n",
            "            The id of the *padding* token.\n",
            "        bos_token_id (`int`, *optional*):\n",
            "            The id of the *beginning-of-sequence* token.\n",
            "        eos_token_id (`int`, *optional*):\n",
            "            The id of the *end-of-sequence* token.\n",
            "        length_penalty (`float`, *optional*, defaults to 1.0):\n",
            "            Exponential penalty to the length. 1.0 means no penalty. Set to values < 1.0 in order to encourage the\n",
            "            model to generate shorter sequences, to a value > 1.0 in order to encourage the model to produce longer\n",
            "            sequences.\n",
            "        no_repeat_ngram_size (`int`, *optional*, defaults to 0):\n",
            "            If set to int > 0, all ngrams of that size can only occur once.\n",
            "        encoder_no_repeat_ngram_size (`int`, *optional*, defaults to 0):\n",
            "            If set to int > 0, all ngrams of that size that occur in the `encoder_input_ids` cannot occur in the\n",
            "            `decoder_input_ids`.\n",
            "        bad_words_ids(`List[List[int]]`, *optional*):\n",
            "            List of token ids that are not allowed to be generated. In order to get the tokens of the words that\n",
            "            should not appear in the generated text, use `tokenizer(bad_word, add_prefix_space=True).input_ids`.\n",
            "        num_return_sequences(`int`, *optional*, defaults to 1):\n",
            "            The number of independently computed returned sequences for each element in the batch.\n",
            "        max_time(`float`, *optional*, defaults to None):\n",
            "            The maximum amount of time you allow the computation to run for in seconds. generation will still\n",
            "            finish the current pass after allocated time has been passed.\n",
            "        attention_mask (`torch.LongTensor` of shape `(batch_size, sequence_length)`, *optional*):\n",
            "            Mask to avoid performing attention on padding token indices. Mask values are in `[0, 1]`, 1 for tokens\n",
            "            that are not masked, and 0 for masked tokens. If not provided, will default to a tensor the same shape\n",
            "            as `input_ids` that masks the pad token. [What are attention masks?](../glossary#attention-mask)\n",
            "        decoder_start_token_id (`int`, *optional*):\n",
            "            If an encoder-decoder model starts decoding with a different token than *bos*, the id of that token.\n",
            "        use_cache: (`bool`, *optional*, defaults to `True`):\n",
            "            Whether or not the model should use the past last key/values attentions (if applicable to the model) to\n",
            "            speed up decoding.\n",
            "        num_beam_groups (`int`, *optional*, defaults to 1):\n",
            "            Number of groups to divide `num_beams` into in order to ensure diversity among different groups of\n",
            "            beams. [this paper](https://arxiv.org/pdf/1610.02424.pdf) for more details.\n",
            "        diversity_penalty (`float`, *optional*, defaults to 0.0):\n",
            "            This value is subtracted from a beam's score if it generates a token same as any beam from other group\n",
            "            at a particular time. Note that `diversity_penalty` is only effective if `group beam search` is\n",
            "            enabled.\n",
            "        prefix_allowed_tokens_fn: (`Callable[[int, torch.Tensor], List[int]]`, *optional*):\n",
            "            If provided, this function constraints the beam search to allowed tokens only at each step. If not\n",
            "            provided no constraint is applied. This function takes 2 arguments: the batch ID `batch_id` and\n",
            "            `input_ids`. It has to return a list with the allowed tokens for the next generation step conditioned\n",
            "            on the batch ID `batch_id` and the previously generated tokens `inputs_ids`. This argument is useful\n",
            "            for constrained generation conditioned on the prefix, as described in [Autoregressive Entity\n",
            "            Retrieval](https://arxiv.org/abs/2010.00904).\n",
            "        logits_processor (`LogitsProcessorList`, *optional*):\n",
            "             Custom logits processors that complement the default logits processors built from arguments and a\n",
            "             model's config. If a logit processor is passed that is already created with the arguments or a model's\n",
            "             config an error is thrown. This feature is intended for advanced users.\n",
            "        stopping_criteria (`StoppingCriteriaList`, *optional*):\n",
            "             Custom stopping criteria that complement the default stopping criteria built from arguments and a\n",
            "             model's config. If a stopping criteria is passed that is already created with the arguments or a\n",
            "             model's config an error is thrown. This feature is intended for advanced users.\n",
            "        output_attentions (`bool`, *optional*, defaults to `False`):\n",
            "            Whether or not to return the attentions tensors of all attention layers. See `attentions` under\n",
            "            returned tensors for more details.\n",
            "        output_hidden_states (`bool`, *optional*, defaults to `False`):\n",
            "            Whether or not to return the hidden states of all layers. See `hidden_states` under returned tensors\n",
            "            for more details.\n",
            "        output_scores (`bool`, *optional*, defaults to `False`):\n",
            "            Whether or not to return the prediction scores. See `scores` under returned tensors for more details.\n",
            "        return_dict_in_generate (`bool`, *optional*, defaults to `False`):\n",
            "            Whether or not to return a [`~file_utils.ModelOutput`] instead of a plain tuple.\n",
            "        forced_bos_token_id (`int`, *optional*):\n",
            "            The id of the token to force as the first generated token after the `decoder_start_token_id`. Useful\n",
            "            for multilingual models like [mBART](../model_doc/mbart) where the first generated token needs to be\n",
            "            the target language token.\n",
            "        forced_eos_token_id (`int`, *optional*):\n",
            "            The id of the token to force as the last generated token when `max_length` is reached.\n",
            "        remove_invalid_values (`bool`, *optional*):\n",
            "            Whether to remove possible *nan* and *inf* outputs of the model to prevent the generation method to\n",
            "            crash. Note that using `remove_invalid_values` can slow down generation.\n",
            "        synced_gpus (`bool`, *optional*, defaults to `False`):\n",
            "            Whether to continue running the while loop until max_length (needed for ZeRO stage 3)\n",
            "    \n",
            "        model_kwargs:\n",
            "            Additional model specific kwargs will be forwarded to the `forward` function of the model. If the model\n",
            "            is an encoder-decoder model, encoder specific kwargs should not be prefixed and decoder specific kwargs\n",
            "            should be prefixed with *decoder_*.\n",
            "    \n",
            "    Return:\n",
            "        [`~file_utils.ModelOutput`] or `torch.LongTensor`: A [`~file_utils.ModelOutput`] (if\n",
            "        `return_dict_in_generate=True` or when `config.return_dict_in_generate=True`) or a `torch.FloatTensor`.\n",
            "    \n",
            "            If the model is *not* an encoder-decoder model (`model.config.is_encoder_decoder=False`), the possible\n",
            "            [`~file_utils.ModelOutput`] types are:\n",
            "    \n",
            "                - [`~generation_utils.GreedySearchDecoderOnlyOutput`],\n",
            "                - [`~generation_utils.SampleDecoderOnlyOutput`],\n",
            "                - [`~generation_utils.BeamSearchDecoderOnlyOutput`],\n",
            "                - [`~generation_utils.BeamSampleDecoderOnlyOutput`]\n",
            "    \n",
            "            If the model is an encoder-decoder model (`model.config.is_encoder_decoder=True`), the possible\n",
            "            [`~file_utils.ModelOutput`] types are:\n",
            "    \n",
            "                - [`~generation_utils.GreedySearchEncoderDecoderOutput`],\n",
            "                - [`~generation_utils.SampleEncoderDecoderOutput`],\n",
            "                - [`~generation_utils.BeamSearchEncoderDecoderOutput`],\n",
            "                - [`~generation_utils.BeamSampleEncoderDecoderOutput`]\n",
            "    \n",
            "    Examples:\n",
            "    \n",
            "    ```python\n",
            "    >>> from transformers import AutoTokenizer, AutoModelForCausalLM, AutoModelForSeq2SeqLM\n",
            "    \n",
            "    >>> tokenizer = AutoTokenizer.from_pretrained(\"distilgpt2\")\n",
            "    >>> model = AutoModelForCausalLM.from_pretrained(\"distilgpt2\")\n",
            "    >>> # do greedy decoding without providing a prompt\n",
            "    >>> outputs = model.generate(max_length=40)\n",
            "    >>> print(\"Generated:\", tokenizer.decode(outputs[0], skip_special_tokens=True))\n",
            "    \n",
            "    >>> tokenizer = AutoTokenizer.from_pretrained(\"t5-base\")\n",
            "    >>> model = AutoModelForSeq2SeqLM.from_pretrained(\"t5-base\")\n",
            "    >>> document = (\n",
            "    ...     \"at least two people were killed in a suspected bomb attack on a passenger bus \"\n",
            "    ...     \"in the strife-torn southern philippines on monday , the military said.\"\n",
            "    ... )\n",
            "    >>> # encode input context\n",
            "    >>> input_ids = tokenizer(document, return_tensors=\"pt\").input_ids\n",
            "    >>> # generate 3 independent sequences using beam search decoding (5 beams)\n",
            "    >>> # with T5 encoder-decoder model conditioned on short news article.\n",
            "    >>> outputs = model.generate(input_ids=input_ids, num_beams=5, num_return_sequences=3)\n",
            "    >>> print(\"Generated:\", tokenizer.batch_decode(outputs, skip_special_tokens=True))\n",
            "    \n",
            "    >>> tokenizer = AutoTokenizer.from_pretrained(\"distilgpt2\")\n",
            "    >>> model = AutoModelForCausalLM.from_pretrained(\"distilgpt2\")\n",
            "    >>> input_context = \"The dog\"\n",
            "    >>> # encode input context\n",
            "    >>> input_ids = tokenizer(input_context, return_tensors=\"pt\").input_ids\n",
            "    >>> # generate 3 candidates using sampling\n",
            "    >>> outputs = model.generate(input_ids=input_ids, max_length=20, num_return_sequences=3, do_sample=True)\n",
            "    >>> print(\"Generated:\", tokenizer.batch_decode(outputs, skip_special_tokens=True))\n",
            "    \n",
            "    >>> tokenizer = AutoTokenizer.from_pretrained(\"ctrl\")\n",
            "    >>> model = AutoModelForCausalLM.from_pretrained(\"ctrl\")\n",
            "    >>> # \"Legal\" is one of the control codes for ctrl\n",
            "    >>> input_context = \"Legal My neighbor is\"\n",
            "    >>> # encode input context\n",
            "    >>> input_ids = tokenizer(input_context, return_tensors=\"pt\").input_ids\n",
            "    >>> outputs = model.generate(input_ids=input_ids, max_length=20, repetition_penalty=1.2)\n",
            "    >>> print(\"Generated:\", tokenizer.decode(outputs[0], skip_special_tokens=True))\n",
            "    \n",
            "    >>> tokenizer = AutoTokenizer.from_pretrained(\"gpt2\", use_fast=False)\n",
            "    >>> model = AutoModelForCausalLM.from_pretrained(\"gpt2\")\n",
            "    >>> input_context = \"My cute dog\"\n",
            "    >>> # get tokens of words that should not be generated\n",
            "    >>> bad_words_ids = tokenizer([\"idiot\", \"stupid\", \"shut up\"], add_prefix_space=True).input_ids\n",
            "    >>> # encode input context\n",
            "    >>> input_ids = tokenizer(input_context, return_tensors=\"pt\").input_ids\n",
            "    >>> # generate sequences without allowing bad_words to be generated\n",
            "    >>> outputs = model.generate(input_ids=input_ids, max_length=20, do_sample=True, bad_words_ids=bad_words_ids)\n",
            "    >>> print(\"Generated:\", tokenizer.decode(outputs[0], skip_special_tokens=True))\n",
            "    ```\n",
            "\n"
          ]
        }
      ]
    },
    {
      "cell_type": "code",
      "source": [
        "max_length = 128\n",
        "input_txt = \"\"\"In a shocking finding, scientist discovered \\\n",
        "a herd of unicorns living in a remote, previously unexplored \\\n",
        "valley, in the Andes Mountains. Even more surprising to the \\\n",
        "researchers was the fact that the unicorns spoke perfect English.\\n\\n\n",
        "\"\"\"\n",
        "input_ids = tokenizer(input_txt, return_tensors=\"pt\")['input_ids'].to(device)\n",
        "output_greedy = model.generate(input_ids, max_length=max_length, do_sample=False)\n",
        "output_greedy"
      ],
      "metadata": {
        "colab": {
          "base_uri": "https://localhost:8080/"
        },
        "id": "D2pCl046p3aD",
        "outputId": "57e93529-cfb1-4619-a2a4-440ab2bd3173"
      },
      "execution_count": 26,
      "outputs": [
        {
          "output_type": "execute_result",
          "data": {
            "text/plain": [
              "tensor([[  818,   257, 14702,  4917,    11, 11444,  5071,   257, 27638,   286,\n",
              "         28000, 19942,  2877,   287,   257,  6569,    11,  4271, 31286,  1850,\n",
              "         19272,    11,   287,   262,   843,   274, 21124,    13,  3412,   517,\n",
              "          6452,   284,   262,  4837,   373,   262,  1109,   326,   262, 28000,\n",
              "         19942,  5158,  2818,  3594,    13,   628,   198,     1,   464, 28000,\n",
              "         19942,   547,   845, 12661,    11,   290,   484,   547,   845, 12661,\n",
              "           553,   531,  1583,    13,  3271,   311,    13,   311, 28210,    11,\n",
              "           257,  6240,   286, 45424,   379,   262,  2059,   286,  3442,    11,\n",
              "         14727,    13,   366,  2990,   547,   845, 12661,    11,   290,   484,\n",
              "           547,   845, 12661,    11,   290,   484,   547,   845, 12661,    11,\n",
              "           290,   484,   547,   845, 12661,    11,   290,   484,   547,   845,\n",
              "         12661,    11,   290,   484,   547,   845, 12661,    11,   290,   484,\n",
              "           547,   845, 12661,    11,   290,   484,   547,   845]])"
            ]
          },
          "metadata": {},
          "execution_count": 26
        }
      ]
    },
    {
      "cell_type": "code",
      "source": [
        "output_greedy.shape"
      ],
      "metadata": {
        "colab": {
          "base_uri": "https://localhost:8080/"
        },
        "id": "7qj7C1ceqTzy",
        "outputId": "0bdd2e1f-88ae-475a-b010-655bf2ab65c0"
      },
      "execution_count": 27,
      "outputs": [
        {
          "output_type": "execute_result",
          "data": {
            "text/plain": [
              "torch.Size([1, 128])"
            ]
          },
          "metadata": {},
          "execution_count": 27
        }
      ]
    },
    {
      "cell_type": "code",
      "source": [
        "tokenizer.decode(output_greedy[0])"
      ],
      "metadata": {
        "colab": {
          "base_uri": "https://localhost:8080/",
          "height": 87
        },
        "id": "0mu_aNOSqWjv",
        "outputId": "3dcb062d-0ea5-4765-aeaa-e8ea68fa601a"
      },
      "execution_count": 28,
      "outputs": [
        {
          "output_type": "execute_result",
          "data": {
            "text/plain": [
              "'In a shocking finding, scientist discovered a herd of unicorns living in a remote, previously unexplored valley, in the Andes Mountains. Even more surprising to the researchers was the fact that the unicorns spoke perfect English.\\n\\n\\n\"The unicorns were very intelligent, and they were very intelligent,\" said Dr. David S. Siegel, a professor of anthropology at the University of California, Berkeley. \"They were very intelligent, and they were very intelligent, and they were very intelligent, and they were very intelligent, and they were very intelligent, and they were very intelligent, and they were very intelligent, and they were very'"
            ],
            "application/vnd.google.colaboratory.intrinsic+json": {
              "type": "string"
            }
          },
          "metadata": {},
          "execution_count": 28
        }
      ]
    },
    {
      "cell_type": "markdown",
      "metadata": {
        "id": "rV3Jl1VKPYs-"
      },
      "source": [
        "## Beam Search Decoding"
      ]
    },
    {
      "cell_type": "markdown",
      "metadata": {
        "id": "4LObvShCPYs-"
      },
      "source": [
        "<img alt=\"Beam search\" width=\"700\" caption=\"Beam search with two beams—the most probable sequences at each timestep are highlighted in blue\" src=\"https://github.com/nlp-with-transformers/notebooks/blob/main/images/chapter05_beam-search.png?raw=1\" id=\"beam-search\"/>"
      ]
    },
    {
      "cell_type": "code",
      "source": [
        "0.5**1024"
      ],
      "metadata": {
        "colab": {
          "base_uri": "https://localhost:8080/"
        },
        "id": "6BiUxsUwB5QP",
        "outputId": "d83229d6-7531-4040-919b-77fc940c011e"
      },
      "execution_count": 29,
      "outputs": [
        {
          "output_type": "execute_result",
          "data": {
            "text/plain": [
              "5.562684646268003e-309"
            ]
          },
          "metadata": {},
          "execution_count": 29
        }
      ]
    },
    {
      "cell_type": "code",
      "source": [
        "import numpy as np\n",
        "\n",
        "np.log(5.562684646268003e-309)"
      ],
      "metadata": {
        "colab": {
          "base_uri": "https://localhost:8080/"
        },
        "id": "OQJ8qcjjCH3I",
        "outputId": "3c1a4ac2-fd83-4b57-c91e-ecf6406dbe16"
      },
      "execution_count": 30,
      "outputs": [
        {
          "output_type": "execute_result",
          "data": {
            "text/plain": [
              "-709.782712893384"
            ]
          },
          "metadata": {},
          "execution_count": 30
        }
      ]
    },
    {
      "cell_type": "markdown",
      "source": [
        "Equivalent to:"
      ],
      "metadata": {
        "id": "FbrPSjs6JRLK"
      }
    },
    {
      "cell_type": "code",
      "source": [
        "1024 * np.log(0.5)"
      ],
      "metadata": {
        "colab": {
          "base_uri": "https://localhost:8080/"
        },
        "id": "lEPfHUuECNWB",
        "outputId": "99c2019e-1778-4295-aca7-55f701763a58"
      },
      "execution_count": 31,
      "outputs": [
        {
          "output_type": "execute_result",
          "data": {
            "text/plain": [
              "-709.782712893384"
            ]
          },
          "metadata": {},
          "execution_count": 31
        }
      ]
    },
    {
      "cell_type": "markdown",
      "source": [
        "And to:"
      ],
      "metadata": {
        "id": "Wv3X8tNYJYS2"
      }
    },
    {
      "cell_type": "code",
      "source": [
        "sum([np.log(0.5)] * 1024)"
      ],
      "metadata": {
        "colab": {
          "base_uri": "https://localhost:8080/"
        },
        "id": "Eo8cNZDTCUkB",
        "outputId": "432a8f1b-ba62-4fde-b579-e7590c116735"
      },
      "execution_count": 32,
      "outputs": [
        {
          "output_type": "execute_result",
          "data": {
            "text/plain": [
              "-709.7827128933695"
            ]
          },
          "metadata": {},
          "execution_count": 32
        }
      ]
    },
    {
      "cell_type": "markdown",
      "source": [
        "This is because log(0.5**1024) = log(0.5 * 0.5 * ... * 0.5) = log(0.5) + log(0.5) + ... + log(0.5), which is the above expression. If 1024 were 2, we would be summing the elements of the following list:"
      ],
      "metadata": {
        "id": "X7uLRotyJiT0"
      }
    },
    {
      "cell_type": "code",
      "source": [
        "[np.log(0.5)] * 2"
      ],
      "metadata": {
        "colab": {
          "base_uri": "https://localhost:8080/"
        },
        "id": "CHv89PCbCft-",
        "outputId": "f5e7e865-f2a7-4f69-9d86-b72648311247"
      },
      "execution_count": 33,
      "outputs": [
        {
          "output_type": "execute_result",
          "data": {
            "text/plain": [
              "[-0.6931471805599453, -0.6931471805599453]"
            ]
          },
          "metadata": {},
          "execution_count": 33
        }
      ]
    },
    {
      "cell_type": "markdown",
      "source": [
        "Now, let's build up a couple of functions:"
      ],
      "metadata": {
        "id": "ICkxwa2SKlVm"
      }
    },
    {
      "cell_type": "code",
      "execution_count": 34,
      "metadata": {
        "id": "r87x1WQKPYtA"
      },
      "outputs": [],
      "source": [
        "# No attempt made at understanding this cell (so far).\n",
        "import torch.nn.functional as F\n",
        "\n",
        "def log_probs_from_logits(logits, labels):\n",
        "    logp = F.log_softmax(logits, dim=-1)\n",
        "    logp_label = torch.gather(logp, 2, labels.unsqueeze(2)).squeeze(-1)\n",
        "    return logp_label"
      ]
    },
    {
      "cell_type": "code",
      "execution_count": 35,
      "metadata": {
        "id": "S7s1GBFRPYtA"
      },
      "outputs": [],
      "source": [
        "# No attempt made at understanding this cell (so far).\n",
        "def sequence_logprob(model, labels, input_len=0):\n",
        "    with torch.no_grad():\n",
        "        output = model(labels)\n",
        "        log_probs = log_probs_from_logits(output.logits[:, :-1, :], labels[:, 1:])\n",
        "        seq_log_prob = torch.sum(log_probs[:, input_len:])\n",
        "    return seq_log_prob.cpu().numpy()"
      ]
    },
    {
      "cell_type": "code",
      "source": [
        "logp = sequence_logprob(model, output_greedy, input_len=len(input_ids[0]))\n",
        "print(tokenizer.decode(output_greedy[0]))\n",
        "print(f\"\\nlog-prob: {logp:.2f}\")"
      ],
      "metadata": {
        "colab": {
          "base_uri": "https://localhost:8080/"
        },
        "id": "Al8vOJtUDhGy",
        "outputId": "3644886f-69be-468d-a81c-5390412fbddf"
      },
      "execution_count": 36,
      "outputs": [
        {
          "output_type": "stream",
          "name": "stdout",
          "text": [
            "In a shocking finding, scientist discovered a herd of unicorns living in a\n",
            "remote, previously unexplored valley, in the Andes Mountains. Even more\n",
            "surprising to the researchers was the fact that the unicorns spoke perfect\n",
            "English.\n",
            "\n",
            "\n",
            "\"The unicorns were very intelligent, and they were very intelligent,\" said Dr.\n",
            "David S. Siegel, a professor of anthropology at the University of California,\n",
            "Berkeley. \"They were very intelligent, and they were very intelligent, and they\n",
            "were very intelligent, and they were very intelligent, and they were very\n",
            "intelligent, and they were very intelligent, and they were very intelligent, and\n",
            "they were very\n",
            "\n",
            "log-prob: -83.32\n"
          ]
        }
      ]
    },
    {
      "cell_type": "code",
      "source": [
        "output_beam = model.generate(input_ids, max_length=max_length, num_beams=5, do_sample=False)\n",
        "logp = sequence_logprob(model, output_beam, input_len=len(input_ids[0]))\n",
        "print(tokenizer.decode(output_beam[0]))\n",
        "print(f\"\\nlog-prob: {logp:.2f}\")"
      ],
      "metadata": {
        "colab": {
          "base_uri": "https://localhost:8080/"
        },
        "id": "NxSHuyQfGhS7",
        "outputId": "7f1781d7-e7ec-4d40-c031-ab437d797f43"
      },
      "execution_count": 37,
      "outputs": [
        {
          "output_type": "stream",
          "name": "stdout",
          "text": [
            "In a shocking finding, scientist discovered a herd of unicorns living in a\n",
            "remote, previously unexplored valley, in the Andes Mountains. Even more\n",
            "surprising to the researchers was the fact that the unicorns spoke perfect\n",
            "English.\n",
            "\n",
            "\n",
            "The researchers, from the University of California, San Diego, and the\n",
            "University of California, Santa Cruz, found that the unicorns were able to\n",
            "communicate with each other in a way that was similar to that of human speech.\n",
            "\n",
            "\n",
            "\"The unicorns were able to communicate with each other in a way that was similar\n",
            "to that of human speech,\" said study co-lead author Dr. David J.\n",
            "\n",
            "log-prob: -78.34\n"
          ]
        }
      ]
    },
    {
      "cell_type": "code",
      "source": [
        "output_beam = model.generate(input_ids, max_length=max_length, num_beams=5, do_sample=False, no_repeat_ngram_size=2)\n",
        "logp = sequence_logprob(model, output_beam, input_len=len(input_ids[0]))\n",
        "print(tokenizer.decode(output_beam[0]))\n",
        "print(f\"\\nlog-prob: {logp:.2f}\")"
      ],
      "metadata": {
        "colab": {
          "base_uri": "https://localhost:8080/"
        },
        "id": "PSYMqxEfHzQF",
        "outputId": "517d4dd3-6f2b-471b-a2a0-bd1010e7b26c"
      },
      "execution_count": 38,
      "outputs": [
        {
          "output_type": "stream",
          "name": "stdout",
          "text": [
            "In a shocking finding, scientist discovered a herd of unicorns living in a\n",
            "remote, previously unexplored valley, in the Andes Mountains. Even more\n",
            "surprising to the researchers was the fact that the unicorns spoke perfect\n",
            "English.\n",
            "\n",
            "\n",
            "The researchers, from the University of California, San Diego, and the National\n",
            "Science Foundation (NSF) in Boulder, Colorado, were able to translate the words\n",
            "of the unicorn into English, which they then translated into Spanish.\n",
            "\n",
            "\"This is the first time that we have translated a language into an English\n",
            "language,\" said study co-author and NSF professor of linguistics and\n",
            "evolutionary biology Dr.\n",
            "\n",
            "log-prob: -101.87\n"
          ]
        }
      ]
    },
    {
      "cell_type": "markdown",
      "metadata": {
        "id": "qqZxJEG6PYtB"
      },
      "source": [
        "## Sampling Methods"
      ]
    },
    {
      "cell_type": "code",
      "execution_count": 39,
      "metadata": {
        "id": "aU1umby6PYtB",
        "outputId": "af6ec348-89a6-407e-e0b5-1e9a9f304420",
        "colab": {
          "base_uri": "https://localhost:8080/",
          "height": 382
        }
      },
      "outputs": [
        {
          "output_type": "display_data",
          "data": {
            "text/plain": [
              "<Figure size 600x400 with 1 Axes>"
            ],
            "image/svg+xml": "<?xml version=\"1.0\" encoding=\"utf-8\" standalone=\"no\"?>\n<!DOCTYPE svg PUBLIC \"-//W3C//DTD SVG 1.1//EN\"\n  \"http://www.w3.org/Graphics/SVG/1.1/DTD/svg11.dtd\">\n<svg xmlns:xlink=\"http://www.w3.org/1999/xlink\" width=\"406.523986pt\" height=\"270.3875pt\" viewBox=\"0 0 406.523986 270.3875\" xmlns=\"http://www.w3.org/2000/svg\" version=\"1.1\">\n <metadata>\n  <rdf:RDF xmlns:dc=\"http://purl.org/dc/elements/1.1/\" xmlns:cc=\"http://creativecommons.org/ns#\" xmlns:rdf=\"http://www.w3.org/1999/02/22-rdf-syntax-ns#\">\n   <cc:Work>\n    <dc:type rdf:resource=\"http://purl.org/dc/dcmitype/StillImage\"/>\n    <dc:date>2024-11-07T10:22:36.635062</dc:date>\n    <dc:format>image/svg+xml</dc:format>\n    <dc:creator>\n     <cc:Agent>\n      <dc:title>Matplotlib v3.8.0, https://matplotlib.org/</dc:title>\n     </cc:Agent>\n    </dc:creator>\n   </cc:Work>\n  </rdf:RDF>\n </metadata>\n <defs>\n  <style type=\"text/css\">*{stroke-linejoin: round; stroke-linecap: butt}</style>\n </defs>\n <g id=\"figure_1\">\n  <g id=\"patch_1\">\n   <path d=\"M 0 270.3875 \nL 406.523986 270.3875 \nL 406.523986 0 \nL 0 0 \nz\n\" style=\"fill: #ffffff\"/>\n  </g>\n  <g id=\"axes_1\">\n   <g id=\"patch_2\">\n    <path d=\"M 64.1675 228.96 \nL 398.9675 228.96 \nL 398.9675 7.2 \nL 64.1675 7.2 \nz\n\" style=\"fill: #ffffff\"/>\n   </g>\n   <g id=\"matplotlib.axis_1\">\n    <g id=\"xtick_1\">\n     <g id=\"line2d_1\">\n      <defs>\n       <path id=\"mc38f3c01aa\" d=\"M 0 0 \nL 0 3.5 \n\" style=\"stroke: #000000; stroke-width: 0.8\"/>\n      </defs>\n      <g>\n       <use xlink:href=\"#mc38f3c01aa\" x=\"79.385682\" y=\"228.96\" style=\"stroke: #000000; stroke-width: 0.8\"/>\n      </g>\n     </g>\n     <g id=\"text_1\">\n      <!-- 0 -->\n      <g transform=\"translate(75.568182 245.078125) scale(0.12 -0.12)\">\n       <defs>\n        <path id=\"DejaVuSans-30\" d=\"M 2034 4250 \nQ 1547 4250 1301 3770 \nQ 1056 3291 1056 2328 \nQ 1056 1369 1301 889 \nQ 1547 409 2034 409 \nQ 2525 409 2770 889 \nQ 3016 1369 3016 2328 \nQ 3016 3291 2770 3770 \nQ 2525 4250 2034 4250 \nz\nM 2034 4750 \nQ 2819 4750 3233 4129 \nQ 3647 3509 3647 2328 \nQ 3647 1150 3233 529 \nQ 2819 -91 2034 -91 \nQ 1250 -91 836 529 \nQ 422 1150 422 2328 \nQ 422 3509 836 4129 \nQ 1250 4750 2034 4750 \nz\n\" transform=\"scale(0.015625)\"/>\n       </defs>\n       <use xlink:href=\"#DejaVuSans-30\"/>\n      </g>\n     </g>\n    </g>\n    <g id=\"xtick_2\">\n     <g id=\"line2d_2\">\n      <g>\n       <use xlink:href=\"#mc38f3c01aa\" x=\"140.319343\" y=\"228.96\" style=\"stroke: #000000; stroke-width: 0.8\"/>\n      </g>\n     </g>\n     <g id=\"text_2\">\n      <!-- 200 -->\n      <g transform=\"translate(128.866843 245.078125) scale(0.12 -0.12)\">\n       <defs>\n        <path id=\"DejaVuSans-32\" d=\"M 1228 531 \nL 3431 531 \nL 3431 0 \nL 469 0 \nL 469 531 \nQ 828 903 1448 1529 \nQ 2069 2156 2228 2338 \nQ 2531 2678 2651 2914 \nQ 2772 3150 2772 3378 \nQ 2772 3750 2511 3984 \nQ 2250 4219 1831 4219 \nQ 1534 4219 1204 4116 \nQ 875 4013 500 3803 \nL 500 4441 \nQ 881 4594 1212 4672 \nQ 1544 4750 1819 4750 \nQ 2544 4750 2975 4387 \nQ 3406 4025 3406 3419 \nQ 3406 3131 3298 2873 \nQ 3191 2616 2906 2266 \nQ 2828 2175 2409 1742 \nQ 1991 1309 1228 531 \nz\n\" transform=\"scale(0.015625)\"/>\n       </defs>\n       <use xlink:href=\"#DejaVuSans-32\"/>\n       <use xlink:href=\"#DejaVuSans-30\" x=\"63.623047\"/>\n       <use xlink:href=\"#DejaVuSans-30\" x=\"127.246094\"/>\n      </g>\n     </g>\n    </g>\n    <g id=\"xtick_3\">\n     <g id=\"line2d_3\">\n      <g>\n       <use xlink:href=\"#mc38f3c01aa\" x=\"201.253004\" y=\"228.96\" style=\"stroke: #000000; stroke-width: 0.8\"/>\n      </g>\n     </g>\n     <g id=\"text_3\">\n      <!-- 400 -->\n      <g transform=\"translate(189.800504 245.078125) scale(0.12 -0.12)\">\n       <defs>\n        <path id=\"DejaVuSans-34\" d=\"M 2419 4116 \nL 825 1625 \nL 2419 1625 \nL 2419 4116 \nz\nM 2253 4666 \nL 3047 4666 \nL 3047 1625 \nL 3713 1625 \nL 3713 1100 \nL 3047 1100 \nL 3047 0 \nL 2419 0 \nL 2419 1100 \nL 313 1100 \nL 313 1709 \nL 2253 4666 \nz\n\" transform=\"scale(0.015625)\"/>\n       </defs>\n       <use xlink:href=\"#DejaVuSans-34\"/>\n       <use xlink:href=\"#DejaVuSans-30\" x=\"63.623047\"/>\n       <use xlink:href=\"#DejaVuSans-30\" x=\"127.246094\"/>\n      </g>\n     </g>\n    </g>\n    <g id=\"xtick_4\">\n     <g id=\"line2d_4\">\n      <g>\n       <use xlink:href=\"#mc38f3c01aa\" x=\"262.186665\" y=\"228.96\" style=\"stroke: #000000; stroke-width: 0.8\"/>\n      </g>\n     </g>\n     <g id=\"text_4\">\n      <!-- 600 -->\n      <g transform=\"translate(250.734165 245.078125) scale(0.12 -0.12)\">\n       <defs>\n        <path id=\"DejaVuSans-36\" d=\"M 2113 2584 \nQ 1688 2584 1439 2293 \nQ 1191 2003 1191 1497 \nQ 1191 994 1439 701 \nQ 1688 409 2113 409 \nQ 2538 409 2786 701 \nQ 3034 994 3034 1497 \nQ 3034 2003 2786 2293 \nQ 2538 2584 2113 2584 \nz\nM 3366 4563 \nL 3366 3988 \nQ 3128 4100 2886 4159 \nQ 2644 4219 2406 4219 \nQ 1781 4219 1451 3797 \nQ 1122 3375 1075 2522 \nQ 1259 2794 1537 2939 \nQ 1816 3084 2150 3084 \nQ 2853 3084 3261 2657 \nQ 3669 2231 3669 1497 \nQ 3669 778 3244 343 \nQ 2819 -91 2113 -91 \nQ 1303 -91 875 529 \nQ 447 1150 447 2328 \nQ 447 3434 972 4092 \nQ 1497 4750 2381 4750 \nQ 2619 4750 2861 4703 \nQ 3103 4656 3366 4563 \nz\n\" transform=\"scale(0.015625)\"/>\n       </defs>\n       <use xlink:href=\"#DejaVuSans-36\"/>\n       <use xlink:href=\"#DejaVuSans-30\" x=\"63.623047\"/>\n       <use xlink:href=\"#DejaVuSans-30\" x=\"127.246094\"/>\n      </g>\n     </g>\n    </g>\n    <g id=\"xtick_5\">\n     <g id=\"line2d_5\">\n      <g>\n       <use xlink:href=\"#mc38f3c01aa\" x=\"323.120326\" y=\"228.96\" style=\"stroke: #000000; stroke-width: 0.8\"/>\n      </g>\n     </g>\n     <g id=\"text_5\">\n      <!-- 800 -->\n      <g transform=\"translate(311.667826 245.078125) scale(0.12 -0.12)\">\n       <defs>\n        <path id=\"DejaVuSans-38\" d=\"M 2034 2216 \nQ 1584 2216 1326 1975 \nQ 1069 1734 1069 1313 \nQ 1069 891 1326 650 \nQ 1584 409 2034 409 \nQ 2484 409 2743 651 \nQ 3003 894 3003 1313 \nQ 3003 1734 2745 1975 \nQ 2488 2216 2034 2216 \nz\nM 1403 2484 \nQ 997 2584 770 2862 \nQ 544 3141 544 3541 \nQ 544 4100 942 4425 \nQ 1341 4750 2034 4750 \nQ 2731 4750 3128 4425 \nQ 3525 4100 3525 3541 \nQ 3525 3141 3298 2862 \nQ 3072 2584 2669 2484 \nQ 3125 2378 3379 2068 \nQ 3634 1759 3634 1313 \nQ 3634 634 3220 271 \nQ 2806 -91 2034 -91 \nQ 1263 -91 848 271 \nQ 434 634 434 1313 \nQ 434 1759 690 2068 \nQ 947 2378 1403 2484 \nz\nM 1172 3481 \nQ 1172 3119 1398 2916 \nQ 1625 2713 2034 2713 \nQ 2441 2713 2670 2916 \nQ 2900 3119 2900 3481 \nQ 2900 3844 2670 4047 \nQ 2441 4250 2034 4250 \nQ 1625 4250 1398 4047 \nQ 1172 3844 1172 3481 \nz\n\" transform=\"scale(0.015625)\"/>\n       </defs>\n       <use xlink:href=\"#DejaVuSans-38\"/>\n       <use xlink:href=\"#DejaVuSans-30\" x=\"63.623047\"/>\n       <use xlink:href=\"#DejaVuSans-30\" x=\"127.246094\"/>\n      </g>\n     </g>\n    </g>\n    <g id=\"xtick_6\">\n     <g id=\"line2d_6\">\n      <g>\n       <use xlink:href=\"#mc38f3c01aa\" x=\"384.053986\" y=\"228.96\" style=\"stroke: #000000; stroke-width: 0.8\"/>\n      </g>\n     </g>\n     <g id=\"text_6\">\n      <!-- 1000 -->\n      <g transform=\"translate(368.783986 245.078125) scale(0.12 -0.12)\">\n       <defs>\n        <path id=\"DejaVuSans-31\" d=\"M 794 531 \nL 1825 531 \nL 1825 4091 \nL 703 3866 \nL 703 4441 \nL 1819 4666 \nL 2450 4666 \nL 2450 531 \nL 3481 531 \nL 3481 0 \nL 794 0 \nL 794 531 \nz\n\" transform=\"scale(0.015625)\"/>\n       </defs>\n       <use xlink:href=\"#DejaVuSans-31\"/>\n       <use xlink:href=\"#DejaVuSans-30\" x=\"63.623047\"/>\n       <use xlink:href=\"#DejaVuSans-30\" x=\"127.246094\"/>\n       <use xlink:href=\"#DejaVuSans-30\" x=\"190.869141\"/>\n      </g>\n     </g>\n    </g>\n    <g id=\"text_7\">\n     <!-- Sorted token probabilities -->\n     <g transform=\"translate(154.235 260.691875) scale(0.12 -0.12)\">\n      <defs>\n       <path id=\"DejaVuSans-53\" d=\"M 3425 4513 \nL 3425 3897 \nQ 3066 4069 2747 4153 \nQ 2428 4238 2131 4238 \nQ 1616 4238 1336 4038 \nQ 1056 3838 1056 3469 \nQ 1056 3159 1242 3001 \nQ 1428 2844 1947 2747 \nL 2328 2669 \nQ 3034 2534 3370 2195 \nQ 3706 1856 3706 1288 \nQ 3706 609 3251 259 \nQ 2797 -91 1919 -91 \nQ 1588 -91 1214 -16 \nQ 841 59 441 206 \nL 441 856 \nQ 825 641 1194 531 \nQ 1563 422 1919 422 \nQ 2459 422 2753 634 \nQ 3047 847 3047 1241 \nQ 3047 1584 2836 1778 \nQ 2625 1972 2144 2069 \nL 1759 2144 \nQ 1053 2284 737 2584 \nQ 422 2884 422 3419 \nQ 422 4038 858 4394 \nQ 1294 4750 2059 4750 \nQ 2388 4750 2728 4690 \nQ 3069 4631 3425 4513 \nz\n\" transform=\"scale(0.015625)\"/>\n       <path id=\"DejaVuSans-6f\" d=\"M 1959 3097 \nQ 1497 3097 1228 2736 \nQ 959 2375 959 1747 \nQ 959 1119 1226 758 \nQ 1494 397 1959 397 \nQ 2419 397 2687 759 \nQ 2956 1122 2956 1747 \nQ 2956 2369 2687 2733 \nQ 2419 3097 1959 3097 \nz\nM 1959 3584 \nQ 2709 3584 3137 3096 \nQ 3566 2609 3566 1747 \nQ 3566 888 3137 398 \nQ 2709 -91 1959 -91 \nQ 1206 -91 779 398 \nQ 353 888 353 1747 \nQ 353 2609 779 3096 \nQ 1206 3584 1959 3584 \nz\n\" transform=\"scale(0.015625)\"/>\n       <path id=\"DejaVuSans-72\" d=\"M 2631 2963 \nQ 2534 3019 2420 3045 \nQ 2306 3072 2169 3072 \nQ 1681 3072 1420 2755 \nQ 1159 2438 1159 1844 \nL 1159 0 \nL 581 0 \nL 581 3500 \nL 1159 3500 \nL 1159 2956 \nQ 1341 3275 1631 3429 \nQ 1922 3584 2338 3584 \nQ 2397 3584 2469 3576 \nQ 2541 3569 2628 3553 \nL 2631 2963 \nz\n\" transform=\"scale(0.015625)\"/>\n       <path id=\"DejaVuSans-74\" d=\"M 1172 4494 \nL 1172 3500 \nL 2356 3500 \nL 2356 3053 \nL 1172 3053 \nL 1172 1153 \nQ 1172 725 1289 603 \nQ 1406 481 1766 481 \nL 2356 481 \nL 2356 0 \nL 1766 0 \nQ 1100 0 847 248 \nQ 594 497 594 1153 \nL 594 3053 \nL 172 3053 \nL 172 3500 \nL 594 3500 \nL 594 4494 \nL 1172 4494 \nz\n\" transform=\"scale(0.015625)\"/>\n       <path id=\"DejaVuSans-65\" d=\"M 3597 1894 \nL 3597 1613 \nL 953 1613 \nQ 991 1019 1311 708 \nQ 1631 397 2203 397 \nQ 2534 397 2845 478 \nQ 3156 559 3463 722 \nL 3463 178 \nQ 3153 47 2828 -22 \nQ 2503 -91 2169 -91 \nQ 1331 -91 842 396 \nQ 353 884 353 1716 \nQ 353 2575 817 3079 \nQ 1281 3584 2069 3584 \nQ 2775 3584 3186 3129 \nQ 3597 2675 3597 1894 \nz\nM 3022 2063 \nQ 3016 2534 2758 2815 \nQ 2500 3097 2075 3097 \nQ 1594 3097 1305 2825 \nQ 1016 2553 972 2059 \nL 3022 2063 \nz\n\" transform=\"scale(0.015625)\"/>\n       <path id=\"DejaVuSans-64\" d=\"M 2906 2969 \nL 2906 4863 \nL 3481 4863 \nL 3481 0 \nL 2906 0 \nL 2906 525 \nQ 2725 213 2448 61 \nQ 2172 -91 1784 -91 \nQ 1150 -91 751 415 \nQ 353 922 353 1747 \nQ 353 2572 751 3078 \nQ 1150 3584 1784 3584 \nQ 2172 3584 2448 3432 \nQ 2725 3281 2906 2969 \nz\nM 947 1747 \nQ 947 1113 1208 752 \nQ 1469 391 1925 391 \nQ 2381 391 2643 752 \nQ 2906 1113 2906 1747 \nQ 2906 2381 2643 2742 \nQ 2381 3103 1925 3103 \nQ 1469 3103 1208 2742 \nQ 947 2381 947 1747 \nz\n\" transform=\"scale(0.015625)\"/>\n       <path id=\"DejaVuSans-20\" transform=\"scale(0.015625)\"/>\n       <path id=\"DejaVuSans-6b\" d=\"M 581 4863 \nL 1159 4863 \nL 1159 1991 \nL 2875 3500 \nL 3609 3500 \nL 1753 1863 \nL 3688 0 \nL 2938 0 \nL 1159 1709 \nL 1159 0 \nL 581 0 \nL 581 4863 \nz\n\" transform=\"scale(0.015625)\"/>\n       <path id=\"DejaVuSans-6e\" d=\"M 3513 2113 \nL 3513 0 \nL 2938 0 \nL 2938 2094 \nQ 2938 2591 2744 2837 \nQ 2550 3084 2163 3084 \nQ 1697 3084 1428 2787 \nQ 1159 2491 1159 1978 \nL 1159 0 \nL 581 0 \nL 581 3500 \nL 1159 3500 \nL 1159 2956 \nQ 1366 3272 1645 3428 \nQ 1925 3584 2291 3584 \nQ 2894 3584 3203 3211 \nQ 3513 2838 3513 2113 \nz\n\" transform=\"scale(0.015625)\"/>\n       <path id=\"DejaVuSans-70\" d=\"M 1159 525 \nL 1159 -1331 \nL 581 -1331 \nL 581 3500 \nL 1159 3500 \nL 1159 2969 \nQ 1341 3281 1617 3432 \nQ 1894 3584 2278 3584 \nQ 2916 3584 3314 3078 \nQ 3713 2572 3713 1747 \nQ 3713 922 3314 415 \nQ 2916 -91 2278 -91 \nQ 1894 -91 1617 61 \nQ 1341 213 1159 525 \nz\nM 3116 1747 \nQ 3116 2381 2855 2742 \nQ 2594 3103 2138 3103 \nQ 1681 3103 1420 2742 \nQ 1159 2381 1159 1747 \nQ 1159 1113 1420 752 \nQ 1681 391 2138 391 \nQ 2594 391 2855 752 \nQ 3116 1113 3116 1747 \nz\n\" transform=\"scale(0.015625)\"/>\n       <path id=\"DejaVuSans-62\" d=\"M 3116 1747 \nQ 3116 2381 2855 2742 \nQ 2594 3103 2138 3103 \nQ 1681 3103 1420 2742 \nQ 1159 2381 1159 1747 \nQ 1159 1113 1420 752 \nQ 1681 391 2138 391 \nQ 2594 391 2855 752 \nQ 3116 1113 3116 1747 \nz\nM 1159 2969 \nQ 1341 3281 1617 3432 \nQ 1894 3584 2278 3584 \nQ 2916 3584 3314 3078 \nQ 3713 2572 3713 1747 \nQ 3713 922 3314 415 \nQ 2916 -91 2278 -91 \nQ 1894 -91 1617 61 \nQ 1341 213 1159 525 \nL 1159 0 \nL 581 0 \nL 581 4863 \nL 1159 4863 \nL 1159 2969 \nz\n\" transform=\"scale(0.015625)\"/>\n       <path id=\"DejaVuSans-61\" d=\"M 2194 1759 \nQ 1497 1759 1228 1600 \nQ 959 1441 959 1056 \nQ 959 750 1161 570 \nQ 1363 391 1709 391 \nQ 2188 391 2477 730 \nQ 2766 1069 2766 1631 \nL 2766 1759 \nL 2194 1759 \nz\nM 3341 1997 \nL 3341 0 \nL 2766 0 \nL 2766 531 \nQ 2569 213 2275 61 \nQ 1981 -91 1556 -91 \nQ 1019 -91 701 211 \nQ 384 513 384 1019 \nQ 384 1609 779 1909 \nQ 1175 2209 1959 2209 \nL 2766 2209 \nL 2766 2266 \nQ 2766 2663 2505 2880 \nQ 2244 3097 1772 3097 \nQ 1472 3097 1187 3025 \nQ 903 2953 641 2809 \nL 641 3341 \nQ 956 3463 1253 3523 \nQ 1550 3584 1831 3584 \nQ 2591 3584 2966 3190 \nQ 3341 2797 3341 1997 \nz\n\" transform=\"scale(0.015625)\"/>\n       <path id=\"DejaVuSans-69\" d=\"M 603 3500 \nL 1178 3500 \nL 1178 0 \nL 603 0 \nL 603 3500 \nz\nM 603 4863 \nL 1178 4863 \nL 1178 4134 \nL 603 4134 \nL 603 4863 \nz\n\" transform=\"scale(0.015625)\"/>\n       <path id=\"DejaVuSans-6c\" d=\"M 603 4863 \nL 1178 4863 \nL 1178 0 \nL 603 0 \nL 603 4863 \nz\n\" transform=\"scale(0.015625)\"/>\n       <path id=\"DejaVuSans-73\" d=\"M 2834 3397 \nL 2834 2853 \nQ 2591 2978 2328 3040 \nQ 2066 3103 1784 3103 \nQ 1356 3103 1142 2972 \nQ 928 2841 928 2578 \nQ 928 2378 1081 2264 \nQ 1234 2150 1697 2047 \nL 1894 2003 \nQ 2506 1872 2764 1633 \nQ 3022 1394 3022 966 \nQ 3022 478 2636 193 \nQ 2250 -91 1575 -91 \nQ 1294 -91 989 -36 \nQ 684 19 347 128 \nL 347 722 \nQ 666 556 975 473 \nQ 1284 391 1588 391 \nQ 1994 391 2212 530 \nQ 2431 669 2431 922 \nQ 2431 1156 2273 1281 \nQ 2116 1406 1581 1522 \nL 1381 1569 \nQ 847 1681 609 1914 \nQ 372 2147 372 2553 \nQ 372 3047 722 3315 \nQ 1072 3584 1716 3584 \nQ 2034 3584 2315 3537 \nQ 2597 3491 2834 3397 \nz\n\" transform=\"scale(0.015625)\"/>\n      </defs>\n      <use xlink:href=\"#DejaVuSans-53\"/>\n      <use xlink:href=\"#DejaVuSans-6f\" x=\"63.476562\"/>\n      <use xlink:href=\"#DejaVuSans-72\" x=\"124.658203\"/>\n      <use xlink:href=\"#DejaVuSans-74\" x=\"165.771484\"/>\n      <use xlink:href=\"#DejaVuSans-65\" x=\"204.980469\"/>\n      <use xlink:href=\"#DejaVuSans-64\" x=\"266.503906\"/>\n      <use xlink:href=\"#DejaVuSans-20\" x=\"329.980469\"/>\n      <use xlink:href=\"#DejaVuSans-74\" x=\"361.767578\"/>\n      <use xlink:href=\"#DejaVuSans-6f\" x=\"400.976562\"/>\n      <use xlink:href=\"#DejaVuSans-6b\" x=\"462.158203\"/>\n      <use xlink:href=\"#DejaVuSans-65\" x=\"516.443359\"/>\n      <use xlink:href=\"#DejaVuSans-6e\" x=\"577.966797\"/>\n      <use xlink:href=\"#DejaVuSans-20\" x=\"641.345703\"/>\n      <use xlink:href=\"#DejaVuSans-70\" x=\"673.132812\"/>\n      <use xlink:href=\"#DejaVuSans-72\" x=\"736.609375\"/>\n      <use xlink:href=\"#DejaVuSans-6f\" x=\"775.472656\"/>\n      <use xlink:href=\"#DejaVuSans-62\" x=\"836.654297\"/>\n      <use xlink:href=\"#DejaVuSans-61\" x=\"900.130859\"/>\n      <use xlink:href=\"#DejaVuSans-62\" x=\"961.410156\"/>\n      <use xlink:href=\"#DejaVuSans-69\" x=\"1024.886719\"/>\n      <use xlink:href=\"#DejaVuSans-6c\" x=\"1052.669922\"/>\n      <use xlink:href=\"#DejaVuSans-69\" x=\"1080.453125\"/>\n      <use xlink:href=\"#DejaVuSans-74\" x=\"1108.236328\"/>\n      <use xlink:href=\"#DejaVuSans-69\" x=\"1147.445312\"/>\n      <use xlink:href=\"#DejaVuSans-65\" x=\"1175.228516\"/>\n      <use xlink:href=\"#DejaVuSans-73\" x=\"1236.751953\"/>\n     </g>\n    </g>\n   </g>\n   <g id=\"matplotlib.axis_2\">\n    <g id=\"ytick_1\">\n     <g id=\"line2d_7\">\n      <defs>\n       <path id=\"meba2b83144\" d=\"M 0 0 \nL -3.5 0 \n\" style=\"stroke: #000000; stroke-width: 0.8\"/>\n      </defs>\n      <g>\n       <use xlink:href=\"#meba2b83144\" x=\"64.1675\" y=\"225.61215\" style=\"stroke: #000000; stroke-width: 0.8\"/>\n      </g>\n     </g>\n     <g id=\"text_8\">\n      <!-- 0.000 -->\n      <g transform=\"translate(22.81375 230.171213) scale(0.12 -0.12)\">\n       <defs>\n        <path id=\"DejaVuSans-2e\" d=\"M 684 794 \nL 1344 794 \nL 1344 0 \nL 684 0 \nL 684 794 \nz\n\" transform=\"scale(0.015625)\"/>\n       </defs>\n       <use xlink:href=\"#DejaVuSans-30\"/>\n       <use xlink:href=\"#DejaVuSans-2e\" x=\"63.623047\"/>\n       <use xlink:href=\"#DejaVuSans-30\" x=\"95.410156\"/>\n       <use xlink:href=\"#DejaVuSans-30\" x=\"159.033203\"/>\n       <use xlink:href=\"#DejaVuSans-30\" x=\"222.65625\"/>\n      </g>\n     </g>\n    </g>\n    <g id=\"ytick_2\">\n     <g id=\"line2d_8\">\n      <g>\n       <use xlink:href=\"#meba2b83144\" x=\"64.1675\" y=\"179.255592\" style=\"stroke: #000000; stroke-width: 0.8\"/>\n      </g>\n     </g>\n     <g id=\"text_9\">\n      <!-- 0.001 -->\n      <g transform=\"translate(22.81375 183.814655) scale(0.12 -0.12)\">\n       <use xlink:href=\"#DejaVuSans-30\"/>\n       <use xlink:href=\"#DejaVuSans-2e\" x=\"63.623047\"/>\n       <use xlink:href=\"#DejaVuSans-30\" x=\"95.410156\"/>\n       <use xlink:href=\"#DejaVuSans-30\" x=\"159.033203\"/>\n       <use xlink:href=\"#DejaVuSans-31\" x=\"222.65625\"/>\n      </g>\n     </g>\n    </g>\n    <g id=\"ytick_3\">\n     <g id=\"line2d_9\">\n      <g>\n       <use xlink:href=\"#meba2b83144\" x=\"64.1675\" y=\"132.899034\" style=\"stroke: #000000; stroke-width: 0.8\"/>\n      </g>\n     </g>\n     <g id=\"text_10\">\n      <!-- 0.002 -->\n      <g transform=\"translate(22.81375 137.458097) scale(0.12 -0.12)\">\n       <use xlink:href=\"#DejaVuSans-30\"/>\n       <use xlink:href=\"#DejaVuSans-2e\" x=\"63.623047\"/>\n       <use xlink:href=\"#DejaVuSans-30\" x=\"95.410156\"/>\n       <use xlink:href=\"#DejaVuSans-30\" x=\"159.033203\"/>\n       <use xlink:href=\"#DejaVuSans-32\" x=\"222.65625\"/>\n      </g>\n     </g>\n    </g>\n    <g id=\"ytick_4\">\n     <g id=\"line2d_10\">\n      <g>\n       <use xlink:href=\"#meba2b83144\" x=\"64.1675\" y=\"86.542476\" style=\"stroke: #000000; stroke-width: 0.8\"/>\n      </g>\n     </g>\n     <g id=\"text_11\">\n      <!-- 0.003 -->\n      <g transform=\"translate(22.81375 91.101539) scale(0.12 -0.12)\">\n       <defs>\n        <path id=\"DejaVuSans-33\" d=\"M 2597 2516 \nQ 3050 2419 3304 2112 \nQ 3559 1806 3559 1356 \nQ 3559 666 3084 287 \nQ 2609 -91 1734 -91 \nQ 1441 -91 1130 -33 \nQ 819 25 488 141 \nL 488 750 \nQ 750 597 1062 519 \nQ 1375 441 1716 441 \nQ 2309 441 2620 675 \nQ 2931 909 2931 1356 \nQ 2931 1769 2642 2001 \nQ 2353 2234 1838 2234 \nL 1294 2234 \nL 1294 2753 \nL 1863 2753 \nQ 2328 2753 2575 2939 \nQ 2822 3125 2822 3475 \nQ 2822 3834 2567 4026 \nQ 2313 4219 1838 4219 \nQ 1578 4219 1281 4162 \nQ 984 4106 628 3988 \nL 628 4550 \nQ 988 4650 1302 4700 \nQ 1616 4750 1894 4750 \nQ 2613 4750 3031 4423 \nQ 3450 4097 3450 3541 \nQ 3450 3153 3228 2886 \nQ 3006 2619 2597 2516 \nz\n\" transform=\"scale(0.015625)\"/>\n       </defs>\n       <use xlink:href=\"#DejaVuSans-30\"/>\n       <use xlink:href=\"#DejaVuSans-2e\" x=\"63.623047\"/>\n       <use xlink:href=\"#DejaVuSans-30\" x=\"95.410156\"/>\n       <use xlink:href=\"#DejaVuSans-30\" x=\"159.033203\"/>\n       <use xlink:href=\"#DejaVuSans-33\" x=\"222.65625\"/>\n      </g>\n     </g>\n    </g>\n    <g id=\"ytick_5\">\n     <g id=\"line2d_11\">\n      <g>\n       <use xlink:href=\"#meba2b83144\" x=\"64.1675\" y=\"40.185918\" style=\"stroke: #000000; stroke-width: 0.8\"/>\n      </g>\n     </g>\n     <g id=\"text_12\">\n      <!-- 0.004 -->\n      <g transform=\"translate(22.81375 44.744981) scale(0.12 -0.12)\">\n       <use xlink:href=\"#DejaVuSans-30\"/>\n       <use xlink:href=\"#DejaVuSans-2e\" x=\"63.623047\"/>\n       <use xlink:href=\"#DejaVuSans-30\" x=\"95.410156\"/>\n       <use xlink:href=\"#DejaVuSans-30\" x=\"159.033203\"/>\n       <use xlink:href=\"#DejaVuSans-34\" x=\"222.65625\"/>\n      </g>\n     </g>\n    </g>\n    <g id=\"text_13\">\n     <!-- Probability -->\n     <g transform=\"translate(16.318125 149.794687) rotate(-90) scale(0.12 -0.12)\">\n      <defs>\n       <path id=\"DejaVuSans-50\" d=\"M 1259 4147 \nL 1259 2394 \nL 2053 2394 \nQ 2494 2394 2734 2622 \nQ 2975 2850 2975 3272 \nQ 2975 3691 2734 3919 \nQ 2494 4147 2053 4147 \nL 1259 4147 \nz\nM 628 4666 \nL 2053 4666 \nQ 2838 4666 3239 4311 \nQ 3641 3956 3641 3272 \nQ 3641 2581 3239 2228 \nQ 2838 1875 2053 1875 \nL 1259 1875 \nL 1259 0 \nL 628 0 \nL 628 4666 \nz\n\" transform=\"scale(0.015625)\"/>\n       <path id=\"DejaVuSans-79\" d=\"M 2059 -325 \nQ 1816 -950 1584 -1140 \nQ 1353 -1331 966 -1331 \nL 506 -1331 \nL 506 -850 \nL 844 -850 \nQ 1081 -850 1212 -737 \nQ 1344 -625 1503 -206 \nL 1606 56 \nL 191 3500 \nL 800 3500 \nL 1894 763 \nL 2988 3500 \nL 3597 3500 \nL 2059 -325 \nz\n\" transform=\"scale(0.015625)\"/>\n      </defs>\n      <use xlink:href=\"#DejaVuSans-50\"/>\n      <use xlink:href=\"#DejaVuSans-72\" x=\"58.552734\"/>\n      <use xlink:href=\"#DejaVuSans-6f\" x=\"97.416016\"/>\n      <use xlink:href=\"#DejaVuSans-62\" x=\"158.597656\"/>\n      <use xlink:href=\"#DejaVuSans-61\" x=\"222.074219\"/>\n      <use xlink:href=\"#DejaVuSans-62\" x=\"283.353516\"/>\n      <use xlink:href=\"#DejaVuSans-69\" x=\"346.830078\"/>\n      <use xlink:href=\"#DejaVuSans-6c\" x=\"374.613281\"/>\n      <use xlink:href=\"#DejaVuSans-69\" x=\"402.396484\"/>\n      <use xlink:href=\"#DejaVuSans-74\" x=\"430.179688\"/>\n      <use xlink:href=\"#DejaVuSans-79\" x=\"469.388672\"/>\n     </g>\n    </g>\n   </g>\n   <g id=\"line2d_12\">\n    <path d=\"M 79.385682 17.28 \nL 79.385682 18.02188 \nL 79.995018 18.123591 \nL 79.995018 18.838122 \nL 80.299687 18.838122 \nL 80.299687 19.028663 \nL 80.604355 19.028663 \nL 80.604355 20.53629 \nL 80.909023 20.53629 \nL 80.909023 20.779983 \nL 81.213692 20.779983 \nL 81.213692 22.446477 \nL 81.51836 22.446477 \nL 81.51836 24.462728 \nL 81.823028 24.462728 \nL 81.823028 25.240173 \nL 82.127697 25.240173 \nL 82.127697 27.197304 \nL 82.432365 27.197304 \nL 82.432365 27.767741 \nL 82.737033 27.767741 \nL 82.737033 28.631546 \nL 83.041701 28.631546 \nL 83.041701 29.452185 \nL 83.34637 29.452185 \nL 83.34637 30.428378 \nL 83.651038 30.428378 \nL 83.651038 31.015003 \nL 83.955706 31.015003 \nL 83.955706 33.952125 \nL 84.260375 33.952125 \nL 84.260375 35.444612 \nL 84.565043 35.444612 \nL 84.565043 35.598705 \nL 85.17438 35.613561 \nL 85.17438 36.140046 \nL 85.479048 36.140046 \nL 85.479048 36.454911 \nL 85.783716 36.454911 \nL 85.783716 40.207186 \nL 86.088385 40.207186 \nL 86.088385 40.694584 \nL 86.393053 40.694584 \nL 86.393053 41.115508 \nL 86.697721 41.115508 \nL 86.697721 41.255484 \nL 87.002389 41.255484 \nL 87.002389 42.567275 \nL 87.307058 42.567275 \nL 87.307058 42.93989 \nL 87.611726 42.93989 \nL 87.611726 43.436103 \nL 87.916394 43.436103 \nL 87.916394 44.856934 \nL 88.221063 44.856934 \nL 88.221063 45.411361 \nL 88.830399 45.473943 \nL 88.830399 45.903304 \nL 89.135068 45.903304 \nL 89.135068 46.239484 \nL 89.744404 46.249426 \nL 89.744404 48.111573 \nL 90.049072 48.111573 \nL 90.049072 50.370777 \nL 90.353741 50.370777 \nL 90.353741 51.464485 \nL 90.658409 51.464485 \nL 90.658409 53.069696 \nL 90.963077 53.069696 \nL 90.963077 53.573845 \nL 91.267746 53.573845 \nL 91.267746 54.988393 \nL 91.572414 54.988393 \nL 91.572414 55.237932 \nL 91.877082 55.237932 \nL 91.877082 55.445604 \nL 92.181751 55.445604 \nL 92.181751 56.170401 \nL 92.486419 56.170401 \nL 92.486419 57.239596 \nL 92.791087 57.239596 \nL 92.791087 59.36229 \nL 93.095756 59.36229 \nL 93.095756 61.532364 \nL 93.705092 61.569992 \nL 93.705092 61.901305 \nL 94.00976 61.901305 \nL 94.00976 64.195154 \nL 94.314429 64.195154 \nL 94.314429 64.97968 \nL 94.619097 64.97968 \nL 94.619097 66.313742 \nL 94.923765 66.313742 \nL 94.923765 66.547934 \nL 95.228434 66.547934 \nL 95.228434 66.713504 \nL 95.533102 66.713504 \nL 95.533102 67.095186 \nL 95.83777 67.095186 \nL 95.83777 67.69804 \nL 96.142439 67.69804 \nL 96.142439 69.875578 \nL 96.447107 69.875578 \nL 96.447107 71.088304 \nL 96.751775 71.088304 \nL 96.751775 71.613551 \nL 97.056443 71.613551 \nL 97.056443 72.026999 \nL 97.361112 72.026999 \nL 97.361112 72.344717 \nL 97.66578 72.344717 \nL 97.66578 73.797771 \nL 97.970448 73.797771 \nL 97.970448 74.244797 \nL 98.275117 74.244797 \nL 98.275117 74.995973 \nL 98.579785 74.995973 \nL 98.579785 75.148933 \nL 98.884453 75.148933 \nL 98.884453 75.448321 \nL 99.49379 75.456472 \nL 99.49379 75.924195 \nL 99.798458 75.924195 \nL 99.798458 77.125627 \nL 100.103127 77.125627 \nL 100.103127 77.823226 \nL 100.407795 77.823226 \nL 100.407795 78.578776 \nL 100.712463 78.578776 \nL 100.712463 79.131551 \nL 101.017131 79.131551 \nL 101.017131 80.229167 \nL 101.3218 80.229167 \nL 101.3218 81.352105 \nL 101.626468 81.352105 \nL 101.626468 81.835639 \nL 101.931136 81.835639 \nL 101.931136 82.237272 \nL 102.235805 82.237272 \nL 102.235805 82.880802 \nL 102.540473 82.880802 \nL 102.540473 84.575212 \nL 102.845141 84.575212 \nL 102.845141 84.907515 \nL 103.14981 84.907515 \nL 103.14981 86.662186 \nL 103.454478 86.662186 \nL 103.454478 87.98221 \nL 103.759146 87.98221 \nL 103.759146 88.600084 \nL 104.368483 88.61045 \nL 104.368483 88.771624 \nL 104.673151 88.771624 \nL 104.673151 92.706673 \nL 104.977819 92.706673 \nL 104.977819 94.311949 \nL 105.282488 94.311949 \nL 105.282488 94.543726 \nL 105.587156 94.543726 \nL 105.587156 94.968023 \nL 105.891824 94.968023 \nL 105.891824 95.830627 \nL 106.196493 95.830627 \nL 106.196493 97.265704 \nL 106.501161 97.265704 \nL 106.501161 97.897831 \nL 106.805829 97.897831 \nL 106.805829 98.086134 \nL 107.110498 98.086134 \nL 107.110498 98.79383 \nL 107.415166 98.79383 \nL 107.415166 98.976421 \nL 107.719834 98.976421 \nL 107.719834 99.843805 \nL 108.633839 99.925518 \nL 108.633839 100.838046 \nL 108.938507 100.838046 \nL 108.938507 102.563969 \nL 109.243176 102.563969 \nL 109.243176 103.028711 \nL 109.547844 103.028711 \nL 109.547844 103.14906 \nL 109.852512 103.14906 \nL 109.852512 103.513644 \nL 110.157181 103.513644 \nL 110.157181 104.099182 \nL 110.461849 104.099182 \nL 110.461849 104.213233 \nL 110.766517 104.213233 \nL 110.766517 104.738155 \nL 111.071186 104.738155 \nL 111.071186 105.545555 \nL 111.375854 105.545555 \nL 111.375854 106.749407 \nL 111.680522 106.749407 \nL 111.680522 107.244529 \nL 111.98519 107.244529 \nL 111.98519 107.5984 \nL 112.289859 107.5984 \nL 112.289859 107.909285 \nL 112.899195 107.92717 \nL 112.899195 108.215884 \nL 113.203864 108.215884 \nL 113.203864 108.653377 \nL 113.508532 108.653377 \nL 113.508532 108.914713 \nL 113.8132 108.914713 \nL 113.8132 109.497173 \nL 114.117869 109.497173 \nL 114.117869 110.186641 \nL 114.422537 110.186641 \nL 114.422537 110.36758 \nL 114.727205 110.36758 \nL 114.727205 110.65565 \nL 115.031873 110.65565 \nL 115.031873 110.955801 \nL 115.64121 111.035301 \nL 115.64121 112.12233 \nL 115.945878 112.12233 \nL 115.945878 112.751344 \nL 116.250547 112.751344 \nL 116.250547 113.003095 \nL 116.555215 113.003095 \nL 116.555215 113.456706 \nL 116.859883 113.456706 \nL 116.859883 114.399074 \nL 117.164552 114.399074 \nL 117.164552 115.419505 \nL 117.773888 115.432307 \nL 117.773888 115.86806 \nL 118.383225 115.916788 \nL 118.383225 116.390014 \nL 118.687893 116.390014 \nL 118.687893 116.864265 \nL 118.992561 116.864265 \nL 118.992561 118.191829 \nL 119.29723 118.191829 \nL 119.29723 118.779574 \nL 119.601898 118.779574 \nL 119.601898 118.991067 \nL 120.211235 119.006848 \nL 120.211235 119.341092 \nL 120.515903 119.341092 \nL 120.515903 120.031597 \nL 121.12524 120.140266 \nL 121.12524 120.255627 \nL 121.734576 120.289716 \nL 121.734576 121.015401 \nL 122.039244 121.015401 \nL 122.039244 122.385587 \nL 122.648581 122.395364 \nL 122.648581 123.076555 \nL 122.953249 123.076555 \nL 122.953249 124.171266 \nL 123.257918 124.171266 \nL 123.257918 125.306369 \nL 123.562586 125.306369 \nL 123.562586 126.511339 \nL 123.867254 126.511339 \nL 123.867254 127.345398 \nL 124.171923 127.345398 \nL 124.171923 127.844543 \nL 124.476591 127.844543 \nL 124.476591 129.122568 \nL 124.781259 129.122568 \nL 124.781259 129.24294 \nL 125.695264 129.348655 \nL 125.695264 130.564115 \nL 125.999932 130.564115 \nL 125.999932 130.870837 \nL 126.609269 130.97271 \nL 126.609269 131.133044 \nL 126.913937 131.133044 \nL 126.913937 131.763676 \nL 127.218606 131.763676 \nL 127.218606 132.734367 \nL 127.523274 132.734367 \nL 127.523274 132.966026 \nL 127.827942 132.966026 \nL 127.827942 133.862628 \nL 128.132611 133.862628 \nL 128.132611 135.110254 \nL 128.437279 135.110254 \nL 128.437279 135.381392 \nL 128.741947 135.381392 \nL 128.741947 136.7588 \nL 129.046615 136.7588 \nL 129.046615 137.368565 \nL 129.655952 137.437669 \nL 129.655952 137.872497 \nL 130.265289 137.938017 \nL 130.265289 138.055357 \nL 130.569957 138.055357 \nL 130.569957 138.241749 \nL 130.874625 138.241749 \nL 130.874625 139.336242 \nL 131.483962 139.368686 \nL 131.483962 139.673814 \nL 131.78863 139.673814 \nL 131.78863 140.02256 \nL 132.093299 140.02256 \nL 132.093299 141.106333 \nL 132.397967 141.106333 \nL 132.397967 141.581542 \nL 133.007303 141.582902 \nL 133.007303 142.28332 \nL 133.311972 142.28332 \nL 133.311972 142.621654 \nL 133.921308 142.725043 \nL 133.921308 142.889661 \nL 134.225977 142.889661 \nL 134.225977 143.011425 \nL 134.530645 143.011425 \nL 134.530645 144.284035 \nL 134.835313 144.284035 \nL 134.835313 144.529185 \nL 135.139982 144.529185 \nL 135.139982 145.019251 \nL 135.44465 145.019251 \nL 135.44465 145.841751 \nL 136.053986 145.937485 \nL 136.053986 146.458464 \nL 136.967991 146.51059 \nL 136.967991 146.592929 \nL 137.577328 146.667375 \nL 137.577328 147.108015 \nL 138.186665 147.199772 \nL 138.186665 148.267091 \nL 138.491333 148.267091 \nL 138.491333 148.637563 \nL 138.796001 148.637563 \nL 138.796001 148.8352 \nL 139.405338 148.935556 \nL 139.405338 149.035577 \nL 140.014674 149.096967 \nL 140.014674 149.250108 \nL 140.319343 149.250108 \nL 140.319343 150.386671 \nL 140.624011 150.386671 \nL 140.624011 151.76275 \nL 141.538016 151.83321 \nL 141.538016 152.532291 \nL 141.842684 152.532291 \nL 141.842684 152.862873 \nL 142.452021 152.948783 \nL 142.452021 153.031669 \nL 142.756689 153.031669 \nL 142.756689 154.024962 \nL 143.061357 154.024962 \nL 143.061357 154.2491 \nL 143.366026 154.2491 \nL 143.366026 154.427563 \nL 143.670694 154.427563 \nL 143.670694 155.372613 \nL 144.280031 155.379543 \nL 144.280031 155.884448 \nL 144.584699 155.884448 \nL 144.584699 156.050745 \nL 144.889367 156.050745 \nL 144.889367 156.446773 \nL 145.498704 156.545898 \nL 145.498704 157.523533 \nL 145.803372 157.523533 \nL 145.803372 157.892634 \nL 146.108041 157.892634 \nL 146.108041 158.060023 \nL 146.412709 158.060023 \nL 146.412709 158.400421 \nL 146.717377 158.400421 \nL 146.717377 158.653335 \nL 147.326714 158.697956 \nL 147.326714 159.37206 \nL 147.631382 159.37206 \nL 147.631382 159.988427 \nL 147.93605 159.988427 \nL 147.93605 160.162838 \nL 148.545387 160.204926 \nL 148.545387 160.468007 \nL 149.154724 160.575617 \nL 149.154724 160.72753 \nL 149.76406 160.771936 \nL 149.76406 161.005919 \nL 150.373397 161.012084 \nL 150.373397 161.141333 \nL 150.982733 161.204484 \nL 150.982733 161.300638 \nL 151.59207 161.303669 \nL 151.59207 161.687702 \nL 151.896738 161.687702 \nL 151.896738 161.819137 \nL 152.201407 161.819137 \nL 152.201407 161.997012 \nL 152.506075 161.997012 \nL 152.506075 162.258014 \nL 152.810743 162.258014 \nL 152.810743 162.978121 \nL 153.115412 162.978121 \nL 153.115412 163.138455 \nL 153.724748 163.229317 \nL 153.724748 163.683144 \nL 154.029416 163.683144 \nL 154.029416 163.973568 \nL 154.334085 163.973568 \nL 154.334085 164.201455 \nL 154.638753 164.201455 \nL 154.638753 164.354124 \nL 155.552758 164.459353 \nL 155.552758 164.505137 \nL 155.857426 164.505137 \nL 155.857426 164.696116 \nL 156.466763 164.747501 \nL 156.466763 164.819164 \nL 157.0761 164.877836 \nL 157.0761 165.259252 \nL 157.990104 165.31505 \nL 157.990104 165.687994 \nL 158.294773 165.687994 \nL 158.294773 165.892411 \nL 158.599441 165.892411 \nL 158.599441 166.121981 \nL 159.208778 166.138655 \nL 159.208778 166.330394 \nL 159.818114 166.350222 \nL 159.818114 166.63454 \nL 160.427451 166.697909 \nL 160.427451 166.888275 \nL 160.732119 166.888275 \nL 160.732119 167.624401 \nL 161.036787 167.624401 \nL 161.036787 168.050709 \nL 161.646124 168.117111 \nL 161.646124 168.488086 \nL 161.950792 168.488086 \nL 161.950792 168.826837 \nL 162.560129 168.869011 \nL 162.560129 169.040728 \nL 163.474134 169.129252 \nL 163.474134 169.377218 \nL 164.083471 169.483743 \nL 164.083471 169.548078 \nL 164.692807 169.640545 \nL 164.692807 169.733784 \nL 164.997475 169.733784 \nL 164.997475 170.020716 \nL 165.302144 170.020716 \nL 165.302144 170.220404 \nL 165.606812 170.220404 \nL 165.606812 170.446101 \nL 165.91148 170.446101 \nL 165.91148 170.775502 \nL 166.216149 170.775502 \nL 166.216149 171.108044 \nL 166.520817 171.108044 \nL 166.520817 171.360731 \nL 167.130154 171.390143 \nL 167.130154 171.475782 \nL 167.434822 171.475782 \nL 167.434822 171.662399 \nL 167.73949 171.662399 \nL 167.73949 171.902755 \nL 168.044158 171.902755 \nL 168.044158 172.155426 \nL 168.958163 172.261731 \nL 168.958163 172.489923 \nL 169.5675 172.508076 \nL 169.5675 173.044777 \nL 169.872168 173.044777 \nL 169.872168 173.193357 \nL 170.481505 173.217524 \nL 170.481505 173.470903 \nL 170.786173 173.470903 \nL 170.786173 174.248231 \nL 171.090842 174.248231 \nL 171.090842 174.422568 \nL 171.700178 174.42757 \nL 171.700178 175.332107 \nL 172.004846 175.332107 \nL 172.004846 175.56615 \nL 172.309515 175.56615 \nL 172.309515 176.177681 \nL 172.918851 176.262155 \nL 172.918851 176.350765 \nL 173.22352 176.350765 \nL 173.22352 176.678255 \nL 173.528188 176.678255 \nL 173.528188 176.972825 \nL 173.832856 176.972825 \nL 173.832856 177.201117 \nL 174.442193 177.237991 \nL 174.442193 177.33807 \nL 174.746861 177.33807 \nL 174.746861 177.503777 \nL 175.051529 177.503777 \nL 175.051529 178.011106 \nL 175.660866 178.102238 \nL 175.660866 178.258617 \nL 176.270203 178.325827 \nL 176.270203 178.6071 \nL 176.879539 178.695864 \nL 176.879539 178.777166 \nL 177.793544 178.854158 \nL 177.793544 178.913485 \nL 178.402881 178.967029 \nL 178.402881 179.032535 \nL 178.707549 179.032535 \nL 178.707549 179.164069 \nL 179.012217 179.164069 \nL 179.012217 179.287466 \nL 179.926222 179.331281 \nL 179.926222 179.50934 \nL 180.230891 179.50934 \nL 180.230891 179.741244 \nL 181.144896 179.841362 \nL 181.144896 179.962924 \nL 181.754232 180.039087 \nL 181.754232 180.180397 \nL 182.363569 180.248607 \nL 182.363569 180.313832 \nL 182.668237 180.313832 \nL 182.668237 180.766785 \nL 182.972905 180.766785 \nL 182.972905 180.938969 \nL 183.582242 181.010277 \nL 183.582242 181.855424 \nL 183.88691 181.855424 \nL 183.88691 182.136776 \nL 184.191579 182.136776 \nL 184.191579 182.286817 \nL 184.496247 182.286817 \nL 184.496247 182.681676 \nL 185.410252 182.740041 \nL 185.410252 182.851421 \nL 185.71492 182.851421 \nL 185.71492 183.256159 \nL 186.019588 183.256159 \nL 186.019588 183.446037 \nL 186.628925 183.534055 \nL 186.628925 183.701714 \nL 186.933593 183.701714 \nL 186.933593 184.040489 \nL 187.54293 184.136508 \nL 187.54293 184.46542 \nL 187.847598 184.46542 \nL 187.847598 184.645015 \nL 188.456935 184.664368 \nL 188.456935 184.867433 \nL 189.066271 184.943479 \nL 189.066271 185.373324 \nL 189.675608 185.479575 \nL 189.675608 185.609622 \nL 190.894281 185.699932 \nL 190.894281 185.852719 \nL 191.19895 185.852719 \nL 191.19895 186.208448 \nL 191.808286 186.255079 \nL 191.808286 186.485307 \nL 192.417623 186.582744 \nL 192.417623 186.652172 \nL 192.722291 186.652172 \nL 192.722291 186.80694 \nL 193.331628 186.873177 \nL 193.331628 186.943426 \nL 193.940964 187.015907 \nL 193.940964 187.104463 \nL 195.159638 187.176884 \nL 195.159638 187.302277 \nL 195.768974 187.40402 \nL 195.768974 187.661439 \nL 196.073643 187.661439 \nL 196.073643 187.911874 \nL 196.987647 188.000857 \nL 196.987647 188.236415 \nL 197.292316 188.236415 \nL 197.292316 188.454386 \nL 197.901652 188.543214 \nL 197.901652 188.68074 \nL 198.510989 188.77533 \nL 198.510989 188.909752 \nL 198.815657 188.909752 \nL 198.815657 189.044957 \nL 199.120326 189.044957 \nL 199.120326 189.264899 \nL 199.424994 189.264899 \nL 199.424994 189.395748 \nL 200.03433 189.429633 \nL 200.03433 189.863373 \nL 200.643667 189.878085 \nL 200.643667 189.989464 \nL 200.948335 189.989464 \nL 200.948335 190.177028 \nL 201.253004 190.177028 \nL 201.253004 190.334523 \nL 201.86234 190.383094 \nL 201.86234 190.48915 \nL 202.167009 190.48915 \nL 202.167009 190.932435 \nL 202.776345 190.993918 \nL 202.776345 191.04651 \nL 203.995018 191.117099 \nL 203.995018 191.252607 \nL 204.299687 191.252607 \nL 204.299687 191.368978 \nL 204.909023 191.449266 \nL 204.909023 191.646407 \nL 205.213692 191.646407 \nL 205.213692 191.75899 \nL 205.823028 191.821087 \nL 205.823028 191.921103 \nL 206.127697 191.921103 \nL 206.127697 192.67098 \nL 206.737033 192.777338 \nL 206.737033 192.788194 \nL 207.041701 192.788194 \nL 207.041701 193.00526 \nL 207.651038 193.11575 \nL 207.651038 193.45598 \nL 209.17438 193.529971 \nL 209.17438 193.611661 \nL 210.393053 193.70686 \nL 210.393053 193.833493 \nL 211.002389 193.862136 \nL 211.002389 193.973555 \nL 211.916394 194.039075 \nL 211.916394 194.105149 \nL 212.525731 194.204641 \nL 212.525731 194.238613 \nL 212.830399 194.238613 \nL 212.830399 194.61854 \nL 213.439736 194.703452 \nL 213.439736 195.151405 \nL 214.049072 195.173048 \nL 214.049072 195.335705 \nL 214.353741 195.335705 \nL 214.353741 195.536449 \nL 214.963077 195.625598 \nL 214.963077 195.718903 \nL 215.877082 195.801365 \nL 215.877082 195.855497 \nL 216.486419 195.90153 \nL 216.486419 196.165548 \nL 216.791087 196.165548 \nL 216.791087 196.405275 \nL 217.705092 196.480407 \nL 217.705092 196.581994 \nL 218.923765 196.633576 \nL 218.923765 196.746634 \nL 219.533102 196.766278 \nL 219.533102 196.857917 \nL 219.83777 196.857917 \nL 219.83777 197.005106 \nL 220.142439 197.005106 \nL 220.142439 197.425794 \nL 220.751775 197.475209 \nL 220.751775 197.875514 \nL 221.361112 197.921445 \nL 221.361112 197.997015 \nL 221.970448 198.043811 \nL 221.970448 198.12216 \nL 222.275117 198.12216 \nL 222.275117 198.256346 \nL 222.884453 198.312647 \nL 222.884453 198.376538 \nL 224.407795 198.480727 \nL 224.407795 198.488792 \nL 224.712463 198.488792 \nL 224.712463 198.725713 \nL 225.626468 198.754881 \nL 225.626468 198.9811 \nL 226.235805 199.062983 \nL 226.235805 199.155714 \nL 226.540473 199.155714 \nL 226.540473 199.417853 \nL 227.759146 199.526051 \nL 227.759146 199.536306 \nL 228.977819 199.642282 \nL 228.977819 199.648209 \nL 229.282488 199.648209 \nL 229.282488 199.866156 \nL 230.196493 199.881908 \nL 230.196493 200.11768 \nL 231.110498 200.199864 \nL 231.110498 200.468855 \nL 231.719834 200.563255 \nL 231.719834 200.583656 \nL 232.024502 200.583656 \nL 232.024502 200.770187 \nL 233.852512 200.870739 \nL 233.852512 200.917632 \nL 234.461849 200.9308 \nL 234.461849 201.255075 \nL 235.680522 201.363249 \nL 235.680522 201.806922 \nL 236.289859 201.835201 \nL 236.289859 201.993735 \nL 237.508532 202.070498 \nL 237.508532 202.160321 \nL 238.422537 202.233355 \nL 238.422537 202.27521 \nL 239.336542 202.3635 \nL 239.336542 202.410581 \nL 240.250547 202.442184 \nL 240.250547 202.63937 \nL 240.555215 202.63937 \nL 240.555215 203.00175 \nL 241.164552 203.004502 \nL 241.164552 203.145693 \nL 241.773888 203.217184 \nL 241.773888 203.299654 \nL 242.383225 203.335428 \nL 242.383225 203.441994 \nL 243.29723 203.477521 \nL 243.29723 203.656466 \nL 244.211235 203.722084 \nL 244.211235 203.770303 \nL 244.820571 203.788382 \nL 244.820571 203.977331 \nL 245.429908 204.029902 \nL 245.429908 204.207743 \nL 246.039244 204.283678 \nL 246.039244 204.425053 \nL 246.648581 204.46644 \nL 246.648581 204.639791 \nL 247.562586 204.662784 \nL 247.562586 204.794462 \nL 248.171923 204.886562 \nL 248.171923 204.936 \nL 248.781259 205.0061 \nL 248.781259 205.078195 \nL 249.390596 205.149654 \nL 249.390596 205.19218 \nL 250.304601 205.284392 \nL 250.304601 205.310976 \nL 251.523274 205.410779 \nL 251.523274 205.42388 \nL 253.046615 205.530923 \nL 253.046615 205.543248 \nL 254.265289 205.584469 \nL 254.265289 205.901531 \nL 255.78863 205.983915 \nL 255.78863 206.131729 \nL 256.397967 206.191836 \nL 256.397967 206.256539 \nL 257.61664 206.354709 \nL 257.61664 206.396779 \nL 258.835313 206.474853 \nL 258.835313 206.525965 \nL 259.139982 206.525965 \nL 259.139982 206.657184 \nL 260.358655 206.744692 \nL 260.358655 206.833785 \nL 261.881996 206.934493 \nL 261.881996 207.038338 \nL 263.10067 207.141681 \nL 263.10067 207.158698 \nL 263.710006 207.203923 \nL 263.710006 207.377999 \nL 264.624011 207.485674 \nL 264.624011 207.508157 \nL 265.842684 207.61413 \nL 265.842684 207.882797 \nL 267.061357 207.987171 \nL 267.061357 208.034203 \nL 268.280031 208.114977 \nL 268.280031 208.163078 \nL 269.498704 208.181824 \nL 269.498704 208.32106 \nL 270.412709 208.397376 \nL 270.412709 208.510624 \nL 271.631382 208.598124 \nL 271.631382 208.666632 \nL 272.545387 208.687419 \nL 272.545387 208.85771 \nL 273.459392 208.906033 \nL 273.459392 209.006608 \nL 275.287402 209.087106 \nL 275.287402 209.134442 \nL 276.201407 209.185238 \nL 276.201407 209.253125 \nL 277.42008 209.343005 \nL 277.42008 209.45548 \nL 278.638753 209.507561 \nL 278.638753 209.651628 \nL 280.162095 209.750212 \nL 280.162095 209.849044 \nL 281.380768 209.906342 \nL 281.380768 210.009595 \nL 282.294773 210.097812 \nL 282.294773 210.169297 \nL 283.513446 210.271967 \nL 283.513446 210.321919 \nL 284.427451 210.42305 \nL 284.427451 210.47491 \nL 285.646124 210.564199 \nL 285.646124 210.625239 \nL 287.169466 210.711594 \nL 287.169466 210.755157 \nL 288.997475 210.83282 \nL 288.997475 210.878873 \nL 289.302144 210.878873 \nL 289.302144 210.998112 \nL 290.216149 211.044676 \nL 290.216149 211.11916 \nL 290.520817 211.11916 \nL 290.520817 211.361527 \nL 292.958163 211.446912 \nL 292.958163 211.481601 \nL 293.5675 211.521806 \nL 293.5675 211.623545 \nL 294.786173 211.675559 \nL 294.786173 211.822442 \nL 295.700178 211.893195 \nL 295.700178 211.939832 \nL 296.309515 211.967477 \nL 296.309515 212.069166 \nL 297.528188 212.13496 \nL 297.528188 212.190215 \nL 297.832856 212.190215 \nL 297.832856 212.353367 \nL 298.442193 212.423937 \nL 298.442193 212.48801 \nL 300.270203 212.546516 \nL 300.270203 212.644104 \nL 301.184208 212.723966 \nL 301.184208 212.794933 \nL 303.012217 212.886458 \nL 303.012217 212.973123 \nL 305.144896 213.075678 \nL 305.144896 213.145905 \nL 306.363569 213.250311 \nL 306.363569 213.339928 \nL 308.496247 213.441381 \nL 308.496247 213.476207 \nL 310.019588 213.580408 \nL 310.019588 213.598603 \nL 312.456935 213.708903 \nL 312.456935 213.71545 \nL 313.066271 213.754096 \nL 313.066271 213.888502 \nL 313.675608 213.997527 \nL 313.675608 214.062186 \nL 315.19895 214.113766 \nL 315.19895 214.212007 \nL 316.112955 214.271718 \nL 316.112955 214.384337 \nL 318.245633 214.484555 \nL 318.245633 214.500559 \nL 319.768974 214.607288 \nL 319.768974 214.682381 \nL 322.815657 214.777955 \nL 322.815657 214.807882 \nL 323.729662 214.872383 \nL 323.729662 214.966202 \nL 325.557672 215.009578 \nL 325.557672 215.135704 \nL 326.776345 215.23023 \nL 326.776345 215.313289 \nL 327.995018 215.403781 \nL 327.995018 215.434944 \nL 328.604355 215.438676 \nL 328.604355 215.563461 \nL 330.432365 215.645557 \nL 330.432365 215.711692 \nL 331.651038 215.775133 \nL 331.651038 215.865872 \nL 334.088385 215.960647 \nL 334.088385 216.018415 \nL 336.221063 216.118368 \nL 336.221063 216.130149 \nL 338.658409 216.237836 \nL 338.658409 216.279131 \nL 339.877082 216.385772 \nL 339.877082 216.403665 \nL 342.314429 216.512383 \nL 342.314429 216.530393 \nL 344.142439 216.627539 \nL 344.142439 216.667769 \nL 345.970448 216.769886 \nL 345.970448 216.785937 \nL 348.712463 216.894651 \nL 348.712463 216.954982 \nL 350.845141 217.059547 \nL 350.845141 217.070341 \nL 352.368483 217.109738 \nL 352.368483 217.191369 \nL 354.196493 217.24801 \nL 354.196493 217.304965 \nL 356.633839 217.412211 \nL 356.633839 217.429225 \nL 359.071186 217.537579 \nL 359.071186 217.547827 \nL 360.594527 217.63302 \nL 360.594527 217.723552 \nL 362.727205 217.833161 \nL 362.727205 217.85745 \nL 366.078557 217.956395 \nL 366.078557 217.992447 \nL 369.12524 218.087927 \nL 369.12524 218.119932 \nL 370.953249 218.219358 \nL 370.953249 218.250071 \nL 373.390596 218.353434 \nL 373.390596 218.361797 \nL 376.132611 218.464133 \nL 376.132611 218.486897 \nL 377.96062 218.576464 \nL 377.96062 218.600347 \nL 380.702635 218.704929 \nL 380.702635 218.721006 \nL 383.44465 218.825575 \nL 383.44465 218.88 \nL 383.749318 218.88 \nL 383.749318 218.88 \n\" clip-path=\"url(#p01af8542b2)\" style=\"fill: none; stroke: #0071bc; stroke-width: 1.5; stroke-linecap: square\"/>\n   </g>\n   <g id=\"line2d_13\">\n    <path d=\"M 79.385682 114.9651 \nL 79.385682 115.162285 \nL 79.995018 115.189346 \nL 79.995018 115.379642 \nL 80.604355 115.430443 \nL 80.604355 115.833227 \nL 81.213692 115.898472 \nL 81.213692 116.345694 \nL 81.51836 116.345694 \nL 81.51836 116.889235 \nL 81.823028 116.889235 \nL 81.823028 117.099546 \nL 82.127697 117.099546 \nL 82.127697 117.630794 \nL 82.432365 117.630794 \nL 82.432365 117.786128 \nL 82.737033 117.786128 \nL 82.737033 118.021774 \nL 83.041701 118.021774 \nL 83.041701 118.246123 \nL 83.34637 118.246123 \nL 83.34637 118.513611 \nL 83.651038 118.513611 \nL 83.651038 118.674674 \nL 83.955706 118.674674 \nL 83.955706 119.484765 \nL 84.260375 119.484765 \nL 84.260375 119.898788 \nL 85.17438 119.945758 \nL 85.17438 120.092259 \nL 85.783716 120.179973 \nL 85.783716 121.230929 \nL 86.088385 121.230929 \nL 86.088385 121.36822 \nL 86.393053 121.36822 \nL 86.393053 121.486931 \nL 87.002389 121.526438 \nL 87.002389 121.897411 \nL 87.611726 122.003028 \nL 87.611726 122.143846 \nL 87.916394 122.143846 \nL 87.916394 122.548122 \nL 88.221063 122.548122 \nL 88.221063 122.706306 \nL 88.830399 122.724177 \nL 88.830399 122.846867 \nL 89.744404 122.945879 \nL 89.744404 123.480211 \nL 90.049072 123.480211 \nL 90.049072 124.132253 \nL 90.353741 124.132253 \nL 90.353741 124.449425 \nL 90.658409 124.449425 \nL 90.658409 124.916739 \nL 90.963077 124.916739 \nL 90.963077 125.063957 \nL 91.267746 125.063957 \nL 91.267746 125.478178 \nL 91.877082 125.551428 \nL 91.877082 125.61243 \nL 92.181751 125.61243 \nL 92.181751 125.825624 \nL 92.486419 125.825624 \nL 92.486419 126.140953 \nL 92.791087 126.140953 \nL 92.791087 126.769965 \nL 93.095756 126.769965 \nL 93.095756 127.417182 \nL 94.00976 127.527642 \nL 94.00976 128.217226 \nL 94.314429 128.217226 \nL 94.314429 128.454196 \nL 94.619097 128.454196 \nL 94.619097 128.858488 \nL 95.228434 128.929635 \nL 95.228434 128.979967 \nL 95.533102 128.979967 \nL 95.533102 129.096094 \nL 95.83777 129.096094 \nL 95.83777 129.279799 \nL 96.142439 129.279799 \nL 96.142439 129.946286 \nL 96.447107 129.946286 \nL 96.447107 130.319491 \nL 96.751775 130.319491 \nL 96.751775 130.481585 \nL 97.056443 130.481585 \nL 97.056443 130.609371 \nL 97.66578 130.707687 \nL 97.66578 131.15863 \nL 97.970448 131.15863 \nL 97.970448 131.297795 \nL 98.275117 131.297795 \nL 98.275117 131.532108 \nL 98.884453 131.579892 \nL 98.884453 131.67349 \nL 99.49379 131.67604 \nL 99.49379 131.822456 \nL 99.798458 131.822456 \nL 99.798458 132.199603 \nL 100.103127 132.199603 \nL 100.103127 132.419291 \nL 100.407795 132.419291 \nL 100.407795 132.657814 \nL 100.712463 132.657814 \nL 100.712463 132.83271 \nL 101.017131 132.83271 \nL 101.017131 133.180973 \nL 101.3218 133.180973 \nL 101.3218 133.538635 \nL 101.626468 133.538635 \nL 101.626468 133.693071 \nL 101.931136 133.693071 \nL 101.931136 133.821547 \nL 102.235805 133.821547 \nL 102.235805 134.027777 \nL 102.540473 134.027777 \nL 102.540473 134.573014 \nL 103.14981 134.680328 \nL 103.14981 135.249093 \nL 103.454478 135.249093 \nL 103.454478 135.679342 \nL 103.759146 135.679342 \nL 103.759146 135.881441 \nL 104.673151 135.93763 \nL 104.673151 137.236396 \nL 104.977819 137.236396 \nL 104.977819 137.771733 \nL 105.587156 137.849297 \nL 105.587156 137.991466 \nL 105.891824 137.991466 \nL 105.891824 138.281212 \nL 106.196493 138.281212 \nL 106.196493 138.765391 \nL 106.501161 138.765391 \nL 106.501161 138.979522 \nL 107.110498 139.043411 \nL 107.110498 139.283949 \nL 107.719834 139.346118 \nL 107.719834 139.642063 \nL 108.633839 139.669996 \nL 108.633839 139.982549 \nL 108.938507 139.982549 \nL 108.938507 140.576842 \nL 109.243176 140.576842 \nL 109.243176 140.737579 \nL 109.852512 140.779253 \nL 109.852512 140.905625 \nL 110.157181 140.905625 \nL 110.157181 141.108979 \nL 110.766517 141.148645 \nL 110.766517 141.33145 \nL 111.071186 141.33145 \nL 111.071186 141.613406 \nL 111.375854 141.613406 \nL 111.375854 142.035576 \nL 111.680522 142.035576 \nL 111.680522 142.209826 \nL 111.98519 142.209826 \nL 111.98519 142.334589 \nL 112.594527 142.444351 \nL 112.594527 142.45067 \nL 113.203864 142.552741 \nL 113.203864 142.707652 \nL 113.8132 142.800326 \nL 113.8132 143.007249 \nL 114.117869 143.007249 \nL 114.117869 143.25286 \nL 114.727205 143.317438 \nL 114.727205 143.420356 \nL 115.336542 143.527727 \nL 115.336542 143.55619 \nL 115.64121 143.55619 \nL 115.64121 143.946364 \nL 115.945878 143.946364 \nL 115.945878 144.172994 \nL 116.555215 144.263875 \nL 116.555215 144.427883 \nL 116.859883 144.427883 \nL 116.859883 144.769672 \nL 117.164552 144.769672 \nL 117.164552 145.14141 \nL 117.773888 145.146084 \nL 117.773888 145.30536 \nL 118.383225 145.323191 \nL 118.383225 145.496562 \nL 118.687893 145.496562 \nL 118.687893 145.670685 \nL 118.992561 145.670685 \nL 118.992561 146.160135 \nL 119.29723 146.160135 \nL 119.29723 146.377792 \nL 120.211235 146.462118 \nL 120.211235 146.586296 \nL 120.515903 146.586296 \nL 120.515903 146.843453 \nL 121.734576 146.939797 \nL 121.734576 147.211297 \nL 122.039244 147.211297 \nL 122.039244 147.726504 \nL 122.648581 147.730193 \nL 122.648581 147.987613 \nL 122.953249 147.987613 \nL 122.953249 148.403101 \nL 123.257918 148.403101 \nL 123.257918 148.836293 \nL 123.562586 148.836293 \nL 123.562586 149.298839 \nL 123.867254 149.298839 \nL 123.867254 149.620654 \nL 124.171923 149.620654 \nL 124.171923 149.813899 \nL 124.476591 149.813899 \nL 124.476591 150.310948 \nL 125.695264 150.39922 \nL 125.695264 150.875562 \nL 125.999932 150.875562 \nL 125.999932 150.996248 \nL 126.913937 151.099573 \nL 126.913937 151.348669 \nL 127.218606 151.348669 \nL 127.218606 151.733728 \nL 127.827942 151.82592 \nL 127.827942 152.183829 \nL 128.132611 152.183829 \nL 128.132611 152.684783 \nL 128.741947 152.794108 \nL 128.741947 153.352044 \nL 129.046615 153.352044 \nL 129.046615 153.600417 \nL 129.655952 153.628619 \nL 129.655952 153.80633 \nL 130.569957 153.881195 \nL 130.569957 153.957586 \nL 130.874625 153.957586 \nL 130.874625 154.40781 \nL 131.483962 154.4212 \nL 131.483962 154.547248 \nL 131.78863 154.547248 \nL 131.78863 154.691588 \nL 132.093299 154.691588 \nL 132.093299 155.142032 \nL 132.397967 155.142032 \nL 132.397967 155.340452 \nL 133.007303 155.341021 \nL 133.007303 155.634503 \nL 133.311972 155.634503 \nL 133.311972 155.77671 \nL 133.921308 155.820224 \nL 133.921308 155.889564 \nL 134.530645 155.940897 \nL 134.530645 156.479684 \nL 135.139982 156.583957 \nL 135.139982 156.792877 \nL 135.44465 156.792877 \nL 135.44465 157.144949 \nL 136.053986 157.186045 \nL 136.053986 157.410126 \nL 137.577328 157.500188 \nL 137.577328 157.690542 \nL 138.186665 157.730248 \nL 138.186665 158.193821 \nL 138.491333 158.193821 \nL 138.491333 158.355477 \nL 139.10067 158.441876 \nL 139.10067 158.48579 \nL 140.014674 158.55648 \nL 140.014674 158.623618 \nL 140.319343 158.623618 \nL 140.319343 159.124011 \nL 140.624011 159.124011 \nL 140.624011 159.734943 \nL 141.538016 159.766377 \nL 141.538016 160.079076 \nL 141.842684 160.079076 \nL 141.842684 160.227465 \nL 142.756689 160.303364 \nL 142.756689 160.751792 \nL 143.366026 160.853409 \nL 143.366026 160.934434 \nL 143.670694 160.934434 \nL 143.670694 161.3652 \nL 144.280031 161.36837 \nL 144.280031 161.599712 \nL 144.889367 161.676091 \nL 144.889367 161.858351 \nL 145.498704 161.904052 \nL 145.498704 162.356555 \nL 145.803372 162.356555 \nL 145.803372 162.528238 \nL 146.412709 162.606252 \nL 146.412709 162.765197 \nL 146.717377 162.765197 \nL 146.717377 162.883553 \nL 147.326714 162.904458 \nL 147.326714 163.221121 \nL 147.631382 163.221121 \nL 147.631382 163.512075 \nL 148.545387 163.614597 \nL 148.545387 163.739406 \nL 149.154724 163.79053 \nL 149.154724 163.862774 \nL 149.76406 163.883908 \nL 149.76406 163.995385 \nL 150.982733 164.090146 \nL 150.982733 164.136086 \nL 151.59207 164.137535 \nL 151.59207 164.321365 \nL 152.201407 164.384407 \nL 152.201407 164.469828 \nL 152.506075 164.469828 \nL 152.506075 164.595385 \nL 152.810743 164.595385 \nL 152.810743 164.943146 \nL 153.42008 165.020848 \nL 153.42008 165.064926 \nL 153.724748 165.064926 \nL 153.724748 165.285564 \nL 154.029416 165.285564 \nL 154.029416 165.427185 \nL 154.334085 165.427185 \nL 154.334085 165.538544 \nL 155.24809 165.629908 \nL 155.24809 165.664819 \nL 155.857426 165.687263 \nL 155.857426 165.780979 \nL 157.0761 165.870287 \nL 157.0761 166.058175 \nL 157.990104 166.085711 \nL 157.990104 166.270085 \nL 158.599441 166.371387 \nL 158.599441 166.485361 \nL 159.513446 166.589022 \nL 159.513446 166.598893 \nL 159.818114 166.598893 \nL 159.818114 166.740626 \nL 160.427451 166.772262 \nL 160.427451 166.867402 \nL 160.732119 166.867402 \nL 160.732119 167.236757 \nL 161.036787 167.236757 \nL 161.036787 167.451732 \nL 161.646124 167.485288 \nL 161.646124 167.673117 \nL 161.950792 167.673117 \nL 161.950792 167.845165 \nL 162.864797 167.954062 \nL 162.864797 167.959533 \nL 163.474134 167.999191 \nL 163.474134 168.125794 \nL 164.388139 168.213191 \nL 164.388139 168.260546 \nL 164.997475 168.308334 \nL 164.997475 168.455649 \nL 165.606812 168.558396 \nL 165.606812 168.67475 \nL 165.91148 168.67475 \nL 165.91148 168.844993 \nL 166.216149 168.844993 \nL 166.216149 169.017379 \nL 166.520817 169.017379 \nL 166.520817 169.148722 \nL 167.434822 169.208624 \nL 167.434822 169.305925 \nL 167.73949 169.305925 \nL 167.73949 169.431492 \nL 168.044158 169.431492 \nL 168.044158 169.563796 \nL 168.958163 169.619553 \nL 168.958163 169.739428 \nL 169.5675 169.748975 \nL 169.5675 170.031985 \nL 170.481505 170.123384 \nL 170.481505 170.257718 \nL 170.786173 170.257718 \nL 170.786173 170.671882 \nL 171.700178 170.767879 \nL 171.700178 171.254645 \nL 172.004846 171.254645 \nL 172.004846 171.381304 \nL 172.309515 171.381304 \nL 172.309515 171.713656 \nL 173.22352 171.808096 \nL 173.22352 171.987239 \nL 173.528188 171.987239 \nL 173.528188 172.148887 \nL 173.832856 172.148887 \nL 173.832856 172.274501 \nL 174.746861 172.35 \nL 174.746861 172.441493 \nL 175.051529 172.441493 \nL 175.051529 172.722592 \nL 175.660866 172.773245 \nL 175.660866 172.860277 \nL 176.270203 172.897726 \nL 176.270203 173.05474 \nL 177.488876 173.161262 \nL 177.488876 173.193043 \nL 178.707549 173.293125 \nL 178.707549 173.367048 \nL 179.926222 173.461173 \nL 179.926222 173.561592 \nL 180.230891 173.561592 \nL 180.230891 173.692668 \nL 181.144896 173.749359 \nL 181.144896 173.818275 \nL 181.754232 173.861501 \nL 181.754232 173.941796 \nL 182.668237 174.01773 \nL 182.668237 174.276334 \nL 183.277574 174.37498 \nL 183.277574 174.415889 \nL 183.582242 174.415889 \nL 183.582242 174.90326 \nL 183.88691 174.90326 \nL 183.88691 175.06655 \nL 184.496247 175.153846 \nL 184.496247 175.384306 \nL 185.71492 175.483704 \nL 185.71492 175.721505 \nL 186.019588 175.721505 \nL 186.019588 175.833458 \nL 186.628925 175.88544 \nL 186.628925 175.984606 \nL 186.933593 175.984606 \nL 186.933593 176.18559 \nL 187.54293 176.242704 \nL 187.54293 176.43885 \nL 188.152267 176.546281 \nL 188.152267 176.557872 \nL 188.456935 176.557872 \nL 188.456935 176.679657 \nL 189.066271 176.725342 \nL 189.066271 176.984381 \nL 189.675608 177.048625 \nL 189.675608 177.127372 \nL 190.894281 177.182133 \nL 190.894281 177.274918 \nL 191.19895 177.274918 \nL 191.19895 177.491641 \nL 191.808286 177.520123 \nL 191.808286 177.660992 \nL 192.722291 177.763351 \nL 192.722291 177.858485 \nL 193.636296 177.942538 \nL 193.636296 177.987236 \nL 195.159638 178.086656 \nL 195.159638 178.164244 \nL 195.768974 178.227292 \nL 195.768974 178.387184 \nL 196.073643 178.387184 \nL 196.073643 178.54326 \nL 196.987647 178.59884 \nL 196.987647 178.746293 \nL 197.292316 178.746293 \nL 197.292316 178.883151 \nL 197.901652 178.939039 \nL 197.901652 179.025698 \nL 198.510989 179.085396 \nL 198.510989 179.170364 \nL 199.120326 179.255985 \nL 199.120326 179.395605 \nL 200.03433 179.500456 \nL 200.03433 179.777672 \nL 200.948335 179.858576 \nL 200.948335 179.979188 \nL 201.557672 180.080711 \nL 201.557672 180.112066 \nL 202.167009 180.180606 \nL 202.167009 180.468211 \nL 203.69035 180.557086 \nL 203.69035 180.588564 \nL 204.299687 180.677084 \nL 204.299687 180.753243 \nL 204.909023 180.805863 \nL 204.909023 180.93533 \nL 205.51836 181.009435 \nL 205.51836 181.05036 \nL 206.127697 181.116358 \nL 206.127697 181.614325 \nL 207.041701 181.692674 \nL 207.041701 181.838135 \nL 207.651038 181.912363 \nL 207.651038 182.141729 \nL 209.479048 182.247085 \nL 209.479048 182.296241 \nL 210.697721 182.397653 \nL 210.697721 182.417133 \nL 211.611726 182.49786 \nL 211.611726 182.537661 \nL 212.221063 182.582756 \nL 212.221063 182.650749 \nL 212.830399 182.673989 \nL 212.830399 182.934767 \nL 213.439736 182.993268 \nL 213.439736 183.303229 \nL 214.049072 183.318262 \nL 214.049072 183.431416 \nL 214.353741 183.431416 \nL 214.353741 183.571486 \nL 214.963077 183.633839 \nL 214.963077 183.699199 \nL 216.181751 183.795067 \nL 216.181751 183.827425 \nL 216.486419 183.827425 \nL 216.486419 184.013495 \nL 216.791087 184.013495 \nL 216.791087 184.183171 \nL 217.705092 184.236491 \nL 217.705092 184.308695 \nL 218.923765 184.345407 \nL 218.923765 184.425985 \nL 219.83777 184.505453 \nL 219.83777 184.610798 \nL 220.142439 184.610798 \nL 220.142439 184.913392 \nL 220.751775 184.949083 \nL 220.751775 185.239376 \nL 221.66578 185.327901 \nL 221.66578 185.362047 \nL 222.275117 185.419283 \nL 222.275117 185.517499 \nL 223.49379 185.613555 \nL 223.49379 185.650981 \nL 224.712463 185.688207 \nL 224.712463 185.862957 \nL 225.626468 185.884524 \nL 225.626468 186.05219 \nL 226.235805 186.113056 \nL 226.235805 186.182097 \nL 226.540473 186.182097 \nL 226.540473 186.377926 \nL 228.063814 186.466737 \nL 228.063814 186.500934 \nL 229.282488 186.550822 \nL 229.282488 186.715112 \nL 230.196493 186.727014 \nL 230.196493 186.90558 \nL 231.110498 186.968018 \nL 231.110498 187.173088 \nL 232.024502 187.260942 \nL 232.024502 187.40412 \nL 233.852512 187.481525 \nL 233.852512 187.517677 \nL 234.461849 187.527835 \nL 234.461849 187.778847 \nL 235.680522 187.862953 \nL 235.680522 188.209888 \nL 236.289859 188.23211 \nL 236.289859 188.356935 \nL 237.508532 188.417527 \nL 237.508532 188.488553 \nL 239.031873 188.580899 \nL 239.031873 188.649716 \nL 240.250547 188.712318 \nL 240.250547 188.86967 \nL 240.555215 188.86967 \nL 240.555215 189.160615 \nL 241.164552 189.162834 \nL 241.164552 189.27683 \nL 241.773888 189.334688 \nL 241.773888 189.401546 \nL 242.383225 189.430586 \nL 242.383225 189.517231 \nL 243.29723 189.546163 \nL 243.29723 189.692245 \nL 244.820571 189.800316 \nL 244.820571 189.955681 \nL 245.429908 189.999029 \nL 245.429908 190.146062 \nL 246.039244 190.209027 \nL 246.039244 190.326557 \nL 246.648581 190.361038 \nL 246.648581 190.505828 \nL 247.562586 190.525077 \nL 247.562586 190.635522 \nL 248.171923 190.712978 \nL 248.171923 190.754627 \nL 248.781259 190.813766 \nL 248.781259 190.874695 \nL 249.695264 190.971244 \nL 249.695264 191.033481 \nL 251.218606 191.106774 \nL 251.218606 191.157161 \nL 253.046615 191.259771 \nL 253.046615 191.270315 \nL 254.265289 191.305602 \nL 254.265289 191.578242 \nL 255.78863 191.649441 \nL 255.78863 191.777564 \nL 256.702635 191.886127 \nL 256.702635 191.909362 \nL 257.921308 192.008529 \nL 257.921308 192.046754 \nL 259.139982 192.121679 \nL 259.139982 192.237002 \nL 260.358655 192.314132 \nL 260.358655 192.392842 \nL 261.881996 192.482039 \nL 261.881996 192.574267 \nL 263.405338 192.681485 \nL 263.405338 192.721862 \nL 263.710006 192.721862 \nL 263.710006 192.877744 \nL 264.624011 192.974537 \nL 264.624011 192.994785 \nL 265.842684 193.090389 \nL 265.842684 193.334037 \nL 267.061357 193.429189 \nL 267.061357 193.472157 \nL 268.280031 193.546088 \nL 268.280031 193.590194 \nL 269.498704 193.6074 \nL 269.498704 193.735485 \nL 270.412709 193.805908 \nL 270.412709 193.9107 \nL 271.631382 193.991905 \nL 271.631382 194.055629 \nL 272.545387 194.07499 \nL 272.545387 194.234049 \nL 273.459392 194.279332 \nL 273.459392 194.37379 \nL 275.287402 194.449598 \nL 275.287402 194.494264 \nL 276.201407 194.542264 \nL 276.201407 194.606531 \nL 277.42008 194.691825 \nL 277.42008 194.798892 \nL 278.638753 194.848596 \nL 278.638753 194.986505 \nL 280.162095 195.081235 \nL 280.162095 195.1765 \nL 281.380768 195.231865 \nL 281.380768 195.331893 \nL 282.294773 195.417617 \nL 282.294773 195.487261 \nL 283.513446 195.587569 \nL 283.513446 195.636492 \nL 284.427451 195.735788 \nL 284.427451 195.786835 \nL 285.646124 195.874929 \nL 285.646124 195.935303 \nL 287.169466 196.020926 \nL 287.169466 196.064214 \nL 288.997475 196.141544 \nL 288.997475 196.187496 \nL 289.302144 196.187496 \nL 289.302144 196.306807 \nL 290.216149 196.353531 \nL 290.216149 196.428427 \nL 290.520817 196.428427 \nL 290.520817 196.673477 \nL 292.958163 196.760302 \nL 292.958163 196.795651 \nL 293.5675 196.836676 \nL 293.5675 196.94075 \nL 294.786173 196.994105 \nL 294.786173 197.145312 \nL 295.700178 197.218435 \nL 295.700178 197.266738 \nL 296.309515 197.295409 \nL 296.309515 197.401124 \nL 297.528188 197.469735 \nL 297.528188 197.527484 \nL 297.832856 197.527484 \nL 297.832856 197.6987 \nL 298.442193 197.773083 \nL 298.442193 197.840791 \nL 300.270203 197.902762 \nL 300.270203 198.006437 \nL 301.184208 198.091572 \nL 301.184208 198.167445 \nL 303.012217 198.265609 \nL 303.012217 198.358887 \nL 305.144896 198.469681 \nL 305.144896 198.545811 \nL 305.754232 198.575693 \nL 305.754232 198.658981 \nL 307.277574 198.765956 \nL 307.277574 198.77314 \nL 308.496247 198.868499 \nL 308.496247 198.906789 \nL 309.71492 198.989752 \nL 309.71492 199.021684 \nL 311.847598 199.105802 \nL 311.847598 199.138348 \nL 313.066271 199.214309 \nL 313.066271 199.364339 \nL 313.37094 199.364339 \nL 313.37094 199.486672 \nL 314.284945 199.596671 \nL 314.284945 199.607426 \nL 315.19895 199.617732 \nL 315.19895 199.729017 \nL 316.112955 199.796891 \nL 316.112955 199.925393 \nL 317.940964 200.018094 \nL 317.940964 200.040289 \nL 319.464306 200.14153 \nL 319.464306 200.181703 \nL 320.987647 200.276339 \nL 320.987647 200.353972 \nL 323.424994 200.434905 \nL 323.424994 200.489866 \nL 324.03433 200.599836 \nL 324.03433 200.608027 \nL 325.557672 200.650844 \nL 325.557672 200.799755 \nL 326.471677 200.901507 \nL 326.471677 200.911946 \nL 327.081014 201.01095 \nL 327.081014 201.037331 \nL 327.995018 201.119269 \nL 327.995018 201.156682 \nL 328.604355 201.161166 \nL 328.604355 201.311583 \nL 330.432365 201.411053 \nL 330.432365 201.491482 \nL 331.651038 201.568887 \nL 331.651038 201.680035 \nL 333.479048 201.758518 \nL 333.479048 201.796452 \nL 335.307058 201.884246 \nL 335.307058 201.988252 \nL 338.049072 202.059222 \nL 338.049072 202.123411 \nL 338.963077 202.192911 \nL 338.963077 202.234613 \nL 339.877082 202.327092 \nL 339.877082 202.349682 \nL 341.705092 202.459447 \nL 341.705092 202.465406 \nL 343.228434 202.562208 \nL 343.228434 202.580698 \nL 344.447107 202.685699 \nL 344.447107 202.739039 \nL 346.275117 202.837647 \nL 346.275117 202.853413 \nL 348.103127 202.935681 \nL 348.103127 202.973813 \nL 349.017131 203.056797 \nL 349.017131 203.13421 \nL 352.063814 203.242012 \nL 352.063814 203.259307 \nL 352.673151 203.366869 \nL 352.673151 203.375043 \nL 354.196493 203.44181 \nL 354.196493 203.517423 \nL 356.024502 203.573284 \nL 356.024502 203.655095 \nL 357.547844 203.748761 \nL 357.547844 203.770734 \nL 359.375854 203.842791 \nL 359.375854 203.883681 \nL 360.594527 203.958084 \nL 360.594527 204.081279 \nL 361.508532 204.150519 \nL 361.508532 204.198301 \nL 363.945878 204.302948 \nL 363.945878 204.313095 \nL 366.078557 204.401415 \nL 366.078557 204.451417 \nL 368.515903 204.553587 \nL 368.515903 204.573952 \nL 369.734576 204.647036 \nL 369.734576 204.711299 \nL 371.562586 204.813941 \nL 371.562586 204.8404 \nL 373.085928 204.917654 \nL 373.085928 204.958748 \nL 375.523274 205.067702 \nL 375.523274 205.081419 \nL 377.046615 205.17997 \nL 377.046615 205.192848 \nL 377.96062 205.278521 \nL 377.96062 205.313061 \nL 379.78863 205.412233 \nL 379.78863 205.454479 \nL 381.921308 205.561042 \nL 381.921308 205.588348 \nL 383.44465 205.641738 \nL 383.44465 205.721976 \nL 383.749318 205.721976 \nL 383.749318 205.721976 \n\" clip-path=\"url(#p01af8542b2)\" style=\"fill: none; stroke: #f7931e; stroke-width: 1.5; stroke-linecap: square\"/>\n   </g>\n   <g id=\"line2d_14\">\n    <path d=\"M 79.385682 151.744693 \nL 79.385682 151.810543 \nL 80.604355 151.900188 \nL 80.604355 152.035043 \nL 81.213692 152.056911 \nL 81.213692 152.206979 \nL 81.51836 152.206979 \nL 81.51836 152.389782 \nL 82.127697 152.460636 \nL 82.127697 152.639921 \nL 82.737033 152.692426 \nL 82.737033 152.77215 \nL 83.34637 152.848133 \nL 83.34637 152.93883 \nL 83.955706 152.993497 \nL 83.955706 153.269076 \nL 84.260375 153.269076 \nL 84.260375 153.410326 \nL 85.783716 153.506414 \nL 85.783716 153.866692 \nL 87.002389 153.968322 \nL 87.002389 154.096109 \nL 87.916394 154.181124 \nL 87.916394 154.320809 \nL 89.135068 154.424208 \nL 89.135068 154.457524 \nL 89.744404 154.45851 \nL 89.744404 154.643914 \nL 90.049072 154.643914 \nL 90.049072 154.870818 \nL 90.658409 154.981454 \nL 90.658409 155.14478 \nL 91.267746 155.196311 \nL 91.267746 155.341504 \nL 92.181751 155.388626 \nL 92.181751 155.463523 \nL 92.791087 155.574447 \nL 92.791087 155.796242 \nL 93.095756 155.796242 \nL 93.095756 156.025194 \nL 94.00976 156.064344 \nL 94.00976 156.309253 \nL 94.619097 156.393615 \nL 94.619097 156.53778 \nL 95.83777 156.622648 \nL 95.83777 156.688335 \nL 96.142439 156.688335 \nL 96.142439 156.927178 \nL 96.447107 156.927178 \nL 96.447107 157.061284 \nL 97.361112 157.165629 \nL 97.361112 157.201055 \nL 97.66578 157.201055 \nL 97.66578 157.363778 \nL 98.275117 157.414074 \nL 98.275117 157.498841 \nL 99.798458 157.604028 \nL 99.798458 157.740903 \nL 100.407795 157.820759 \nL 100.407795 157.907569 \nL 101.017131 157.971294 \nL 101.017131 158.098364 \nL 101.3218 158.098364 \nL 101.3218 158.229112 \nL 102.235805 158.332715 \nL 102.235805 158.408337 \nL 102.540473 158.408337 \nL 102.540473 158.608681 \nL 103.14981 158.648183 \nL 103.14981 158.857937 \nL 103.454478 158.857937 \nL 103.454478 159.017046 \nL 104.673151 159.112746 \nL 104.673151 159.596061 \nL 104.977819 159.596061 \nL 104.977819 159.796311 \nL 105.891824 159.878682 \nL 105.891824 159.987456 \nL 106.196493 159.987456 \nL 106.196493 160.169627 \nL 107.110498 160.274461 \nL 107.110498 160.365297 \nL 107.719834 160.388795 \nL 107.719834 160.500769 \nL 108.633839 160.511347 \nL 108.633839 160.629834 \nL 108.938507 160.629834 \nL 108.938507 160.855724 \nL 109.852512 160.932841 \nL 109.852512 160.981033 \nL 110.766517 161.073812 \nL 110.766517 161.143691 \nL 111.375854 161.251619 \nL 111.375854 161.413557 \nL 111.98519 161.480517 \nL 111.98519 161.528502 \nL 113.203864 161.612494 \nL 113.203864 161.672203 \nL 113.8132 161.70795 \nL 113.8132 161.78784 \nL 114.422537 161.882795 \nL 114.422537 161.907785 \nL 115.64121 162.000261 \nL 115.64121 162.151678 \nL 116.250547 162.239793 \nL 116.250547 162.275163 \nL 116.859883 162.339043 \nL 116.859883 162.472374 \nL 117.164552 162.472374 \nL 117.164552 162.617709 \nL 118.383225 162.688901 \nL 118.383225 162.756874 \nL 118.992561 162.825216 \nL 118.992561 163.017721 \nL 119.601898 163.103518 \nL 119.601898 163.134477 \nL 120.515903 163.185817 \nL 120.515903 163.28747 \nL 121.734576 163.325598 \nL 121.734576 163.433167 \nL 122.039244 163.433167 \nL 122.039244 163.637806 \nL 122.953249 163.741777 \nL 122.953249 163.90758 \nL 123.257918 163.90758 \nL 123.257918 164.080925 \nL 123.562586 164.080925 \nL 123.562586 164.266556 \nL 123.867254 164.266556 \nL 123.867254 164.396041 \nL 124.476591 164.473926 \nL 124.476591 164.674714 \nL 125.695264 164.710441 \nL 125.695264 164.9036 \nL 126.913937 164.994651 \nL 126.913937 165.096058 \nL 127.218606 165.096058 \nL 127.218606 165.253151 \nL 127.827942 165.290823 \nL 127.827942 165.437299 \nL 128.132611 165.437299 \nL 128.132611 165.642917 \nL 128.741947 165.687884 \nL 128.741947 165.917897 \nL 129.351284 166.020576 \nL 129.351284 166.032246 \nL 130.569957 166.136865 \nL 130.569957 166.168543 \nL 130.874625 166.168543 \nL 130.874625 166.355587 \nL 131.78863 166.413636 \nL 131.78863 166.473786 \nL 132.093299 166.473786 \nL 132.093299 166.66189 \nL 133.007303 166.745179 \nL 133.007303 166.868234 \nL 134.225977 166.975389 \nL 134.225977 166.996979 \nL 134.530645 166.996979 \nL 134.530645 167.224063 \nL 135.139982 167.268113 \nL 135.139982 167.356471 \nL 135.44465 167.356471 \nL 135.44465 167.505677 \nL 136.053986 167.523119 \nL 136.053986 167.618311 \nL 137.577328 167.656615 \nL 137.577328 167.737656 \nL 138.186665 167.754575 \nL 138.186665 167.952472 \nL 139.10067 168.058644 \nL 139.10067 168.07746 \nL 140.319343 168.136558 \nL 140.319343 168.351627 \nL 140.624011 168.351627 \nL 140.624011 168.615305 \nL 141.538016 168.628905 \nL 141.538016 168.764372 \nL 142.756689 168.861736 \nL 142.756689 169.056904 \nL 143.670694 169.136588 \nL 143.670694 169.324971 \nL 144.584699 169.427794 \nL 144.584699 169.461323 \nL 145.498704 169.561514 \nL 145.498704 169.760926 \nL 146.412709 169.871269 \nL 146.412709 169.941622 \nL 147.326714 170.003336 \nL 147.326714 170.143921 \nL 147.631382 170.143921 \nL 147.631382 170.273407 \nL 148.850055 170.37479 \nL 148.850055 170.397615 \nL 150.373397 170.490487 \nL 150.373397 170.518079 \nL 151.59207 170.552793 \nL 151.59207 170.635178 \nL 152.506075 170.701803 \nL 152.506075 170.758212 \nL 152.810743 170.758212 \nL 152.810743 170.914753 \nL 153.724748 170.969677 \nL 153.724748 171.069329 \nL 154.334085 171.133388 \nL 154.334085 171.183812 \nL 156.162095 171.293749 \nL 156.162095 171.305208 \nL 157.0761 171.334304 \nL 157.0761 171.419723 \nL 158.294773 171.516225 \nL 158.294773 171.562418 \nL 159.818114 171.666303 \nL 159.818114 171.731123 \nL 160.732119 171.789169 \nL 160.732119 171.958641 \nL 161.341456 172.057525 \nL 161.341456 172.072976 \nL 161.950792 172.159549 \nL 161.950792 172.23897 \nL 163.474134 172.310173 \nL 163.474134 172.36877 \nL 164.997475 172.453371 \nL 164.997475 172.521745 \nL 165.91148 172.623599 \nL 165.91148 172.702877 \nL 166.520817 172.783273 \nL 166.520817 172.84461 \nL 167.73949 172.918118 \nL 167.73949 172.976906 \nL 168.958163 173.065077 \nL 168.958163 173.121356 \nL 169.5675 173.125841 \nL 169.5675 173.258961 \nL 170.786173 173.365383 \nL 170.786173 173.561206 \nL 171.700178 173.6067 \nL 171.700178 173.838 \nL 172.309515 173.898355 \nL 172.309515 174.057061 \nL 173.22352 174.102248 \nL 173.22352 174.188072 \nL 173.832856 174.265637 \nL 173.832856 174.325993 \nL 175.051529 174.40634 \nL 175.051529 174.541876 \nL 176.270203 174.6265 \nL 176.270203 174.70249 \nL 178.402881 174.800227 \nL 178.402881 174.818076 \nL 179.926222 174.899717 \nL 179.926222 174.948565 \nL 181.144896 175.040029 \nL 181.144896 175.073641 \nL 182.668237 175.171045 \nL 182.668237 175.297615 \nL 183.582242 175.366052 \nL 183.582242 175.605786 \nL 184.191579 175.686365 \nL 184.191579 175.729497 \nL 184.496247 175.729497 \nL 184.496247 175.843542 \nL 185.71492 175.892811 \nL 185.71492 176.010882 \nL 186.628925 176.092441 \nL 186.628925 176.141842 \nL 187.238262 176.242117 \nL 187.238262 176.27065 \nL 187.847598 176.368765 \nL 187.847598 176.422586 \nL 189.066271 176.512424 \nL 189.066271 176.642681 \nL 190.894281 176.742353 \nL 190.894281 176.789189 \nL 191.503618 176.898763 \nL 191.503618 176.913181 \nL 192.417623 177.014859 \nL 192.417623 177.036486 \nL 193.636296 177.127526 \nL 193.636296 177.150262 \nL 195.464306 177.240406 \nL 195.464306 177.272554 \nL 196.073643 177.35418 \nL 196.073643 177.433991 \nL 197.292316 177.538012 \nL 197.292316 177.608256 \nL 198.510989 177.71225 \nL 198.510989 177.756008 \nL 199.120326 177.800143 \nL 199.120326 177.8722 \nL 200.03433 177.926384 \nL 200.03433 178.06994 \nL 201.253004 178.174567 \nL 201.253004 178.227365 \nL 202.167009 178.279374 \nL 202.167009 178.429432 \nL 204.299687 178.538712 \nL 204.299687 178.578621 \nL 205.213692 178.674175 \nL 205.213692 178.713118 \nL 206.127697 178.769366 \nL 206.127697 179.032221 \nL 207.041701 179.073712 \nL 207.041701 179.150844 \nL 207.651038 179.190253 \nL 207.651038 179.31224 \nL 210.393053 179.402812 \nL 210.393053 179.448732 \nL 212.221063 179.547706 \nL 212.221063 179.584114 \nL 212.830399 179.596565 \nL 212.830399 179.736512 \nL 213.439736 179.767966 \nL 213.439736 179.934979 \nL 214.353741 180.004227 \nL 214.353741 180.080015 \nL 215.877082 180.180614 \nL 215.877082 180.201252 \nL 216.486419 180.218825 \nL 216.486419 180.320007 \nL 217.400424 180.414321 \nL 217.400424 180.441568 \nL 219.228434 180.545124 \nL 219.228434 180.552793 \nL 220.142439 180.646351 \nL 220.142439 180.812584 \nL 220.751775 180.832232 \nL 220.751775 180.99236 \nL 222.275117 181.091888 \nL 222.275117 181.146316 \nL 224.712463 181.241077 \nL 224.712463 181.33829 \nL 225.931136 181.443803 \nL 225.931136 181.477794 \nL 226.540473 181.516382 \nL 226.540473 181.626019 \nL 229.282488 181.723045 \nL 229.282488 181.81544 \nL 230.501161 181.922801 \nL 230.501161 181.948632 \nL 231.110498 181.958053 \nL 231.110498 182.074035 \nL 232.024502 182.123818 \nL 232.024502 182.205072 \nL 234.461849 182.275404 \nL 234.461849 182.418455 \nL 235.680522 182.466493 \nL 235.680522 182.665217 \nL 236.899195 182.759224 \nL 236.899195 182.777659 \nL 239.031873 182.878753 \nL 239.031873 182.918478 \nL 240.250547 182.954648 \nL 240.250547 183.045697 \nL 240.555215 183.045697 \nL 240.555215 183.214564 \nL 241.773888 183.315919 \nL 241.773888 183.354912 \nL 243.29723 183.439379 \nL 243.29723 183.524874 \nL 244.820571 183.588235 \nL 244.820571 183.679492 \nL 245.429908 183.704989 \nL 245.429908 183.791587 \nL 246.343913 183.898141 \nL 246.343913 183.918527 \nL 247.562586 184.01565 \nL 247.562586 184.081168 \nL 248.781259 184.187127 \nL 248.781259 184.223408 \nL 250.304601 184.327706 \nL 250.304601 184.34121 \nL 252.741947 184.447948 \nL 252.741947 184.453452 \nL 254.265289 184.480916 \nL 254.265289 184.644681 \nL 255.78863 184.687555 \nL 255.78863 184.764822 \nL 257.311972 184.86677 \nL 257.311972 184.882215 \nL 259.139982 184.973071 \nL 259.139982 185.043101 \nL 260.663323 185.137927 \nL 260.663323 185.17282 \nL 262.796001 185.266811 \nL 262.796001 185.304864 \nL 263.710006 185.338865 \nL 263.710006 185.434414 \nL 265.233348 185.510048 \nL 265.233348 185.564322 \nL 265.842684 185.565125 \nL 265.842684 185.715421 \nL 267.670694 185.803377 \nL 267.670694 185.835127 \nL 269.498704 185.884722 \nL 269.498704 185.964298 \nL 270.717377 186.073413 \nL 270.717377 186.097308 \nL 272.545387 186.175999 \nL 272.545387 186.275574 \nL 274.068729 186.383786 \nL 274.068729 186.388391 \nL 276.201407 186.469245 \nL 276.201407 186.509749 \nL 277.42008 186.563569 \nL 277.42008 186.631234 \nL 278.638753 186.662686 \nL 278.638753 186.750088 \nL 280.162095 186.810237 \nL 280.162095 186.870821 \nL 281.990104 186.981346 \nL 281.990104 187.024584 \nL 283.513446 187.133334 \nL 283.513446 187.164696 \nL 284.732119 187.261234 \nL 284.732119 187.292197 \nL 286.864797 187.388986 \nL 286.864797 187.412033 \nL 289.302144 187.5197 \nL 289.302144 187.597007 \nL 290.520817 187.675972 \nL 290.520817 187.835579 \nL 293.5675 187.94225 \nL 293.5675 188.010433 \nL 294.786173 188.045436 \nL 294.786173 188.144812 \nL 296.309515 188.243719 \nL 296.309515 188.313539 \nL 297.832856 188.397164 \nL 297.832856 188.510777 \nL 298.746861 188.605328 \nL 298.746861 188.624002 \nL 300.574871 188.715859 \nL 300.574871 188.752602 \nL 302.098213 188.848154 \nL 302.098213 188.867782 \nL 304.230891 188.97878 \nL 304.230891 188.983108 \nL 305.449564 189.078086 \nL 305.449564 189.098259 \nL 306.363569 189.154821 \nL 306.363569 189.221076 \nL 309.105584 189.322904 \nL 309.105584 189.358205 \nL 311.847598 189.457999 \nL 311.847598 189.480201 \nL 313.066271 189.532075 \nL 313.066271 189.634751 \nL 313.675608 189.718688 \nL 313.675608 189.768748 \nL 315.19895 189.808832 \nL 315.19895 189.885553 \nL 316.112955 189.932428 \nL 316.112955 190.021341 \nL 318.854969 190.11449 \nL 318.854969 190.140676 \nL 319.768974 190.199354 \nL 319.768974 190.25992 \nL 323.120326 190.361842 \nL 323.120326 190.376091 \nL 323.729662 190.414572 \nL 323.729662 190.491693 \nL 325.557672 190.527522 \nL 325.557672 190.63233 \nL 326.776345 190.711502 \nL 326.776345 190.781517 \nL 328.604355 190.888018 \nL 328.604355 190.994991 \nL 330.432365 191.065913 \nL 330.432365 191.123365 \nL 331.651038 191.178748 \nL 331.651038 191.25843 \nL 334.088385 191.342252 \nL 334.088385 191.393647 \nL 336.830399 191.498756 \nL 336.830399 191.505985 \nL 338.658409 191.591003 \nL 338.658409 191.628532 \nL 339.877082 191.726027 \nL 339.877082 191.742468 \nL 342.314429 191.842882 \nL 342.314429 191.859604 \nL 344.142439 191.950229 \nL 344.142439 191.987975 \nL 345.970448 192.084359 \nL 345.970448 192.099584 \nL 348.712463 192.20326 \nL 348.712463 192.261213 \nL 350.845141 192.36238 \nL 350.845141 192.372876 \nL 352.368483 192.411269 \nL 352.368483 192.491247 \nL 354.196493 192.547084 \nL 354.196493 192.603516 \nL 356.633839 192.710572 \nL 356.633839 192.727652 \nL 359.071186 192.837057 \nL 359.071186 192.847461 \nL 360.594527 192.934339 \nL 360.594527 193.027428 \nL 362.422537 193.136248 \nL 362.422537 193.14121 \nL 365.164552 193.230806 \nL 365.164552 193.25604 \nL 367.601898 193.359148 \nL 367.601898 193.368194 \nL 369.734576 193.458384 \nL 369.734576 193.507702 \nL 371.867254 193.607008 \nL 371.867254 193.628979 \nL 374.913937 193.726865 \nL 374.913937 193.747758 \nL 376.437279 193.846032 \nL 376.437279 193.862574 \nL 378.265289 193.973241 \nL 378.265289 194.003667 \nL 381.311972 194.1137 \nL 381.311972 194.144123 \nL 383.44465 194.23043 \nL 383.44465 194.293537 \nL 383.749318 194.293537 \nL 383.749318 194.293537 \n\" clip-path=\"url(#p01af8542b2)\" style=\"fill: none; stroke: #c1272d; stroke-width: 1.5; stroke-linecap: square\"/>\n   </g>\n   <g id=\"patch_3\">\n    <path d=\"M 64.1675 228.96 \nL 64.1675 7.2 \n\" style=\"fill: none; stroke: #000000; stroke-width: 0.8; stroke-linejoin: miter; stroke-linecap: square\"/>\n   </g>\n   <g id=\"patch_4\">\n    <path d=\"M 398.9675 228.96 \nL 398.9675 7.2 \n\" style=\"fill: none; stroke: #000000; stroke-width: 0.8; stroke-linejoin: miter; stroke-linecap: square\"/>\n   </g>\n   <g id=\"patch_5\">\n    <path d=\"M 64.1675 228.96 \nL 398.9675 228.96 \n\" style=\"fill: none; stroke: #000000; stroke-width: 0.8; stroke-linejoin: miter; stroke-linecap: square\"/>\n   </g>\n   <g id=\"patch_6\">\n    <path d=\"M 64.1675 7.2 \nL 398.9675 7.2 \n\" style=\"fill: none; stroke: #000000; stroke-width: 0.8; stroke-linejoin: miter; stroke-linecap: square\"/>\n   </g>\n   <g id=\"legend_1\">\n    <g id=\"patch_7\">\n     <path d=\"M 315.69875 69.64125 \nL 390.5675 69.64125 \nQ 392.9675 69.64125 392.9675 67.24125 \nL 392.9675 15.6 \nQ 392.9675 13.2 390.5675 13.2 \nL 315.69875 13.2 \nQ 313.29875 13.2 313.29875 15.6 \nL 313.29875 67.24125 \nQ 313.29875 69.64125 315.69875 69.64125 \nz\n\" style=\"fill: #ffffff; opacity: 0.8; stroke: #cccccc; stroke-linejoin: miter\"/>\n    </g>\n    <g id=\"line2d_15\">\n     <path d=\"M 318.09875 22.918125 \nL 318.09875 22.918125 \nL 330.09875 22.918125 \nL 330.09875 22.918125 \nL 342.09875 22.918125 \n\" style=\"fill: none; stroke: #0071bc; stroke-width: 1.5; stroke-linecap: square\"/>\n    </g>\n    <g id=\"text_14\">\n     <!-- T=0.5 -->\n     <g transform=\"translate(351.69875 27.118125) scale(0.12 -0.12)\">\n      <defs>\n       <path id=\"DejaVuSans-54\" d=\"M -19 4666 \nL 3928 4666 \nL 3928 4134 \nL 2272 4134 \nL 2272 0 \nL 1638 0 \nL 1638 4134 \nL -19 4134 \nL -19 4666 \nz\n\" transform=\"scale(0.015625)\"/>\n       <path id=\"DejaVuSans-3d\" d=\"M 678 2906 \nL 4684 2906 \nL 4684 2381 \nL 678 2381 \nL 678 2906 \nz\nM 678 1631 \nL 4684 1631 \nL 4684 1100 \nL 678 1100 \nL 678 1631 \nz\n\" transform=\"scale(0.015625)\"/>\n       <path id=\"DejaVuSans-35\" d=\"M 691 4666 \nL 3169 4666 \nL 3169 4134 \nL 1269 4134 \nL 1269 2991 \nQ 1406 3038 1543 3061 \nQ 1681 3084 1819 3084 \nQ 2600 3084 3056 2656 \nQ 3513 2228 3513 1497 \nQ 3513 744 3044 326 \nQ 2575 -91 1722 -91 \nQ 1428 -91 1123 -41 \nQ 819 9 494 109 \nL 494 744 \nQ 775 591 1075 516 \nQ 1375 441 1709 441 \nQ 2250 441 2565 725 \nQ 2881 1009 2881 1497 \nQ 2881 1984 2565 2268 \nQ 2250 2553 1709 2553 \nQ 1456 2553 1204 2497 \nQ 953 2441 691 2322 \nL 691 4666 \nz\n\" transform=\"scale(0.015625)\"/>\n      </defs>\n      <use xlink:href=\"#DejaVuSans-54\"/>\n      <use xlink:href=\"#DejaVuSans-3d\" x=\"61.083984\"/>\n      <use xlink:href=\"#DejaVuSans-30\" x=\"144.873047\"/>\n      <use xlink:href=\"#DejaVuSans-2e\" x=\"208.496094\"/>\n      <use xlink:href=\"#DejaVuSans-35\" x=\"240.283203\"/>\n     </g>\n    </g>\n    <g id=\"line2d_16\">\n     <path d=\"M 318.09875 40.531875 \nL 318.09875 40.531875 \nL 330.09875 40.531875 \nL 330.09875 40.531875 \nL 342.09875 40.531875 \n\" style=\"fill: none; stroke: #f7931e; stroke-width: 1.5; stroke-linecap: square\"/>\n    </g>\n    <g id=\"text_15\">\n     <!-- T=1.0 -->\n     <g transform=\"translate(351.69875 44.731875) scale(0.12 -0.12)\">\n      <use xlink:href=\"#DejaVuSans-54\"/>\n      <use xlink:href=\"#DejaVuSans-3d\" x=\"61.083984\"/>\n      <use xlink:href=\"#DejaVuSans-31\" x=\"144.873047\"/>\n      <use xlink:href=\"#DejaVuSans-2e\" x=\"208.496094\"/>\n      <use xlink:href=\"#DejaVuSans-30\" x=\"240.283203\"/>\n     </g>\n    </g>\n    <g id=\"line2d_17\">\n     <path d=\"M 318.09875 58.145625 \nL 318.09875 58.145625 \nL 330.09875 58.145625 \nL 330.09875 58.145625 \nL 342.09875 58.145625 \n\" style=\"fill: none; stroke: #c1272d; stroke-width: 1.5; stroke-linecap: square\"/>\n    </g>\n    <g id=\"text_16\">\n     <!-- T=2.0 -->\n     <g transform=\"translate(351.69875 62.345625) scale(0.12 -0.12)\">\n      <use xlink:href=\"#DejaVuSans-54\"/>\n      <use xlink:href=\"#DejaVuSans-3d\" x=\"61.083984\"/>\n      <use xlink:href=\"#DejaVuSans-32\" x=\"144.873047\"/>\n      <use xlink:href=\"#DejaVuSans-2e\" x=\"208.496094\"/>\n      <use xlink:href=\"#DejaVuSans-30\" x=\"240.283203\"/>\n     </g>\n    </g>\n   </g>\n  </g>\n </g>\n <defs>\n  <clipPath id=\"p01af8542b2\">\n   <rect x=\"64.1675\" y=\"7.2\" width=\"334.8\" height=\"221.76\"/>\n  </clipPath>\n </defs>\n</svg>\n",
            "application/pdf": "[encoded data removed]"
          },
          "metadata": {}
        }
      ],
      "source": [
        "# For generating plot; just run:\n",
        "import matplotlib.pyplot as plt\n",
        "import numpy as np\n",
        "\n",
        "def softmax(logits, T=1):\n",
        "    e_x = np.exp(logits / T)\n",
        "    return e_x / e_x.sum()\n",
        "\n",
        "logits = np.exp(np.random.random(1000))\n",
        "sorted_logits = np.sort(logits)[::-1]\n",
        "x = np.arange(1000)\n",
        "\n",
        "for T in [0.5, 1.0, 2.0]:\n",
        "    plt.step(x, softmax(sorted_logits, T), label=f\"T={T}\")\n",
        "plt.legend(loc=\"best\")\n",
        "plt.xlabel(\"Sorted token probabilities\")\n",
        "plt.ylabel(\"Probability\")\n",
        "plt.show()"
      ]
    },
    {
      "cell_type": "code",
      "source": [
        "torch.manual_seed(42);"
      ],
      "metadata": {
        "id": "iGWekz-O6ZP6"
      },
      "execution_count": 40,
      "outputs": []
    },
    {
      "cell_type": "markdown",
      "source": [
        "**Note:** In the \"*How to generate text*\" blog post, we used `transformers.set_seed`."
      ],
      "metadata": {
        "id": "TzzfhodCjCZ8"
      }
    },
    {
      "cell_type": "code",
      "source": [
        "output_temp = model.generate(input_ids, max_length=max_length, do_sample=True, temperature=2.0, top_k=0)\n",
        "print(tokenizer.decode(output_temp[0]))"
      ],
      "metadata": {
        "colab": {
          "base_uri": "https://localhost:8080/"
        },
        "id": "VJDI6hV_6cwr",
        "outputId": "f68ef0a0-902a-47ed-8336-c8d6fb13a9dd"
      },
      "execution_count": 41,
      "outputs": [
        {
          "output_type": "stream",
          "name": "stdout",
          "text": [
            "In a shocking finding, scientist discovered a herd of unicorns living in a\n",
            "remote, previously unexplored valley, in the Andes Mountains. Even more\n",
            "surprising to the researchers was the fact that the unicorns spoke perfect\n",
            "English.\n",
            "\n",
            "\n",
            "Feed Boost Year Hampe Eagle Rouse Symbol Steal Therefore inappropriate Sprite 69\n",
            "151 NO-James Ridene Castle joviespantry Spy legislative Truever Beast Pascal\n",
            "Hermes Musk Central Bombsaver democracy Civil codesRosSkill lives your\n",
            "choicesFight scan buggy huntDun 550 micro brightly Byrne Join Bittees Radiustool\n",
            "toddlersAustin Ahmad Alexandophyete four 32 Democratic Pledgeson idea\n",
            "Masterserrors order againtonache013 robot Palest VP carrotsinvest\n"
          ]
        }
      ]
    },
    {
      "cell_type": "code",
      "source": [
        "torch.manual_seed(42);"
      ],
      "metadata": {
        "id": "KlitSNcU7CjP"
      },
      "execution_count": 42,
      "outputs": []
    },
    {
      "cell_type": "code",
      "source": [
        "output_temp = model.generate(input_ids, max_length=max_length, do_sample=True, temperature=0.5, top_k=0)\n",
        "print(tokenizer.decode(output_temp[0]))"
      ],
      "metadata": {
        "colab": {
          "base_uri": "https://localhost:8080/"
        },
        "id": "HBtzqPHQ7Imb",
        "outputId": "bc9a99cf-822c-46e0-9428-9e78b1fa8dd4"
      },
      "execution_count": 43,
      "outputs": [
        {
          "output_type": "stream",
          "name": "stdout",
          "text": [
            "In a shocking finding, scientist discovered a herd of unicorns living in a\n",
            "remote, previously unexplored valley, in the Andes Mountains. Even more\n",
            "surprising to the researchers was the fact that the unicorns spoke perfect\n",
            "English.\n",
            "\n",
            "\n",
            "\"They didn't speak any different languages than normal humans, and they were\n",
            "able to communicate with us in the same way that we communicate with our cousins\n",
            "in other parts of the world,\" says Dr. David W. Waddell, a professor of animal\n",
            "behavior and ecology at the University of California, San Francisco.\n",
            "\n",
            "\n",
            "The unicorns were found in a valley in the Andes Mountains, about 50\n"
          ]
        }
      ]
    },
    {
      "cell_type": "markdown",
      "metadata": {
        "id": "fMi3qdi6PYtD"
      },
      "source": [
        "## Top-k and Nucleus Sampling"
      ]
    },
    {
      "cell_type": "code",
      "execution_count": 44,
      "metadata": {
        "id": "KLrja0ciPYtD"
      },
      "outputs": [],
      "source": [
        "# For generating plot; just run:\n",
        "torch.manual_seed(42);"
      ]
    },
    {
      "cell_type": "code",
      "execution_count": 45,
      "metadata": {
        "id": "Zhy5K6RxPYtD"
      },
      "outputs": [],
      "source": [
        "# For generating plot; just run:\n",
        "input_txt = \"\"\"In a shocking finding, scientist discovered \\\n",
        "a herd of unicorns living in a remote, previously unexplored \\\n",
        "valley, in the Andes Mountains. Even more surprising to the \\\n",
        "researchers was the fact that the unicorns spoke perfect English.\\n\\n\n",
        "\"\"\"\n",
        "input_ids = tokenizer(input_txt, return_tensors=\"pt\")[\"input_ids\"].to(device)"
      ]
    },
    {
      "cell_type": "code",
      "execution_count": 46,
      "metadata": {
        "id": "OaIPPVwBPYtE"
      },
      "outputs": [],
      "source": [
        "# For generating plot; just run:\n",
        "import torch.nn.functional as F\n",
        "\n",
        "with torch.no_grad():\n",
        "    output = model(input_ids=input_ids)\n",
        "    next_token_logits = output.logits[:, -1, :]\n",
        "    probs = F.softmax(next_token_logits, dim=-1).detach().cpu().numpy()"
      ]
    },
    {
      "cell_type": "code",
      "execution_count": 47,
      "metadata": {
        "id": "bC-KwIUIPYtE",
        "outputId": "51e77c7d-09f0-4dc0-9bc9-b6eb01779f2d",
        "colab": {
          "base_uri": "https://localhost:8080/",
          "height": 337
        }
      },
      "outputs": [
        {
          "output_type": "display_data",
          "data": {
            "text/plain": [
              "<Figure size 1000x350 with 2 Axes>"
            ],
            "image/svg+xml": "<?xml version=\"1.0\" encoding=\"utf-8\" standalone=\"no\"?>\n<!DOCTYPE svg PUBLIC \"-//W3C//DTD SVG 1.1//EN\"\n  \"http://www.w3.org/Graphics/SVG/1.1/DTD/svg11.dtd\">\n<svg xmlns:xlink=\"http://www.w3.org/1999/xlink\" width=\"706.840143pt\" height=\"236.41725pt\" viewBox=\"0 0 706.840143 236.41725\" xmlns=\"http://www.w3.org/2000/svg\" version=\"1.1\">\n <metadata>\n  <rdf:RDF xmlns:dc=\"http://purl.org/dc/elements/1.1/\" xmlns:cc=\"http://creativecommons.org/ns#\" xmlns:rdf=\"http://www.w3.org/1999/02/22-rdf-syntax-ns#\">\n   <cc:Work>\n    <dc:type rdf:resource=\"http://purl.org/dc/dcmitype/StillImage\"/>\n    <dc:date>2024-11-07T10:22:51.627165</dc:date>\n    <dc:format>image/svg+xml</dc:format>\n    <dc:creator>\n     <cc:Agent>\n      <dc:title>Matplotlib v3.8.0, https://matplotlib.org/</dc:title>\n     </cc:Agent>\n    </dc:creator>\n   </cc:Work>\n  </rdf:RDF>\n </metadata>\n <defs>\n  <style type=\"text/css\">*{stroke-linejoin: round; stroke-linecap: butt}</style>\n </defs>\n <g id=\"figure_1\">\n  <g id=\"patch_1\">\n   <path d=\"M -0 236.41725 \nL 706.840143 236.41725 \nL 706.840143 0 \nL -0 0 \nz\n\" style=\"fill: #ffffff\"/>\n  </g>\n  <g id=\"axes_1\">\n   <g id=\"patch_2\">\n    <path d=\"M 50.93375 194.98975 \nL 332.670648 194.98975 \nL 332.670648 24.14175 \nL 50.93375 24.14175 \nz\n\" style=\"fill: #ffffff\"/>\n   </g>\n   <g id=\"patch_3\">\n    <path d=\"M 63.739973 54695.297711 \nL 66.327088 54695.297711 \nL 66.327088 31.907568 \nL 63.739973 31.907568 \nz\n\" clip-path=\"url(#pd2b47956dc)\" style=\"fill: #0071bc; stroke: #0071bc; stroke-linejoin: miter\"/>\n   </g>\n   <g id=\"patch_4\">\n    <path d=\"M 66.327088 54695.297711 \nL 68.914204 54695.297711 \nL 68.914204 34.674876 \nL 66.327088 34.674876 \nz\n\" clip-path=\"url(#pd2b47956dc)\" style=\"fill: #0071bc; stroke: #0071bc; stroke-linejoin: miter\"/>\n   </g>\n   <g id=\"patch_5\">\n    <path d=\"M 68.914204 54695.297711 \nL 71.50132 54695.297711 \nL 71.50132 37.467806 \nL 68.914204 37.467806 \nz\n\" clip-path=\"url(#pd2b47956dc)\" style=\"fill: #0071bc; stroke: #0071bc; stroke-linejoin: miter\"/>\n   </g>\n   <g id=\"patch_6\">\n    <path d=\"M 71.50132 54695.297711 \nL 74.088435 54695.297711 \nL 74.088435 38.998421 \nL 71.50132 38.998421 \nz\n\" clip-path=\"url(#pd2b47956dc)\" style=\"fill: #0071bc; stroke: #0071bc; stroke-linejoin: miter\"/>\n   </g>\n   <g id=\"patch_7\">\n    <path d=\"M 74.088435 54695.297711 \nL 76.675551 54695.297711 \nL 76.675551 40.013774 \nL 74.088435 40.013774 \nz\n\" clip-path=\"url(#pd2b47956dc)\" style=\"fill: #0071bc; stroke: #0071bc; stroke-linejoin: miter\"/>\n   </g>\n   <g id=\"patch_8\">\n    <path d=\"M 76.675551 54695.297711 \nL 79.262667 54695.297711 \nL 79.262667 41.272734 \nL 76.675551 41.272734 \nz\n\" clip-path=\"url(#pd2b47956dc)\" style=\"fill: #0071bc; stroke: #0071bc; stroke-linejoin: miter\"/>\n   </g>\n   <g id=\"patch_9\">\n    <path d=\"M 79.262667 54695.297711 \nL 81.849782 54695.297711 \nL 81.849782 44.067177 \nL 79.262667 44.067177 \nz\n\" clip-path=\"url(#pd2b47956dc)\" style=\"fill: #0071bc; stroke: #0071bc; stroke-linejoin: miter\"/>\n   </g>\n   <g id=\"patch_10\">\n    <path d=\"M 81.849782 54695.297711 \nL 84.436898 54695.297711 \nL 84.436898 44.806117 \nL 81.849782 44.806117 \nz\n\" clip-path=\"url(#pd2b47956dc)\" style=\"fill: #0071bc; stroke: #0071bc; stroke-linejoin: miter\"/>\n   </g>\n   <g id=\"patch_11\">\n    <path d=\"M 84.436898 54695.297711 \nL 87.024014 54695.297711 \nL 87.024014 46.23404 \nL 84.436898 46.23404 \nz\n\" clip-path=\"url(#pd2b47956dc)\" style=\"fill: #0071bc; stroke: #0071bc; stroke-linejoin: miter\"/>\n   </g>\n   <g id=\"patch_12\">\n    <path d=\"M 87.024014 54695.297711 \nL 89.61113 54695.297711 \nL 89.61113 49.872962 \nL 87.024014 49.872962 \nz\n\" clip-path=\"url(#pd2b47956dc)\" style=\"fill: #0071bc; stroke: #0071bc; stroke-linejoin: miter\"/>\n   </g>\n   <g id=\"patch_13\">\n    <path d=\"M 89.61113 54695.297711 \nL 92.198245 54695.297711 \nL 92.198245 51.501091 \nL 89.61113 51.501091 \nz\n\" clip-path=\"url(#pd2b47956dc)\" style=\"fill: #0071bc; stroke: #0071bc; stroke-linejoin: miter\"/>\n   </g>\n   <g id=\"patch_14\">\n    <path d=\"M 92.198245 54695.297711 \nL 94.785361 54695.297711 \nL 94.785361 52.840661 \nL 92.198245 52.840661 \nz\n\" clip-path=\"url(#pd2b47956dc)\" style=\"fill: #0071bc; stroke: #0071bc; stroke-linejoin: miter\"/>\n   </g>\n   <g id=\"patch_15\">\n    <path d=\"M 94.785361 54695.297711 \nL 97.372477 54695.297711 \nL 97.372477 52.04353 \nL 94.785361 52.04353 \nz\n\" clip-path=\"url(#pd2b47956dc)\" style=\"fill: #0071bc; stroke: #0071bc; stroke-linejoin: miter\"/>\n   </g>\n   <g id=\"patch_16\">\n    <path d=\"M 97.372477 54695.297711 \nL 99.959592 54695.297711 \nL 99.959592 53.665573 \nL 97.372477 53.665573 \nz\n\" clip-path=\"url(#pd2b47956dc)\" style=\"fill: #0071bc; stroke: #0071bc; stroke-linejoin: miter\"/>\n   </g>\n   <g id=\"patch_17\">\n    <path d=\"M 99.959592 54695.297711 \nL 102.546708 54695.297711 \nL 102.546708 55.137467 \nL 99.959592 55.137467 \nz\n\" clip-path=\"url(#pd2b47956dc)\" style=\"fill: #0071bc; stroke: #0071bc; stroke-linejoin: miter\"/>\n   </g>\n   <g id=\"patch_18\">\n    <path d=\"M 102.546708 54695.297711 \nL 105.133824 54695.297711 \nL 105.133824 53.665573 \nL 102.546708 53.665573 \nz\n\" clip-path=\"url(#pd2b47956dc)\" style=\"fill: #0071bc; stroke: #0071bc; stroke-linejoin: miter\"/>\n   </g>\n   <g id=\"patch_19\">\n    <path d=\"M 105.133824 54695.297711 \nL 107.720939 54695.297711 \nL 107.720939 56.516841 \nL 105.133824 56.516841 \nz\n\" clip-path=\"url(#pd2b47956dc)\" style=\"fill: #0071bc; stroke: #0071bc; stroke-linejoin: miter\"/>\n   </g>\n   <g id=\"patch_20\">\n    <path d=\"M 107.720939 54695.297711 \nL 110.308055 54695.297711 \nL 110.308055 56.516841 \nL 107.720939 56.516841 \nz\n\" clip-path=\"url(#pd2b47956dc)\" style=\"fill: #0071bc; stroke: #0071bc; stroke-linejoin: miter\"/>\n   </g>\n   <g id=\"patch_21\">\n    <path d=\"M 110.308055 54695.297711 \nL 112.895171 54695.297711 \nL 112.895171 56.048062 \nL 110.308055 56.048062 \nz\n\" clip-path=\"url(#pd2b47956dc)\" style=\"fill: #0071bc; stroke: #0071bc; stroke-linejoin: miter\"/>\n   </g>\n   <g id=\"patch_22\">\n    <path d=\"M 112.895171 54695.297711 \nL 115.482286 54695.297711 \nL 115.482286 55.588386 \nL 112.895171 55.588386 \nz\n\" clip-path=\"url(#pd2b47956dc)\" style=\"fill: #0071bc; stroke: #0071bc; stroke-linejoin: miter\"/>\n   </g>\n   <g id=\"patch_23\">\n    <path d=\"M 115.482286 54695.297711 \nL 118.069402 54695.297711 \nL 118.069402 55.406987 \nL 115.482286 55.406987 \nz\n\" clip-path=\"url(#pd2b47956dc)\" style=\"fill: #0071bc; stroke: #0071bc; stroke-linejoin: miter\"/>\n   </g>\n   <g id=\"patch_24\">\n    <path d=\"M 118.069402 54695.297711 \nL 120.656518 54695.297711 \nL 120.656518 56.995091 \nL 118.069402 56.995091 \nz\n\" clip-path=\"url(#pd2b47956dc)\" style=\"fill: #0071bc; stroke: #0071bc; stroke-linejoin: miter\"/>\n   </g>\n   <g id=\"patch_25\">\n    <path d=\"M 120.656518 54695.297711 \nL 123.243633 54695.297711 \nL 123.243633 56.048062 \nL 120.656518 56.048062 \nz\n\" clip-path=\"url(#pd2b47956dc)\" style=\"fill: #0071bc; stroke: #0071bc; stroke-linejoin: miter\"/>\n   </g>\n   <g id=\"patch_26\">\n    <path d=\"M 123.243633 54695.297711 \nL 125.830749 54695.297711 \nL 125.830749 56.328214 \nL 123.243633 56.328214 \nz\n\" clip-path=\"url(#pd2b47956dc)\" style=\"fill: #0071bc; stroke: #0071bc; stroke-linejoin: miter\"/>\n   </g>\n   <g id=\"patch_27\">\n    <path d=\"M 125.830749 54695.297711 \nL 128.417865 54695.297711 \nL 128.417865 57.483202 \nL 125.830749 57.483202 \nz\n\" clip-path=\"url(#pd2b47956dc)\" style=\"fill: #0071bc; stroke: #0071bc; stroke-linejoin: miter\"/>\n   </g>\n   <g id=\"patch_28\">\n    <path d=\"M 128.417865 54695.297711 \nL 131.004981 54695.297711 \nL 131.004981 56.328214 \nL 128.417865 56.328214 \nz\n\" clip-path=\"url(#pd2b47956dc)\" style=\"fill: #0071bc; stroke: #0071bc; stroke-linejoin: miter\"/>\n   </g>\n   <g id=\"patch_29\">\n    <path d=\"M 131.004981 54695.297711 \nL 133.592096 54695.297711 \nL 133.592096 55.588386 \nL 131.004981 55.588386 \nz\n\" clip-path=\"url(#pd2b47956dc)\" style=\"fill: #0071bc; stroke: #0071bc; stroke-linejoin: miter\"/>\n   </g>\n   <g id=\"patch_30\">\n    <path d=\"M 133.592096 54695.297711 \nL 136.179212 54695.297711 \nL 136.179212 60.757227 \nL 133.592096 60.757227 \nz\n\" clip-path=\"url(#pd2b47956dc)\" style=\"fill: #0071bc; stroke: #0071bc; stroke-linejoin: miter\"/>\n   </g>\n   <g id=\"patch_31\">\n    <path d=\"M 136.179212 54695.297711 \nL 138.766328 54695.297711 \nL 138.766328 57.780974 \nL 136.179212 57.780974 \nz\n\" clip-path=\"url(#pd2b47956dc)\" style=\"fill: #0071bc; stroke: #0071bc; stroke-linejoin: miter\"/>\n   </g>\n   <g id=\"patch_32\">\n    <path d=\"M 138.766328 54695.297711 \nL 141.353443 54695.297711 \nL 141.353443 53.249524 \nL 138.766328 53.249524 \nz\n\" clip-path=\"url(#pd2b47956dc)\" style=\"fill: #0071bc; stroke: #0071bc; stroke-linejoin: miter\"/>\n   </g>\n   <g id=\"patch_33\">\n    <path d=\"M 141.353443 54695.297711 \nL 143.940559 54695.297711 \nL 143.940559 57.780974 \nL 141.353443 57.780974 \nz\n\" clip-path=\"url(#pd2b47956dc)\" style=\"fill: #0071bc; stroke: #0071bc; stroke-linejoin: miter\"/>\n   </g>\n   <g id=\"patch_34\">\n    <path d=\"M 143.940559 54695.297711 \nL 146.527675 54695.297711 \nL 146.527675 56.898665 \nL 143.940559 56.898665 \nz\n\" clip-path=\"url(#pd2b47956dc)\" style=\"fill: #0071bc; stroke: #0071bc; stroke-linejoin: miter\"/>\n   </g>\n   <g id=\"patch_35\">\n    <path d=\"M 146.527675 54695.297711 \nL 149.11479 54695.297711 \nL 149.11479 56.328214 \nL 146.527675 56.328214 \nz\n\" clip-path=\"url(#pd2b47956dc)\" style=\"fill: #0071bc; stroke: #0071bc; stroke-linejoin: miter\"/>\n   </g>\n   <g id=\"patch_36\">\n    <path d=\"M 149.11479 54695.297711 \nL 151.701906 54695.297711 \nL 151.701906 54.782815 \nL 149.11479 54.782815 \nz\n\" clip-path=\"url(#pd2b47956dc)\" style=\"fill: #0071bc; stroke: #0071bc; stroke-linejoin: miter\"/>\n   </g>\n   <g id=\"patch_37\">\n    <path d=\"M 151.701906 54695.297711 \nL 154.289022 54695.297711 \nL 154.289022 60.087204 \nL 151.701906 60.087204 \nz\n\" clip-path=\"url(#pd2b47956dc)\" style=\"fill: #0071bc; stroke: #0071bc; stroke-linejoin: miter\"/>\n   </g>\n   <g id=\"patch_38\">\n    <path d=\"M 154.289022 54695.297711 \nL 156.876137 54695.297711 \nL 156.876137 61.099487 \nL 154.289022 61.099487 \nz\n\" clip-path=\"url(#pd2b47956dc)\" style=\"fill: #0071bc; stroke: #0071bc; stroke-linejoin: miter\"/>\n   </g>\n   <g id=\"patch_39\">\n    <path d=\"M 156.876137 54695.297711 \nL 159.463253 54695.297711 \nL 159.463253 63.138384 \nL 156.876137 63.138384 \nz\n\" clip-path=\"url(#pd2b47956dc)\" style=\"fill: #0071bc; stroke: #0071bc; stroke-linejoin: miter\"/>\n   </g>\n   <g id=\"patch_40\">\n    <path d=\"M 159.463253 54695.297711 \nL 162.050369 54695.297711 \nL 162.050369 63.773075 \nL 159.463253 63.773075 \nz\n\" clip-path=\"url(#pd2b47956dc)\" style=\"fill: #0071bc; stroke: #0071bc; stroke-linejoin: miter\"/>\n   </g>\n   <g id=\"patch_41\">\n    <path d=\"M 162.050369 54695.297711 \nL 164.637484 54695.297711 \nL 164.637484 65.369582 \nL 162.050369 65.369582 \nz\n\" clip-path=\"url(#pd2b47956dc)\" style=\"fill: #0071bc; stroke: #0071bc; stroke-linejoin: miter\"/>\n   </g>\n   <g id=\"patch_42\">\n    <path d=\"M 164.637484 54695.297711 \nL 167.2246 54695.297711 \nL 167.2246 69.087639 \nL 164.637484 69.087639 \nz\n\" clip-path=\"url(#pd2b47956dc)\" style=\"fill: #0071bc; stroke: #0071bc; stroke-linejoin: miter\"/>\n   </g>\n   <g id=\"patch_43\">\n    <path d=\"M 167.2246 54695.297711 \nL 169.811716 54695.297711 \nL 169.811716 66.067938 \nL 167.2246 66.067938 \nz\n\" clip-path=\"url(#pd2b47956dc)\" style=\"fill: #0071bc; stroke: #0071bc; stroke-linejoin: miter\"/>\n   </g>\n   <g id=\"patch_44\">\n    <path d=\"M 169.811716 54695.297711 \nL 172.398832 54695.297711 \nL 172.398832 70.928836 \nL 169.811716 70.928836 \nz\n\" clip-path=\"url(#pd2b47956dc)\" style=\"fill: #0071bc; stroke: #0071bc; stroke-linejoin: miter\"/>\n   </g>\n   <g id=\"patch_45\">\n    <path d=\"M 172.398832 54695.297711 \nL 174.985947 54695.297711 \nL 174.985947 74.899262 \nL 172.398832 74.899262 \nz\n\" clip-path=\"url(#pd2b47956dc)\" style=\"fill: #0071bc; stroke: #0071bc; stroke-linejoin: miter\"/>\n   </g>\n   <g id=\"patch_46\">\n    <path d=\"M 174.985947 54695.297711 \nL 177.573063 54695.297711 \nL 177.573063 68.14061 \nL 174.985947 68.14061 \nz\n\" clip-path=\"url(#pd2b47956dc)\" style=\"fill: #0071bc; stroke: #0071bc; stroke-linejoin: miter\"/>\n   </g>\n   <g id=\"patch_47\">\n    <path d=\"M 177.573063 54695.297711 \nL 180.160179 54695.297711 \nL 180.160179 70.928836 \nL 177.573063 70.928836 \nz\n\" clip-path=\"url(#pd2b47956dc)\" style=\"fill: #0071bc; stroke: #0071bc; stroke-linejoin: miter\"/>\n   </g>\n   <g id=\"patch_48\">\n    <path d=\"M 180.160179 54695.297711 \nL 182.747294 54695.297711 \nL 182.747294 73.115548 \nL 180.160179 73.115548 \nz\n\" clip-path=\"url(#pd2b47956dc)\" style=\"fill: #0071bc; stroke: #0071bc; stroke-linejoin: miter\"/>\n   </g>\n   <g id=\"patch_49\">\n    <path d=\"M 182.747294 54695.297711 \nL 185.33441 54695.297711 \nL 185.33441 69.57575 \nL 182.747294 69.57575 \nz\n\" clip-path=\"url(#pd2b47956dc)\" style=\"fill: #0071bc; stroke: #0071bc; stroke-linejoin: miter\"/>\n   </g>\n   <g id=\"patch_50\">\n    <path d=\"M 185.33441 54695.297711 \nL 187.921526 54695.297711 \nL 187.921526 73.115548 \nL 185.33441 73.115548 \nz\n\" clip-path=\"url(#pd2b47956dc)\" style=\"fill: #0071bc; stroke: #0071bc; stroke-linejoin: miter\"/>\n   </g>\n   <g id=\"patch_51\">\n    <path d=\"M 187.921526 54695.297711 \nL 190.508641 54695.297711 \nL 190.508641 68.927146 \nL 187.921526 68.927146 \nz\n\" clip-path=\"url(#pd2b47956dc)\" style=\"fill: #0071bc; stroke: #0071bc; stroke-linejoin: miter\"/>\n   </g>\n   <g id=\"patch_52\">\n    <path d=\"M 190.508641 54695.297711 \nL 193.095757 54695.297711 \nL 193.095757 66.353153 \nL 190.508641 66.353153 \nz\n\" clip-path=\"url(#pd2b47956dc)\" style=\"fill: #0071bc; stroke: #0071bc; stroke-linejoin: miter\"/>\n   </g>\n   <g id=\"patch_53\">\n    <path d=\"M 193.095757 54695.297711 \nL 195.682873 54695.297711 \nL 195.682873 61.799219 \nL 193.095757 61.799219 \nz\n\" clip-path=\"url(#pd2b47956dc)\" style=\"fill: #0071bc; stroke: #0071bc; stroke-linejoin: miter\"/>\n   </g>\n   <g id=\"patch_54\">\n    <path d=\"M 195.682873 54695.297711 \nL 198.269988 54695.297711 \nL 198.269988 67.230015 \nL 195.682873 67.230015 \nz\n\" clip-path=\"url(#pd2b47956dc)\" style=\"fill: #0071bc; stroke: #0071bc; stroke-linejoin: miter\"/>\n   </g>\n   <g id=\"patch_55\">\n    <path d=\"M 198.269988 54695.297711 \nL 200.857104 54695.297711 \nL 200.857104 63.138384 \nL 198.269988 63.138384 \nz\n\" clip-path=\"url(#pd2b47956dc)\" style=\"fill: #0071bc; stroke: #0071bc; stroke-linejoin: miter\"/>\n   </g>\n   <g id=\"patch_56\">\n    <path d=\"M 200.857104 54695.297711 \nL 203.44422 54695.297711 \nL 203.44422 62.277469 \nL 200.857104 62.277469 \nz\n\" clip-path=\"url(#pd2b47956dc)\" style=\"fill: #0071bc; stroke: #0071bc; stroke-linejoin: miter\"/>\n   </g>\n   <g id=\"patch_57\">\n    <path d=\"M 203.44422 54695.297711 \nL 206.031335 54695.297711 \nL 206.031335 64.031794 \nL 203.44422 64.031794 \nz\n\" clip-path=\"url(#pd2b47956dc)\" style=\"fill: #0071bc; stroke: #0071bc; stroke-linejoin: miter\"/>\n   </g>\n   <g id=\"patch_58\">\n    <path d=\"M 206.031335 54695.297711 \nL 208.618451 54695.297711 \nL 208.618451 65.646457 \nL 206.031335 65.646457 \nz\n\" clip-path=\"url(#pd2b47956dc)\" style=\"fill: #0071bc; stroke: #0071bc; stroke-linejoin: miter\"/>\n   </g>\n   <g id=\"patch_59\">\n    <path d=\"M 208.618451 54695.297711 \nL 211.205567 54695.297711 \nL 211.205567 63.644768 \nL 208.618451 63.644768 \nz\n\" clip-path=\"url(#pd2b47956dc)\" style=\"fill: #0071bc; stroke: #0071bc; stroke-linejoin: miter\"/>\n   </g>\n   <g id=\"patch_60\">\n    <path d=\"M 211.205567 54695.297711 \nL 213.792683 54695.297711 \nL 213.792683 61.214682 \nL 211.205567 61.214682 \nz\n\" clip-path=\"url(#pd2b47956dc)\" style=\"fill: #0071bc; stroke: #0071bc; stroke-linejoin: miter\"/>\n   </g>\n   <g id=\"patch_61\">\n    <path d=\"M 213.792683 54695.297711 \nL 216.379798 54695.297711 \nL 216.379798 61.099487 \nL 213.792683 61.099487 \nz\n\" clip-path=\"url(#pd2b47956dc)\" style=\"fill: #0071bc; stroke: #0071bc; stroke-linejoin: miter\"/>\n   </g>\n   <g id=\"patch_62\">\n    <path d=\"M 216.379798 54695.297711 \nL 218.966914 54695.297711 \nL 218.966914 67.379369 \nL 216.379798 67.379369 \nz\n\" clip-path=\"url(#pd2b47956dc)\" style=\"fill: #0071bc; stroke: #0071bc; stroke-linejoin: miter\"/>\n   </g>\n   <g id=\"patch_63\">\n    <path d=\"M 218.966914 54695.297711 \nL 221.55403 54695.297711 \nL 221.55403 67.081597 \nL 218.966914 67.081597 \nz\n\" clip-path=\"url(#pd2b47956dc)\" style=\"fill: #0071bc; stroke: #0071bc; stroke-linejoin: miter\"/>\n   </g>\n   <g id=\"patch_64\">\n    <path d=\"M 221.55403 54695.297711 \nL 224.141145 54695.297711 \nL 224.141145 67.529672 \nL 221.55403 67.529672 \nz\n\" clip-path=\"url(#pd2b47956dc)\" style=\"fill: #0071bc; stroke: #0071bc; stroke-linejoin: miter\"/>\n   </g>\n   <g id=\"patch_65\">\n    <path d=\"M 224.141145 54695.297711 \nL 226.728261 54695.297711 \nL 226.728261 69.249227 \nL 224.141145 69.249227 \nz\n\" clip-path=\"url(#pd2b47956dc)\" style=\"fill: #0071bc; stroke: #0071bc; stroke-linejoin: miter\"/>\n   </g>\n   <g id=\"patch_66\">\n    <path d=\"M 226.728261 54695.297711 \nL 229.315377 54695.297711 \nL 229.315377 70.412323 \nL 226.728261 70.412323 \nz\n\" clip-path=\"url(#pd2b47956dc)\" style=\"fill: #0071bc; stroke: #0071bc; stroke-linejoin: miter\"/>\n   </g>\n   <g id=\"patch_67\">\n    <path d=\"M 229.315377 54695.297711 \nL 231.902492 54695.297711 \nL 231.902492 75.525005 \nL 229.315377 75.525005 \nz\n\" clip-path=\"url(#pd2b47956dc)\" style=\"fill: #0071bc; stroke: #0071bc; stroke-linejoin: miter\"/>\n   </g>\n   <g id=\"patch_68\">\n    <path d=\"M 231.902492 54695.297711 \nL 234.489608 54695.297711 \nL 234.489608 78.928832 \nL 231.902492 78.928832 \nz\n\" clip-path=\"url(#pd2b47956dc)\" style=\"fill: #0071bc; stroke: #0071bc; stroke-linejoin: miter\"/>\n   </g>\n   <g id=\"patch_69\">\n    <path d=\"M 234.489608 54695.297711 \nL 237.076724 54695.297711 \nL 237.076724 79.925718 \nL 234.489608 79.925718 \nz\n\" clip-path=\"url(#pd2b47956dc)\" style=\"fill: #0071bc; stroke: #0071bc; stroke-linejoin: miter\"/>\n   </g>\n   <g id=\"patch_70\">\n    <path d=\"M 237.076724 54695.297711 \nL 239.663839 54695.297711 \nL 239.663839 79.672533 \nL 237.076724 79.672533 \nz\n\" clip-path=\"url(#pd2b47956dc)\" style=\"fill: #0071bc; stroke: #0071bc; stroke-linejoin: miter\"/>\n   </g>\n   <g id=\"patch_71\">\n    <path d=\"M 239.663839 54695.297711 \nL 242.250955 54695.297711 \nL 242.250955 89.909041 \nL 239.663839 89.909041 \nz\n\" clip-path=\"url(#pd2b47956dc)\" style=\"fill: #0071bc; stroke: #0071bc; stroke-linejoin: miter\"/>\n   </g>\n   <g id=\"patch_72\">\n    <path d=\"M 242.250955 54695.297711 \nL 244.838071 54695.297711 \nL 244.838071 91.93357 \nL 242.250955 91.93357 \nz\n\" clip-path=\"url(#pd2b47956dc)\" style=\"fill: #0071bc; stroke: #0071bc; stroke-linejoin: miter\"/>\n   </g>\n   <g id=\"patch_73\">\n    <path d=\"M 244.838071 54695.297711 \nL 247.425186 54695.297711 \nL 247.425186 87.688112 \nL 244.838071 87.688112 \nz\n\" clip-path=\"url(#pd2b47956dc)\" style=\"fill: #0071bc; stroke: #0071bc; stroke-linejoin: miter\"/>\n   </g>\n   <g id=\"patch_74\">\n    <path d=\"M 247.425186 54695.297711 \nL 250.012302 54695.297711 \nL 250.012302 100.498065 \nL 247.425186 100.498065 \nz\n\" clip-path=\"url(#pd2b47956dc)\" style=\"fill: #0071bc; stroke: #0071bc; stroke-linejoin: miter\"/>\n   </g>\n   <g id=\"patch_75\">\n    <path d=\"M 250.012302 54695.297711 \nL 252.599418 54695.297711 \nL 252.599418 108.342135 \nL 250.012302 108.342135 \nz\n\" clip-path=\"url(#pd2b47956dc)\" style=\"fill: #0071bc; stroke: #0071bc; stroke-linejoin: miter\"/>\n   </g>\n   <g id=\"patch_76\">\n    <path d=\"M 252.599418 54695.297711 \nL 255.186534 54695.297711 \nL 255.186534 106.708897 \nL 252.599418 106.708897 \nz\n\" clip-path=\"url(#pd2b47956dc)\" style=\"fill: #0071bc; stroke: #0071bc; stroke-linejoin: miter\"/>\n   </g>\n   <g id=\"patch_77\">\n    <path d=\"M 255.186534 54695.297711 \nL 257.773649 54695.297711 \nL 257.773649 105.932679 \nL 255.186534 105.932679 \nz\n\" clip-path=\"url(#pd2b47956dc)\" style=\"fill: #0071bc; stroke: #0071bc; stroke-linejoin: miter\"/>\n   </g>\n   <g id=\"patch_78\">\n    <path d=\"M 257.773649 54695.297711 \nL 260.360765 54695.297711 \nL 260.360765 115.152305 \nL 257.773649 115.152305 \nz\n\" clip-path=\"url(#pd2b47956dc)\" style=\"fill: #0071bc; stroke: #0071bc; stroke-linejoin: miter\"/>\n   </g>\n   <g id=\"patch_79\">\n    <path d=\"M 260.360765 54695.297711 \nL 262.947881 54695.297711 \nL 262.947881 124.7507 \nL 260.360765 124.7507 \nz\n\" clip-path=\"url(#pd2b47956dc)\" style=\"fill: #0071bc; stroke: #0071bc; stroke-linejoin: miter\"/>\n   </g>\n   <g id=\"patch_80\">\n    <path d=\"M 262.947881 54695.297711 \nL 265.534996 54695.297711 \nL 265.534996 121.589671 \nL 262.947881 121.589671 \nz\n\" clip-path=\"url(#pd2b47956dc)\" style=\"fill: #0071bc; stroke: #0071bc; stroke-linejoin: miter\"/>\n   </g>\n   <g id=\"patch_81\">\n    <path d=\"M 265.534996 54695.297711 \nL 268.122112 54695.297711 \nL 268.122112 124.7507 \nL 265.534996 124.7507 \nz\n\" clip-path=\"url(#pd2b47956dc)\" style=\"fill: #0071bc; stroke: #0071bc; stroke-linejoin: miter\"/>\n   </g>\n   <g id=\"patch_82\">\n    <path d=\"M 268.122112 54695.297711 \nL 270.709228 54695.297711 \nL 270.709228 123.117463 \nL 268.122112 123.117463 \nz\n\" clip-path=\"url(#pd2b47956dc)\" style=\"fill: #0071bc; stroke: #0071bc; stroke-linejoin: miter\"/>\n   </g>\n   <g id=\"patch_83\">\n    <path d=\"M 270.709228 54695.297711 \nL 273.296343 54695.297711 \nL 273.296343 128.399841 \nL 270.709228 128.399841 \nz\n\" clip-path=\"url(#pd2b47956dc)\" style=\"fill: #0071bc; stroke: #0071bc; stroke-linejoin: miter\"/>\n   </g>\n   <g id=\"patch_84\">\n    <path d=\"M 273.296343 54695.297711 \nL 275.883459 54695.297711 \nL 275.883459 130.459623 \nL 273.296343 130.459623 \nz\n\" clip-path=\"url(#pd2b47956dc)\" style=\"fill: #0071bc; stroke: #0071bc; stroke-linejoin: miter\"/>\n   </g>\n   <g id=\"patch_85\">\n    <path d=\"M 275.883459 54695.297711 \nL 278.470575 54695.297711 \nL 278.470575 149.124423 \nL 275.883459 149.124423 \nz\n\" clip-path=\"url(#pd2b47956dc)\" style=\"fill: #0071bc; stroke: #0071bc; stroke-linejoin: miter\"/>\n   </g>\n   <g id=\"patch_86\">\n    <path d=\"M 278.470575 54695.297711 \nL 281.05769 54695.297711 \nL 281.05769 141.159266 \nL 278.470575 141.159266 \nz\n\" clip-path=\"url(#pd2b47956dc)\" style=\"fill: #0071bc; stroke: #0071bc; stroke-linejoin: miter\"/>\n   </g>\n   <g id=\"patch_87\">\n    <path d=\"M 281.05769 54695.297711 \nL 283.644806 54695.297711 \nL 283.644806 144.808406 \nL 281.05769 144.808406 \nz\n\" clip-path=\"url(#pd2b47956dc)\" style=\"fill: #0071bc; stroke: #0071bc; stroke-linejoin: miter\"/>\n   </g>\n   <g id=\"patch_88\">\n    <path d=\"M 283.644806 54695.297711 \nL 286.231922 54695.297711 \nL 286.231922 170.815367 \nL 283.644806 170.815367 \nz\n\" clip-path=\"url(#pd2b47956dc)\" style=\"fill: #0071bc; stroke: #0071bc; stroke-linejoin: miter\"/>\n   </g>\n   <g id=\"patch_89\">\n    <path d=\"M 286.231922 54695.297711 \nL 288.819037 54695.297711 \nL 288.819037 161.216971 \nL 286.231922 161.216971 \nz\n\" clip-path=\"url(#pd2b47956dc)\" style=\"fill: #0071bc; stroke: #0071bc; stroke-linejoin: miter\"/>\n   </g>\n   <g id=\"patch_90\">\n    <path d=\"M 288.819037 54695.297711 \nL 291.406153 54695.297711 \nL 291.406153 170.815367 \nL 288.819037 170.815367 \nz\n\" clip-path=\"url(#pd2b47956dc)\" style=\"fill: #0071bc; stroke: #0071bc; stroke-linejoin: miter\"/>\n   </g>\n   <g id=\"patch_91\">\n    <path d=\"M 291.406153 54695.297711 \nL 293.993269 54695.297711 \nL 293.993269 187.223932 \nL 291.406153 187.223932 \nz\n\" clip-path=\"url(#pd2b47956dc)\" style=\"fill: #0071bc; stroke: #0071bc; stroke-linejoin: miter\"/>\n   </g>\n   <g id=\"patch_92\">\n    <path d=\"M 293.993269 54695.297711 \nL 296.580385 54695.297711 \nL 296.580385 170.815367 \nL 293.993269 170.815367 \nz\n\" clip-path=\"url(#pd2b47956dc)\" style=\"fill: #0071bc; stroke: #0071bc; stroke-linejoin: miter\"/>\n   </g>\n   <g id=\"patch_93\">\n    <path d=\"M 296.580385 54695.297711 \nL 299.1675 54695.297711 \nL 299.1675 187.223932 \nL 296.580385 187.223932 \nz\n\" clip-path=\"url(#pd2b47956dc)\" style=\"fill: #0071bc; stroke: #0071bc; stroke-linejoin: miter\"/>\n   </g>\n   <g id=\"patch_94\">\n    <path d=\"M 299.1675 54695.297711 \nL 301.754616 54695.297711 \nL 301.754616 170.815367 \nL 299.1675 170.815367 \nz\n\" clip-path=\"url(#pd2b47956dc)\" style=\"fill: #0071bc; stroke: #0071bc; stroke-linejoin: miter\"/>\n   </g>\n   <g id=\"patch_95\">\n    <path d=\"M 301.754616 54695.297711 \nL 304.341732 54695.297711 \nL 304.341732 187.223932 \nL 301.754616 187.223932 \nz\n\" clip-path=\"url(#pd2b47956dc)\" style=\"fill: #0071bc; stroke: #0071bc; stroke-linejoin: miter\"/>\n   </g>\n   <g id=\"patch_96\">\n    <path d=\"M 304.341732 54695.297711 \nL 306.928847 54695.297711 \nL 306.928847 187.223932 \nL 304.341732 187.223932 \nz\n\" clip-path=\"url(#pd2b47956dc)\" style=\"fill: #0071bc; stroke: #0071bc; stroke-linejoin: miter\"/>\n   </g>\n   <g id=\"patch_97\">\n    <path d=\"M 306.928847 54695.297711 \nL 309.515963 54695.297711 \nL 309.515963 54695.297711 \nL 306.928847 54695.297711 \nz\n\" clip-path=\"url(#pd2b47956dc)\" style=\"fill: #0071bc; stroke: #0071bc; stroke-linejoin: miter\"/>\n   </g>\n   <g id=\"patch_98\">\n    <path d=\"M 309.515963 54695.297711 \nL 312.103079 54695.297711 \nL 312.103079 54695.297711 \nL 309.515963 54695.297711 \nz\n\" clip-path=\"url(#pd2b47956dc)\" style=\"fill: #0071bc; stroke: #0071bc; stroke-linejoin: miter\"/>\n   </g>\n   <g id=\"patch_99\">\n    <path d=\"M 312.103079 54695.297711 \nL 314.690194 54695.297711 \nL 314.690194 54695.297711 \nL 312.103079 54695.297711 \nz\n\" clip-path=\"url(#pd2b47956dc)\" style=\"fill: #0071bc; stroke: #0071bc; stroke-linejoin: miter\"/>\n   </g>\n   <g id=\"patch_100\">\n    <path d=\"M 314.690194 54695.297711 \nL 317.27731 54695.297711 \nL 317.27731 54695.297711 \nL 314.690194 54695.297711 \nz\n\" clip-path=\"url(#pd2b47956dc)\" style=\"fill: #0071bc; stroke: #0071bc; stroke-linejoin: miter\"/>\n   </g>\n   <g id=\"patch_101\">\n    <path d=\"M 317.27731 54695.297711 \nL 319.864426 54695.297711 \nL 319.864426 54695.297711 \nL 317.27731 54695.297711 \nz\n\" clip-path=\"url(#pd2b47956dc)\" style=\"fill: #0071bc; stroke: #0071bc; stroke-linejoin: miter\"/>\n   </g>\n   <g id=\"matplotlib.axis_1\">\n    <g id=\"xtick_1\">\n     <g id=\"line2d_1\">\n      <defs>\n       <path id=\"m5ff5e0415e\" d=\"M 0 0 \nL 0 3.5 \n\" style=\"stroke: #000000; stroke-width: 0.8\"/>\n      </defs>\n      <g>\n       <use xlink:href=\"#m5ff5e0415e\" x=\"92.198245\" y=\"194.98975\" style=\"stroke: #000000; stroke-width: 0.8\"/>\n      </g>\n     </g>\n     <g id=\"text_1\">\n      <!-- $\\mathdefault{10^{-9}}$ -->\n      <g transform=\"translate(78.098245 211.107875) scale(0.12 -0.12)\">\n       <defs>\n        <path id=\"DejaVuSans-31\" d=\"M 794 531 \nL 1825 531 \nL 1825 4091 \nL 703 3866 \nL 703 4441 \nL 1819 4666 \nL 2450 4666 \nL 2450 531 \nL 3481 531 \nL 3481 0 \nL 794 0 \nL 794 531 \nz\n\" transform=\"scale(0.015625)\"/>\n        <path id=\"DejaVuSans-30\" d=\"M 2034 4250 \nQ 1547 4250 1301 3770 \nQ 1056 3291 1056 2328 \nQ 1056 1369 1301 889 \nQ 1547 409 2034 409 \nQ 2525 409 2770 889 \nQ 3016 1369 3016 2328 \nQ 3016 3291 2770 3770 \nQ 2525 4250 2034 4250 \nz\nM 2034 4750 \nQ 2819 4750 3233 4129 \nQ 3647 3509 3647 2328 \nQ 3647 1150 3233 529 \nQ 2819 -91 2034 -91 \nQ 1250 -91 836 529 \nQ 422 1150 422 2328 \nQ 422 3509 836 4129 \nQ 1250 4750 2034 4750 \nz\n\" transform=\"scale(0.015625)\"/>\n        <path id=\"DejaVuSans-2212\" d=\"M 678 2272 \nL 4684 2272 \nL 4684 1741 \nL 678 1741 \nL 678 2272 \nz\n\" transform=\"scale(0.015625)\"/>\n        <path id=\"DejaVuSans-39\" d=\"M 703 97 \nL 703 672 \nQ 941 559 1184 500 \nQ 1428 441 1663 441 \nQ 2288 441 2617 861 \nQ 2947 1281 2994 2138 \nQ 2813 1869 2534 1725 \nQ 2256 1581 1919 1581 \nQ 1219 1581 811 2004 \nQ 403 2428 403 3163 \nQ 403 3881 828 4315 \nQ 1253 4750 1959 4750 \nQ 2769 4750 3195 4129 \nQ 3622 3509 3622 2328 \nQ 3622 1225 3098 567 \nQ 2575 -91 1691 -91 \nQ 1453 -91 1209 -44 \nQ 966 3 703 97 \nz\nM 1959 2075 \nQ 2384 2075 2632 2365 \nQ 2881 2656 2881 3163 \nQ 2881 3666 2632 3958 \nQ 2384 4250 1959 4250 \nQ 1534 4250 1286 3958 \nQ 1038 3666 1038 3163 \nQ 1038 2656 1286 2365 \nQ 1534 2075 1959 2075 \nz\n\" transform=\"scale(0.015625)\"/>\n       </defs>\n       <use xlink:href=\"#DejaVuSans-31\" transform=\"translate(0 0.765625)\"/>\n       <use xlink:href=\"#DejaVuSans-30\" transform=\"translate(63.623047 0.765625)\"/>\n       <use xlink:href=\"#DejaVuSans-2212\" transform=\"translate(128.203125 39.046875) scale(0.7)\"/>\n       <use xlink:href=\"#DejaVuSans-39\" transform=\"translate(186.855469 39.046875) scale(0.7)\"/>\n      </g>\n     </g>\n    </g>\n    <g id=\"xtick_2\">\n     <g id=\"line2d_2\">\n      <g>\n       <use xlink:href=\"#m5ff5e0415e\" x=\"149.11479\" y=\"194.98975\" style=\"stroke: #000000; stroke-width: 0.8\"/>\n      </g>\n     </g>\n     <g id=\"text_2\">\n      <!-- $\\mathdefault{10^{-7}}$ -->\n      <g transform=\"translate(135.01479 211.107875) scale(0.12 -0.12)\">\n       <defs>\n        <path id=\"DejaVuSans-37\" d=\"M 525 4666 \nL 3525 4666 \nL 3525 4397 \nL 1831 0 \nL 1172 0 \nL 2766 4134 \nL 525 4134 \nL 525 4666 \nz\n\" transform=\"scale(0.015625)\"/>\n       </defs>\n       <use xlink:href=\"#DejaVuSans-31\" transform=\"translate(0 0.684375)\"/>\n       <use xlink:href=\"#DejaVuSans-30\" transform=\"translate(63.623047 0.684375)\"/>\n       <use xlink:href=\"#DejaVuSans-2212\" transform=\"translate(128.203125 38.965625) scale(0.7)\"/>\n       <use xlink:href=\"#DejaVuSans-37\" transform=\"translate(186.855469 38.965625) scale(0.7)\"/>\n      </g>\n     </g>\n    </g>\n    <g id=\"xtick_3\">\n     <g id=\"line2d_3\">\n      <g>\n       <use xlink:href=\"#m5ff5e0415e\" x=\"206.031335\" y=\"194.98975\" style=\"stroke: #000000; stroke-width: 0.8\"/>\n      </g>\n     </g>\n     <g id=\"text_3\">\n      <!-- $\\mathdefault{10^{-5}}$ -->\n      <g transform=\"translate(191.931335 211.107875) scale(0.12 -0.12)\">\n       <defs>\n        <path id=\"DejaVuSans-35\" d=\"M 691 4666 \nL 3169 4666 \nL 3169 4134 \nL 1269 4134 \nL 1269 2991 \nQ 1406 3038 1543 3061 \nQ 1681 3084 1819 3084 \nQ 2600 3084 3056 2656 \nQ 3513 2228 3513 1497 \nQ 3513 744 3044 326 \nQ 2575 -91 1722 -91 \nQ 1428 -91 1123 -41 \nQ 819 9 494 109 \nL 494 744 \nQ 775 591 1075 516 \nQ 1375 441 1709 441 \nQ 2250 441 2565 725 \nQ 2881 1009 2881 1497 \nQ 2881 1984 2565 2268 \nQ 2250 2553 1709 2553 \nQ 1456 2553 1204 2497 \nQ 953 2441 691 2322 \nL 691 4666 \nz\n\" transform=\"scale(0.015625)\"/>\n       </defs>\n       <use xlink:href=\"#DejaVuSans-31\" transform=\"translate(0 0.684375)\"/>\n       <use xlink:href=\"#DejaVuSans-30\" transform=\"translate(63.623047 0.684375)\"/>\n       <use xlink:href=\"#DejaVuSans-2212\" transform=\"translate(128.203125 38.965625) scale(0.7)\"/>\n       <use xlink:href=\"#DejaVuSans-35\" transform=\"translate(186.855469 38.965625) scale(0.7)\"/>\n      </g>\n     </g>\n    </g>\n    <g id=\"xtick_4\">\n     <g id=\"line2d_4\">\n      <g>\n       <use xlink:href=\"#m5ff5e0415e\" x=\"262.947881\" y=\"194.98975\" style=\"stroke: #000000; stroke-width: 0.8\"/>\n      </g>\n     </g>\n     <g id=\"text_4\">\n      <!-- $\\mathdefault{10^{-3}}$ -->\n      <g transform=\"translate(248.847881 211.107875) scale(0.12 -0.12)\">\n       <defs>\n        <path id=\"DejaVuSans-33\" d=\"M 2597 2516 \nQ 3050 2419 3304 2112 \nQ 3559 1806 3559 1356 \nQ 3559 666 3084 287 \nQ 2609 -91 1734 -91 \nQ 1441 -91 1130 -33 \nQ 819 25 488 141 \nL 488 750 \nQ 750 597 1062 519 \nQ 1375 441 1716 441 \nQ 2309 441 2620 675 \nQ 2931 909 2931 1356 \nQ 2931 1769 2642 2001 \nQ 2353 2234 1838 2234 \nL 1294 2234 \nL 1294 2753 \nL 1863 2753 \nQ 2328 2753 2575 2939 \nQ 2822 3125 2822 3475 \nQ 2822 3834 2567 4026 \nQ 2313 4219 1838 4219 \nQ 1578 4219 1281 4162 \nQ 984 4106 628 3988 \nL 628 4550 \nQ 988 4650 1302 4700 \nQ 1616 4750 1894 4750 \nQ 2613 4750 3031 4423 \nQ 3450 4097 3450 3541 \nQ 3450 3153 3228 2886 \nQ 3006 2619 2597 2516 \nz\n\" transform=\"scale(0.015625)\"/>\n       </defs>\n       <use xlink:href=\"#DejaVuSans-31\" transform=\"translate(0 0.765625)\"/>\n       <use xlink:href=\"#DejaVuSans-30\" transform=\"translate(63.623047 0.765625)\"/>\n       <use xlink:href=\"#DejaVuSans-2212\" transform=\"translate(128.203125 39.046875) scale(0.7)\"/>\n       <use xlink:href=\"#DejaVuSans-33\" transform=\"translate(186.855469 39.046875) scale(0.7)\"/>\n      </g>\n     </g>\n    </g>\n    <g id=\"xtick_5\">\n     <g id=\"line2d_5\">\n      <g>\n       <use xlink:href=\"#m5ff5e0415e\" x=\"319.864426\" y=\"194.98975\" style=\"stroke: #000000; stroke-width: 0.8\"/>\n      </g>\n     </g>\n     <g id=\"text_5\">\n      <!-- $\\mathdefault{10^{-1}}$ -->\n      <g transform=\"translate(305.764426 211.107875) scale(0.12 -0.12)\">\n       <use xlink:href=\"#DejaVuSans-31\" transform=\"translate(0 0.684375)\"/>\n       <use xlink:href=\"#DejaVuSans-30\" transform=\"translate(63.623047 0.684375)\"/>\n       <use xlink:href=\"#DejaVuSans-2212\" transform=\"translate(128.203125 38.965625) scale(0.7)\"/>\n       <use xlink:href=\"#DejaVuSans-31\" transform=\"translate(186.855469 38.965625) scale(0.7)\"/>\n      </g>\n     </g>\n    </g>\n    <g id=\"text_6\">\n     <!-- Probability -->\n     <g transform=\"translate(160.087512 226.721625) scale(0.12 -0.12)\">\n      <defs>\n       <path id=\"DejaVuSans-50\" d=\"M 1259 4147 \nL 1259 2394 \nL 2053 2394 \nQ 2494 2394 2734 2622 \nQ 2975 2850 2975 3272 \nQ 2975 3691 2734 3919 \nQ 2494 4147 2053 4147 \nL 1259 4147 \nz\nM 628 4666 \nL 2053 4666 \nQ 2838 4666 3239 4311 \nQ 3641 3956 3641 3272 \nQ 3641 2581 3239 2228 \nQ 2838 1875 2053 1875 \nL 1259 1875 \nL 1259 0 \nL 628 0 \nL 628 4666 \nz\n\" transform=\"scale(0.015625)\"/>\n       <path id=\"DejaVuSans-72\" d=\"M 2631 2963 \nQ 2534 3019 2420 3045 \nQ 2306 3072 2169 3072 \nQ 1681 3072 1420 2755 \nQ 1159 2438 1159 1844 \nL 1159 0 \nL 581 0 \nL 581 3500 \nL 1159 3500 \nL 1159 2956 \nQ 1341 3275 1631 3429 \nQ 1922 3584 2338 3584 \nQ 2397 3584 2469 3576 \nQ 2541 3569 2628 3553 \nL 2631 2963 \nz\n\" transform=\"scale(0.015625)\"/>\n       <path id=\"DejaVuSans-6f\" d=\"M 1959 3097 \nQ 1497 3097 1228 2736 \nQ 959 2375 959 1747 \nQ 959 1119 1226 758 \nQ 1494 397 1959 397 \nQ 2419 397 2687 759 \nQ 2956 1122 2956 1747 \nQ 2956 2369 2687 2733 \nQ 2419 3097 1959 3097 \nz\nM 1959 3584 \nQ 2709 3584 3137 3096 \nQ 3566 2609 3566 1747 \nQ 3566 888 3137 398 \nQ 2709 -91 1959 -91 \nQ 1206 -91 779 398 \nQ 353 888 353 1747 \nQ 353 2609 779 3096 \nQ 1206 3584 1959 3584 \nz\n\" transform=\"scale(0.015625)\"/>\n       <path id=\"DejaVuSans-62\" d=\"M 3116 1747 \nQ 3116 2381 2855 2742 \nQ 2594 3103 2138 3103 \nQ 1681 3103 1420 2742 \nQ 1159 2381 1159 1747 \nQ 1159 1113 1420 752 \nQ 1681 391 2138 391 \nQ 2594 391 2855 752 \nQ 3116 1113 3116 1747 \nz\nM 1159 2969 \nQ 1341 3281 1617 3432 \nQ 1894 3584 2278 3584 \nQ 2916 3584 3314 3078 \nQ 3713 2572 3713 1747 \nQ 3713 922 3314 415 \nQ 2916 -91 2278 -91 \nQ 1894 -91 1617 61 \nQ 1341 213 1159 525 \nL 1159 0 \nL 581 0 \nL 581 4863 \nL 1159 4863 \nL 1159 2969 \nz\n\" transform=\"scale(0.015625)\"/>\n       <path id=\"DejaVuSans-61\" d=\"M 2194 1759 \nQ 1497 1759 1228 1600 \nQ 959 1441 959 1056 \nQ 959 750 1161 570 \nQ 1363 391 1709 391 \nQ 2188 391 2477 730 \nQ 2766 1069 2766 1631 \nL 2766 1759 \nL 2194 1759 \nz\nM 3341 1997 \nL 3341 0 \nL 2766 0 \nL 2766 531 \nQ 2569 213 2275 61 \nQ 1981 -91 1556 -91 \nQ 1019 -91 701 211 \nQ 384 513 384 1019 \nQ 384 1609 779 1909 \nQ 1175 2209 1959 2209 \nL 2766 2209 \nL 2766 2266 \nQ 2766 2663 2505 2880 \nQ 2244 3097 1772 3097 \nQ 1472 3097 1187 3025 \nQ 903 2953 641 2809 \nL 641 3341 \nQ 956 3463 1253 3523 \nQ 1550 3584 1831 3584 \nQ 2591 3584 2966 3190 \nQ 3341 2797 3341 1997 \nz\n\" transform=\"scale(0.015625)\"/>\n       <path id=\"DejaVuSans-69\" d=\"M 603 3500 \nL 1178 3500 \nL 1178 0 \nL 603 0 \nL 603 3500 \nz\nM 603 4863 \nL 1178 4863 \nL 1178 4134 \nL 603 4134 \nL 603 4863 \nz\n\" transform=\"scale(0.015625)\"/>\n       <path id=\"DejaVuSans-6c\" d=\"M 603 4863 \nL 1178 4863 \nL 1178 0 \nL 603 0 \nL 603 4863 \nz\n\" transform=\"scale(0.015625)\"/>\n       <path id=\"DejaVuSans-74\" d=\"M 1172 4494 \nL 1172 3500 \nL 2356 3500 \nL 2356 3053 \nL 1172 3053 \nL 1172 1153 \nQ 1172 725 1289 603 \nQ 1406 481 1766 481 \nL 2356 481 \nL 2356 0 \nL 1766 0 \nQ 1100 0 847 248 \nQ 594 497 594 1153 \nL 594 3053 \nL 172 3053 \nL 172 3500 \nL 594 3500 \nL 594 4494 \nL 1172 4494 \nz\n\" transform=\"scale(0.015625)\"/>\n       <path id=\"DejaVuSans-79\" d=\"M 2059 -325 \nQ 1816 -950 1584 -1140 \nQ 1353 -1331 966 -1331 \nL 506 -1331 \nL 506 -850 \nL 844 -850 \nQ 1081 -850 1212 -737 \nQ 1344 -625 1503 -206 \nL 1606 56 \nL 191 3500 \nL 800 3500 \nL 1894 763 \nL 2988 3500 \nL 3597 3500 \nL 2059 -325 \nz\n\" transform=\"scale(0.015625)\"/>\n      </defs>\n      <use xlink:href=\"#DejaVuSans-50\"/>\n      <use xlink:href=\"#DejaVuSans-72\" x=\"58.552734\"/>\n      <use xlink:href=\"#DejaVuSans-6f\" x=\"97.416016\"/>\n      <use xlink:href=\"#DejaVuSans-62\" x=\"158.597656\"/>\n      <use xlink:href=\"#DejaVuSans-61\" x=\"222.074219\"/>\n      <use xlink:href=\"#DejaVuSans-62\" x=\"283.353516\"/>\n      <use xlink:href=\"#DejaVuSans-69\" x=\"346.830078\"/>\n      <use xlink:href=\"#DejaVuSans-6c\" x=\"374.613281\"/>\n      <use xlink:href=\"#DejaVuSans-69\" x=\"402.396484\"/>\n      <use xlink:href=\"#DejaVuSans-74\" x=\"430.179688\"/>\n      <use xlink:href=\"#DejaVuSans-79\" x=\"469.388672\"/>\n     </g>\n    </g>\n   </g>\n   <g id=\"matplotlib.axis_2\">\n    <g id=\"ytick_1\">\n     <g id=\"line2d_6\">\n      <defs>\n       <path id=\"m6a2b8b9b95\" d=\"M 0 0 \nL -3.5 0 \n\" style=\"stroke: #000000; stroke-width: 0.8\"/>\n      </defs>\n      <g>\n       <use xlink:href=\"#m6a2b8b9b95\" x=\"50.93375\" y=\"187.223932\" style=\"stroke: #000000; stroke-width: 0.8\"/>\n      </g>\n     </g>\n     <g id=\"text_7\">\n      <!-- $\\mathdefault{10^{0}}$ -->\n      <g transform=\"translate(22.81375 191.782994) scale(0.12 -0.12)\">\n       <use xlink:href=\"#DejaVuSans-31\" transform=\"translate(0 0.765625)\"/>\n       <use xlink:href=\"#DejaVuSans-30\" transform=\"translate(63.623047 0.765625)\"/>\n       <use xlink:href=\"#DejaVuSans-30\" transform=\"translate(128.203125 39.046875) scale(0.7)\"/>\n      </g>\n     </g>\n    </g>\n    <g id=\"ytick_2\">\n     <g id=\"line2d_7\">\n      <g>\n       <use xlink:href=\"#m6a2b8b9b95\" x=\"50.93375\" y=\"132.715858\" style=\"stroke: #000000; stroke-width: 0.8\"/>\n      </g>\n     </g>\n     <g id=\"text_8\">\n      <!-- $\\mathdefault{10^{1}}$ -->\n      <g transform=\"translate(22.81375 137.274921) scale(0.12 -0.12)\">\n       <use xlink:href=\"#DejaVuSans-31\" transform=\"translate(0 0.684375)\"/>\n       <use xlink:href=\"#DejaVuSans-30\" transform=\"translate(63.623047 0.684375)\"/>\n       <use xlink:href=\"#DejaVuSans-31\" transform=\"translate(128.203125 38.965625) scale(0.7)\"/>\n      </g>\n     </g>\n    </g>\n    <g id=\"ytick_3\">\n     <g id=\"line2d_8\">\n      <g>\n       <use xlink:href=\"#m6a2b8b9b95\" x=\"50.93375\" y=\"78.207784\" style=\"stroke: #000000; stroke-width: 0.8\"/>\n      </g>\n     </g>\n     <g id=\"text_9\">\n      <!-- $\\mathdefault{10^{2}}$ -->\n      <g transform=\"translate(22.81375 82.766847) scale(0.12 -0.12)\">\n       <defs>\n        <path id=\"DejaVuSans-32\" d=\"M 1228 531 \nL 3431 531 \nL 3431 0 \nL 469 0 \nL 469 531 \nQ 828 903 1448 1529 \nQ 2069 2156 2228 2338 \nQ 2531 2678 2651 2914 \nQ 2772 3150 2772 3378 \nQ 2772 3750 2511 3984 \nQ 2250 4219 1831 4219 \nQ 1534 4219 1204 4116 \nQ 875 4013 500 3803 \nL 500 4441 \nQ 881 4594 1212 4672 \nQ 1544 4750 1819 4750 \nQ 2544 4750 2975 4387 \nQ 3406 4025 3406 3419 \nQ 3406 3131 3298 2873 \nQ 3191 2616 2906 2266 \nQ 2828 2175 2409 1742 \nQ 1991 1309 1228 531 \nz\n\" transform=\"scale(0.015625)\"/>\n       </defs>\n       <use xlink:href=\"#DejaVuSans-31\" transform=\"translate(0 0.765625)\"/>\n       <use xlink:href=\"#DejaVuSans-30\" transform=\"translate(63.623047 0.765625)\"/>\n       <use xlink:href=\"#DejaVuSans-32\" transform=\"translate(128.203125 39.046875) scale(0.7)\"/>\n      </g>\n     </g>\n    </g>\n    <g id=\"ytick_4\">\n     <g id=\"line2d_9\">\n      <defs>\n       <path id=\"mb8e8b418bd\" d=\"M 0 0 \nL -2 0 \n\" style=\"stroke: #000000; stroke-width: 0.6\"/>\n      </defs>\n      <g>\n       <use xlink:href=\"#mb8e8b418bd\" x=\"50.93375\" y=\"192.50631\" style=\"stroke: #000000; stroke-width: 0.6\"/>\n      </g>\n     </g>\n    </g>\n    <g id=\"ytick_5\">\n     <g id=\"line2d_10\">\n      <g>\n       <use xlink:href=\"#mb8e8b418bd\" x=\"50.93375\" y=\"189.718084\" style=\"stroke: #000000; stroke-width: 0.6\"/>\n      </g>\n     </g>\n    </g>\n    <g id=\"ytick_6\">\n     <g id=\"line2d_11\">\n      <g>\n       <use xlink:href=\"#mb8e8b418bd\" x=\"50.93375\" y=\"170.815367\" style=\"stroke: #000000; stroke-width: 0.6\"/>\n      </g>\n     </g>\n    </g>\n    <g id=\"ytick_7\">\n     <g id=\"line2d_12\">\n      <g>\n       <use xlink:href=\"#mb8e8b418bd\" x=\"50.93375\" y=\"161.216971\" style=\"stroke: #000000; stroke-width: 0.6\"/>\n      </g>\n     </g>\n    </g>\n    <g id=\"ytick_8\">\n     <g id=\"line2d_13\">\n      <g>\n       <use xlink:href=\"#mb8e8b418bd\" x=\"50.93375\" y=\"154.406801\" style=\"stroke: #000000; stroke-width: 0.6\"/>\n      </g>\n     </g>\n    </g>\n    <g id=\"ytick_9\">\n     <g id=\"line2d_14\">\n      <g>\n       <use xlink:href=\"#mb8e8b418bd\" x=\"50.93375\" y=\"149.124423\" style=\"stroke: #000000; stroke-width: 0.6\"/>\n      </g>\n     </g>\n    </g>\n    <g id=\"ytick_10\">\n     <g id=\"line2d_15\">\n      <g>\n       <use xlink:href=\"#mb8e8b418bd\" x=\"50.93375\" y=\"144.808406\" style=\"stroke: #000000; stroke-width: 0.6\"/>\n      </g>\n     </g>\n    </g>\n    <g id=\"ytick_11\">\n     <g id=\"line2d_16\">\n      <g>\n       <use xlink:href=\"#mb8e8b418bd\" x=\"50.93375\" y=\"141.159266\" style=\"stroke: #000000; stroke-width: 0.6\"/>\n      </g>\n     </g>\n    </g>\n    <g id=\"ytick_12\">\n     <g id=\"line2d_17\">\n      <g>\n       <use xlink:href=\"#mb8e8b418bd\" x=\"50.93375\" y=\"137.998236\" style=\"stroke: #000000; stroke-width: 0.6\"/>\n      </g>\n     </g>\n    </g>\n    <g id=\"ytick_13\">\n     <g id=\"line2d_18\">\n      <g>\n       <use xlink:href=\"#mb8e8b418bd\" x=\"50.93375\" y=\"135.210011\" style=\"stroke: #000000; stroke-width: 0.6\"/>\n      </g>\n     </g>\n    </g>\n    <g id=\"ytick_14\">\n     <g id=\"line2d_19\">\n      <g>\n       <use xlink:href=\"#mb8e8b418bd\" x=\"50.93375\" y=\"116.307293\" style=\"stroke: #000000; stroke-width: 0.6\"/>\n      </g>\n     </g>\n    </g>\n    <g id=\"ytick_15\">\n     <g id=\"line2d_20\">\n      <g>\n       <use xlink:href=\"#mb8e8b418bd\" x=\"50.93375\" y=\"106.708897\" style=\"stroke: #000000; stroke-width: 0.6\"/>\n      </g>\n     </g>\n    </g>\n    <g id=\"ytick_16\">\n     <g id=\"line2d_21\">\n      <g>\n       <use xlink:href=\"#mb8e8b418bd\" x=\"50.93375\" y=\"99.898728\" style=\"stroke: #000000; stroke-width: 0.6\"/>\n      </g>\n     </g>\n    </g>\n    <g id=\"ytick_17\">\n     <g id=\"line2d_22\">\n      <g>\n       <use xlink:href=\"#mb8e8b418bd\" x=\"50.93375\" y=\"94.616349\" style=\"stroke: #000000; stroke-width: 0.6\"/>\n      </g>\n     </g>\n    </g>\n    <g id=\"ytick_18\">\n     <g id=\"line2d_23\">\n      <g>\n       <use xlink:href=\"#mb8e8b418bd\" x=\"50.93375\" y=\"90.300332\" style=\"stroke: #000000; stroke-width: 0.6\"/>\n      </g>\n     </g>\n    </g>\n    <g id=\"ytick_19\">\n     <g id=\"line2d_24\">\n      <g>\n       <use xlink:href=\"#mb8e8b418bd\" x=\"50.93375\" y=\"86.651192\" style=\"stroke: #000000; stroke-width: 0.6\"/>\n      </g>\n     </g>\n    </g>\n    <g id=\"ytick_20\">\n     <g id=\"line2d_25\">\n      <g>\n       <use xlink:href=\"#mb8e8b418bd\" x=\"50.93375\" y=\"83.490162\" style=\"stroke: #000000; stroke-width: 0.6\"/>\n      </g>\n     </g>\n    </g>\n    <g id=\"ytick_21\">\n     <g id=\"line2d_26\">\n      <g>\n       <use xlink:href=\"#mb8e8b418bd\" x=\"50.93375\" y=\"80.701937\" style=\"stroke: #000000; stroke-width: 0.6\"/>\n      </g>\n     </g>\n    </g>\n    <g id=\"ytick_22\">\n     <g id=\"line2d_27\">\n      <g>\n       <use xlink:href=\"#mb8e8b418bd\" x=\"50.93375\" y=\"61.799219\" style=\"stroke: #000000; stroke-width: 0.6\"/>\n      </g>\n     </g>\n    </g>\n    <g id=\"ytick_23\">\n     <g id=\"line2d_28\">\n      <g>\n       <use xlink:href=\"#mb8e8b418bd\" x=\"50.93375\" y=\"52.200824\" style=\"stroke: #000000; stroke-width: 0.6\"/>\n      </g>\n     </g>\n    </g>\n    <g id=\"ytick_24\">\n     <g id=\"line2d_29\">\n      <g>\n       <use xlink:href=\"#mb8e8b418bd\" x=\"50.93375\" y=\"45.390654\" style=\"stroke: #000000; stroke-width: 0.6\"/>\n      </g>\n     </g>\n    </g>\n    <g id=\"ytick_25\">\n     <g id=\"line2d_30\">\n      <g>\n       <use xlink:href=\"#mb8e8b418bd\" x=\"50.93375\" y=\"40.108276\" style=\"stroke: #000000; stroke-width: 0.6\"/>\n      </g>\n     </g>\n    </g>\n    <g id=\"ytick_26\">\n     <g id=\"line2d_31\">\n      <g>\n       <use xlink:href=\"#mb8e8b418bd\" x=\"50.93375\" y=\"35.792258\" style=\"stroke: #000000; stroke-width: 0.6\"/>\n      </g>\n     </g>\n    </g>\n    <g id=\"ytick_27\">\n     <g id=\"line2d_32\">\n      <g>\n       <use xlink:href=\"#mb8e8b418bd\" x=\"50.93375\" y=\"32.143118\" style=\"stroke: #000000; stroke-width: 0.6\"/>\n      </g>\n     </g>\n    </g>\n    <g id=\"ytick_28\">\n     <g id=\"line2d_33\">\n      <g>\n       <use xlink:href=\"#mb8e8b418bd\" x=\"50.93375\" y=\"28.982089\" style=\"stroke: #000000; stroke-width: 0.6\"/>\n      </g>\n     </g>\n    </g>\n    <g id=\"ytick_29\">\n     <g id=\"line2d_34\">\n      <g>\n       <use xlink:href=\"#mb8e8b418bd\" x=\"50.93375\" y=\"26.193863\" style=\"stroke: #000000; stroke-width: 0.6\"/>\n      </g>\n     </g>\n    </g>\n    <g id=\"text_10\">\n     <!-- Count -->\n     <g transform=\"translate(16.318125 127.383875) rotate(-90) scale(0.12 -0.12)\">\n      <defs>\n       <path id=\"DejaVuSans-43\" d=\"M 4122 4306 \nL 4122 3641 \nQ 3803 3938 3442 4084 \nQ 3081 4231 2675 4231 \nQ 1875 4231 1450 3742 \nQ 1025 3253 1025 2328 \nQ 1025 1406 1450 917 \nQ 1875 428 2675 428 \nQ 3081 428 3442 575 \nQ 3803 722 4122 1019 \nL 4122 359 \nQ 3791 134 3420 21 \nQ 3050 -91 2638 -91 \nQ 1578 -91 968 557 \nQ 359 1206 359 2328 \nQ 359 3453 968 4101 \nQ 1578 4750 2638 4750 \nQ 3056 4750 3426 4639 \nQ 3797 4528 4122 4306 \nz\n\" transform=\"scale(0.015625)\"/>\n       <path id=\"DejaVuSans-75\" d=\"M 544 1381 \nL 544 3500 \nL 1119 3500 \nL 1119 1403 \nQ 1119 906 1312 657 \nQ 1506 409 1894 409 \nQ 2359 409 2629 706 \nQ 2900 1003 2900 1516 \nL 2900 3500 \nL 3475 3500 \nL 3475 0 \nL 2900 0 \nL 2900 538 \nQ 2691 219 2414 64 \nQ 2138 -91 1772 -91 \nQ 1169 -91 856 284 \nQ 544 659 544 1381 \nz\nM 1991 3584 \nL 1991 3584 \nz\n\" transform=\"scale(0.015625)\"/>\n       <path id=\"DejaVuSans-6e\" d=\"M 3513 2113 \nL 3513 0 \nL 2938 0 \nL 2938 2094 \nQ 2938 2591 2744 2837 \nQ 2550 3084 2163 3084 \nQ 1697 3084 1428 2787 \nQ 1159 2491 1159 1978 \nL 1159 0 \nL 581 0 \nL 581 3500 \nL 1159 3500 \nL 1159 2956 \nQ 1366 3272 1645 3428 \nQ 1925 3584 2291 3584 \nQ 2894 3584 3203 3211 \nQ 3513 2838 3513 2113 \nz\n\" transform=\"scale(0.015625)\"/>\n      </defs>\n      <use xlink:href=\"#DejaVuSans-43\"/>\n      <use xlink:href=\"#DejaVuSans-6f\" x=\"69.824219\"/>\n      <use xlink:href=\"#DejaVuSans-75\" x=\"131.005859\"/>\n      <use xlink:href=\"#DejaVuSans-6e\" x=\"194.384766\"/>\n      <use xlink:href=\"#DejaVuSans-74\" x=\"257.763672\"/>\n     </g>\n    </g>\n   </g>\n   <g id=\"patch_102\">\n    <path d=\"M 50.93375 194.98975 \nL 50.93375 24.14175 \n\" style=\"fill: none; stroke: #000000; stroke-width: 0.8; stroke-linejoin: miter; stroke-linecap: square\"/>\n   </g>\n   <g id=\"patch_103\">\n    <path d=\"M 332.670648 194.98975 \nL 332.670648 24.14175 \n\" style=\"fill: none; stroke: #000000; stroke-width: 0.8; stroke-linejoin: miter; stroke-linecap: square\"/>\n   </g>\n   <g id=\"patch_104\">\n    <path d=\"M 50.93375 194.98975 \nL 332.670648 194.98975 \n\" style=\"fill: none; stroke: #000000; stroke-width: 0.8; stroke-linejoin: miter; stroke-linecap: square\"/>\n   </g>\n   <g id=\"patch_105\">\n    <path d=\"M 50.93375 24.14175 \nL 332.670648 24.14175 \n\" style=\"fill: none; stroke: #000000; stroke-width: 0.8; stroke-linejoin: miter; stroke-linecap: square\"/>\n   </g>\n   <g id=\"text_11\">\n    <!-- Probability distribution -->\n    <g transform=\"translate(110.426449 18.14175) scale(0.144 -0.144)\">\n     <defs>\n      <path id=\"DejaVuSans-20\" transform=\"scale(0.015625)\"/>\n      <path id=\"DejaVuSans-64\" d=\"M 2906 2969 \nL 2906 4863 \nL 3481 4863 \nL 3481 0 \nL 2906 0 \nL 2906 525 \nQ 2725 213 2448 61 \nQ 2172 -91 1784 -91 \nQ 1150 -91 751 415 \nQ 353 922 353 1747 \nQ 353 2572 751 3078 \nQ 1150 3584 1784 3584 \nQ 2172 3584 2448 3432 \nQ 2725 3281 2906 2969 \nz\nM 947 1747 \nQ 947 1113 1208 752 \nQ 1469 391 1925 391 \nQ 2381 391 2643 752 \nQ 2906 1113 2906 1747 \nQ 2906 2381 2643 2742 \nQ 2381 3103 1925 3103 \nQ 1469 3103 1208 2742 \nQ 947 2381 947 1747 \nz\n\" transform=\"scale(0.015625)\"/>\n      <path id=\"DejaVuSans-73\" d=\"M 2834 3397 \nL 2834 2853 \nQ 2591 2978 2328 3040 \nQ 2066 3103 1784 3103 \nQ 1356 3103 1142 2972 \nQ 928 2841 928 2578 \nQ 928 2378 1081 2264 \nQ 1234 2150 1697 2047 \nL 1894 2003 \nQ 2506 1872 2764 1633 \nQ 3022 1394 3022 966 \nQ 3022 478 2636 193 \nQ 2250 -91 1575 -91 \nQ 1294 -91 989 -36 \nQ 684 19 347 128 \nL 347 722 \nQ 666 556 975 473 \nQ 1284 391 1588 391 \nQ 1994 391 2212 530 \nQ 2431 669 2431 922 \nQ 2431 1156 2273 1281 \nQ 2116 1406 1581 1522 \nL 1381 1569 \nQ 847 1681 609 1914 \nQ 372 2147 372 2553 \nQ 372 3047 722 3315 \nQ 1072 3584 1716 3584 \nQ 2034 3584 2315 3537 \nQ 2597 3491 2834 3397 \nz\n\" transform=\"scale(0.015625)\"/>\n     </defs>\n     <use xlink:href=\"#DejaVuSans-50\"/>\n     <use xlink:href=\"#DejaVuSans-72\" x=\"58.552734\"/>\n     <use xlink:href=\"#DejaVuSans-6f\" x=\"97.416016\"/>\n     <use xlink:href=\"#DejaVuSans-62\" x=\"158.597656\"/>\n     <use xlink:href=\"#DejaVuSans-61\" x=\"222.074219\"/>\n     <use xlink:href=\"#DejaVuSans-62\" x=\"283.353516\"/>\n     <use xlink:href=\"#DejaVuSans-69\" x=\"346.830078\"/>\n     <use xlink:href=\"#DejaVuSans-6c\" x=\"374.613281\"/>\n     <use xlink:href=\"#DejaVuSans-69\" x=\"402.396484\"/>\n     <use xlink:href=\"#DejaVuSans-74\" x=\"430.179688\"/>\n     <use xlink:href=\"#DejaVuSans-79\" x=\"469.388672\"/>\n     <use xlink:href=\"#DejaVuSans-20\" x=\"528.568359\"/>\n     <use xlink:href=\"#DejaVuSans-64\" x=\"560.355469\"/>\n     <use xlink:href=\"#DejaVuSans-69\" x=\"623.832031\"/>\n     <use xlink:href=\"#DejaVuSans-73\" x=\"651.615234\"/>\n     <use xlink:href=\"#DejaVuSans-74\" x=\"703.714844\"/>\n     <use xlink:href=\"#DejaVuSans-72\" x=\"742.923828\"/>\n     <use xlink:href=\"#DejaVuSans-69\" x=\"784.037109\"/>\n     <use xlink:href=\"#DejaVuSans-62\" x=\"811.820312\"/>\n     <use xlink:href=\"#DejaVuSans-75\" x=\"875.296875\"/>\n     <use xlink:href=\"#DejaVuSans-74\" x=\"938.675781\"/>\n     <use xlink:href=\"#DejaVuSans-69\" x=\"977.884766\"/>\n     <use xlink:href=\"#DejaVuSans-6f\" x=\"1005.667969\"/>\n     <use xlink:href=\"#DejaVuSans-6e\" x=\"1066.849609\"/>\n    </g>\n   </g>\n  </g>\n  <g id=\"axes_2\">\n   <g id=\"patch_106\">\n    <path d=\"M 398.815744 194.98975 \nL 680.552643 194.98975 \nL 680.552643 24.14175 \nL 398.815744 24.14175 \nz\n\" style=\"fill: #ffffff\"/>\n   </g>\n   <g id=\"matplotlib.axis_3\">\n    <g id=\"xtick_6\">\n     <g id=\"line2d_35\">\n      <g>\n       <use xlink:href=\"#m5ff5e0415e\" x=\"398.815744\" y=\"194.98975\" style=\"stroke: #000000; stroke-width: 0.8\"/>\n      </g>\n     </g>\n     <g id=\"text_12\">\n      <!-- 0 -->\n      <g transform=\"translate(394.998244 211.107875) scale(0.12 -0.12)\">\n       <use xlink:href=\"#DejaVuSans-30\"/>\n      </g>\n     </g>\n    </g>\n    <g id=\"xtick_7\">\n     <g id=\"line2d_36\">\n      <g>\n       <use xlink:href=\"#m5ff5e0415e\" x=\"455.163124\" y=\"194.98975\" style=\"stroke: #000000; stroke-width: 0.8\"/>\n      </g>\n     </g>\n     <g id=\"text_13\">\n      <!-- 2000 -->\n      <g transform=\"translate(439.893124 211.107875) scale(0.12 -0.12)\">\n       <use xlink:href=\"#DejaVuSans-32\"/>\n       <use xlink:href=\"#DejaVuSans-30\" x=\"63.623047\"/>\n       <use xlink:href=\"#DejaVuSans-30\" x=\"127.246094\"/>\n       <use xlink:href=\"#DejaVuSans-30\" x=\"190.869141\"/>\n      </g>\n     </g>\n    </g>\n    <g id=\"xtick_8\">\n     <g id=\"line2d_37\">\n      <g>\n       <use xlink:href=\"#m5ff5e0415e\" x=\"511.510504\" y=\"194.98975\" style=\"stroke: #000000; stroke-width: 0.8\"/>\n      </g>\n     </g>\n     <g id=\"text_14\">\n      <!-- 4000 -->\n      <g transform=\"translate(496.240504 211.107875) scale(0.12 -0.12)\">\n       <defs>\n        <path id=\"DejaVuSans-34\" d=\"M 2419 4116 \nL 825 1625 \nL 2419 1625 \nL 2419 4116 \nz\nM 2253 4666 \nL 3047 4666 \nL 3047 1625 \nL 3713 1625 \nL 3713 1100 \nL 3047 1100 \nL 3047 0 \nL 2419 0 \nL 2419 1100 \nL 313 1100 \nL 313 1709 \nL 2253 4666 \nz\n\" transform=\"scale(0.015625)\"/>\n       </defs>\n       <use xlink:href=\"#DejaVuSans-34\"/>\n       <use xlink:href=\"#DejaVuSans-30\" x=\"63.623047\"/>\n       <use xlink:href=\"#DejaVuSans-30\" x=\"127.246094\"/>\n       <use xlink:href=\"#DejaVuSans-30\" x=\"190.869141\"/>\n      </g>\n     </g>\n    </g>\n    <g id=\"xtick_9\">\n     <g id=\"line2d_38\">\n      <g>\n       <use xlink:href=\"#m5ff5e0415e\" x=\"567.857883\" y=\"194.98975\" style=\"stroke: #000000; stroke-width: 0.8\"/>\n      </g>\n     </g>\n     <g id=\"text_15\">\n      <!-- 6000 -->\n      <g transform=\"translate(552.587883 211.107875) scale(0.12 -0.12)\">\n       <defs>\n        <path id=\"DejaVuSans-36\" d=\"M 2113 2584 \nQ 1688 2584 1439 2293 \nQ 1191 2003 1191 1497 \nQ 1191 994 1439 701 \nQ 1688 409 2113 409 \nQ 2538 409 2786 701 \nQ 3034 994 3034 1497 \nQ 3034 2003 2786 2293 \nQ 2538 2584 2113 2584 \nz\nM 3366 4563 \nL 3366 3988 \nQ 3128 4100 2886 4159 \nQ 2644 4219 2406 4219 \nQ 1781 4219 1451 3797 \nQ 1122 3375 1075 2522 \nQ 1259 2794 1537 2939 \nQ 1816 3084 2150 3084 \nQ 2853 3084 3261 2657 \nQ 3669 2231 3669 1497 \nQ 3669 778 3244 343 \nQ 2819 -91 2113 -91 \nQ 1303 -91 875 529 \nQ 447 1150 447 2328 \nQ 447 3434 972 4092 \nQ 1497 4750 2381 4750 \nQ 2619 4750 2861 4703 \nQ 3103 4656 3366 4563 \nz\n\" transform=\"scale(0.015625)\"/>\n       </defs>\n       <use xlink:href=\"#DejaVuSans-36\"/>\n       <use xlink:href=\"#DejaVuSans-30\" x=\"63.623047\"/>\n       <use xlink:href=\"#DejaVuSans-30\" x=\"127.246094\"/>\n       <use xlink:href=\"#DejaVuSans-30\" x=\"190.869141\"/>\n      </g>\n     </g>\n    </g>\n    <g id=\"xtick_10\">\n     <g id=\"line2d_39\">\n      <g>\n       <use xlink:href=\"#m5ff5e0415e\" x=\"624.205263\" y=\"194.98975\" style=\"stroke: #000000; stroke-width: 0.8\"/>\n      </g>\n     </g>\n     <g id=\"text_16\">\n      <!-- 8000 -->\n      <g transform=\"translate(608.935263 211.107875) scale(0.12 -0.12)\">\n       <defs>\n        <path id=\"DejaVuSans-38\" d=\"M 2034 2216 \nQ 1584 2216 1326 1975 \nQ 1069 1734 1069 1313 \nQ 1069 891 1326 650 \nQ 1584 409 2034 409 \nQ 2484 409 2743 651 \nQ 3003 894 3003 1313 \nQ 3003 1734 2745 1975 \nQ 2488 2216 2034 2216 \nz\nM 1403 2484 \nQ 997 2584 770 2862 \nQ 544 3141 544 3541 \nQ 544 4100 942 4425 \nQ 1341 4750 2034 4750 \nQ 2731 4750 3128 4425 \nQ 3525 4100 3525 3541 \nQ 3525 3141 3298 2862 \nQ 3072 2584 2669 2484 \nQ 3125 2378 3379 2068 \nQ 3634 1759 3634 1313 \nQ 3634 634 3220 271 \nQ 2806 -91 2034 -91 \nQ 1263 -91 848 271 \nQ 434 634 434 1313 \nQ 434 1759 690 2068 \nQ 947 2378 1403 2484 \nz\nM 1172 3481 \nQ 1172 3119 1398 2916 \nQ 1625 2713 2034 2713 \nQ 2441 2713 2670 2916 \nQ 2900 3119 2900 3481 \nQ 2900 3844 2670 4047 \nQ 2441 4250 2034 4250 \nQ 1625 4250 1398 4047 \nQ 1172 3844 1172 3481 \nz\n\" transform=\"scale(0.015625)\"/>\n       </defs>\n       <use xlink:href=\"#DejaVuSans-38\"/>\n       <use xlink:href=\"#DejaVuSans-30\" x=\"63.623047\"/>\n       <use xlink:href=\"#DejaVuSans-30\" x=\"127.246094\"/>\n       <use xlink:href=\"#DejaVuSans-30\" x=\"190.869141\"/>\n      </g>\n     </g>\n    </g>\n    <g id=\"xtick_11\">\n     <g id=\"line2d_40\">\n      <g>\n       <use xlink:href=\"#m5ff5e0415e\" x=\"680.552643\" y=\"194.98975\" style=\"stroke: #000000; stroke-width: 0.8\"/>\n      </g>\n     </g>\n     <g id=\"text_17\">\n      <!-- 10000 -->\n      <g transform=\"translate(661.465143 211.107875) scale(0.12 -0.12)\">\n       <use xlink:href=\"#DejaVuSans-31\"/>\n       <use xlink:href=\"#DejaVuSans-30\" x=\"63.623047\"/>\n       <use xlink:href=\"#DejaVuSans-30\" x=\"127.246094\"/>\n       <use xlink:href=\"#DejaVuSans-30\" x=\"190.869141\"/>\n       <use xlink:href=\"#DejaVuSans-30\" x=\"254.492188\"/>\n      </g>\n     </g>\n    </g>\n    <g id=\"xtick_12\">\n     <g id=\"line2d_41\">\n      <defs>\n       <path id=\"m26b1065fde\" d=\"M 0 0 \nL 0 2 \n\" style=\"stroke: #000000; stroke-width: 0.6\"/>\n      </defs>\n      <g>\n       <use xlink:href=\"#m26b1065fde\" x=\"412.902589\" y=\"194.98975\" style=\"stroke: #000000; stroke-width: 0.6\"/>\n      </g>\n     </g>\n    </g>\n    <g id=\"xtick_13\">\n     <g id=\"line2d_42\">\n      <g>\n       <use xlink:href=\"#m26b1065fde\" x=\"426.989434\" y=\"194.98975\" style=\"stroke: #000000; stroke-width: 0.6\"/>\n      </g>\n     </g>\n    </g>\n    <g id=\"xtick_14\">\n     <g id=\"line2d_43\">\n      <g>\n       <use xlink:href=\"#m26b1065fde\" x=\"441.076279\" y=\"194.98975\" style=\"stroke: #000000; stroke-width: 0.6\"/>\n      </g>\n     </g>\n    </g>\n    <g id=\"xtick_15\">\n     <g id=\"line2d_44\">\n      <g>\n       <use xlink:href=\"#m26b1065fde\" x=\"469.249969\" y=\"194.98975\" style=\"stroke: #000000; stroke-width: 0.6\"/>\n      </g>\n     </g>\n    </g>\n    <g id=\"xtick_16\">\n     <g id=\"line2d_45\">\n      <g>\n       <use xlink:href=\"#m26b1065fde\" x=\"483.336814\" y=\"194.98975\" style=\"stroke: #000000; stroke-width: 0.6\"/>\n      </g>\n     </g>\n    </g>\n    <g id=\"xtick_17\">\n     <g id=\"line2d_46\">\n      <g>\n       <use xlink:href=\"#m26b1065fde\" x=\"497.423659\" y=\"194.98975\" style=\"stroke: #000000; stroke-width: 0.6\"/>\n      </g>\n     </g>\n    </g>\n    <g id=\"xtick_18\">\n     <g id=\"line2d_47\">\n      <g>\n       <use xlink:href=\"#m26b1065fde\" x=\"525.597348\" y=\"194.98975\" style=\"stroke: #000000; stroke-width: 0.6\"/>\n      </g>\n     </g>\n    </g>\n    <g id=\"xtick_19\">\n     <g id=\"line2d_48\">\n      <g>\n       <use xlink:href=\"#m26b1065fde\" x=\"539.684193\" y=\"194.98975\" style=\"stroke: #000000; stroke-width: 0.6\"/>\n      </g>\n     </g>\n    </g>\n    <g id=\"xtick_20\">\n     <g id=\"line2d_49\">\n      <g>\n       <use xlink:href=\"#m26b1065fde\" x=\"553.771038\" y=\"194.98975\" style=\"stroke: #000000; stroke-width: 0.6\"/>\n      </g>\n     </g>\n    </g>\n    <g id=\"xtick_21\">\n     <g id=\"line2d_50\">\n      <g>\n       <use xlink:href=\"#m26b1065fde\" x=\"581.944728\" y=\"194.98975\" style=\"stroke: #000000; stroke-width: 0.6\"/>\n      </g>\n     </g>\n    </g>\n    <g id=\"xtick_22\">\n     <g id=\"line2d_51\">\n      <g>\n       <use xlink:href=\"#m26b1065fde\" x=\"596.031573\" y=\"194.98975\" style=\"stroke: #000000; stroke-width: 0.6\"/>\n      </g>\n     </g>\n    </g>\n    <g id=\"xtick_23\">\n     <g id=\"line2d_52\">\n      <g>\n       <use xlink:href=\"#m26b1065fde\" x=\"610.118418\" y=\"194.98975\" style=\"stroke: #000000; stroke-width: 0.6\"/>\n      </g>\n     </g>\n    </g>\n    <g id=\"xtick_24\">\n     <g id=\"line2d_53\">\n      <g>\n       <use xlink:href=\"#m26b1065fde\" x=\"638.292108\" y=\"194.98975\" style=\"stroke: #000000; stroke-width: 0.6\"/>\n      </g>\n     </g>\n    </g>\n    <g id=\"xtick_25\">\n     <g id=\"line2d_54\">\n      <g>\n       <use xlink:href=\"#m26b1065fde\" x=\"652.378953\" y=\"194.98975\" style=\"stroke: #000000; stroke-width: 0.6\"/>\n      </g>\n     </g>\n    </g>\n    <g id=\"xtick_26\">\n     <g id=\"line2d_55\">\n      <g>\n       <use xlink:href=\"#m26b1065fde\" x=\"666.465798\" y=\"194.98975\" style=\"stroke: #000000; stroke-width: 0.6\"/>\n      </g>\n     </g>\n    </g>\n    <g id=\"text_18\">\n     <!-- Token (descending probability) -->\n     <g transform=\"translate(447.602943 226.721625) scale(0.12 -0.12)\">\n      <defs>\n       <path id=\"DejaVuSans-54\" d=\"M -19 4666 \nL 3928 4666 \nL 3928 4134 \nL 2272 4134 \nL 2272 0 \nL 1638 0 \nL 1638 4134 \nL -19 4134 \nL -19 4666 \nz\n\" transform=\"scale(0.015625)\"/>\n       <path id=\"DejaVuSans-6b\" d=\"M 581 4863 \nL 1159 4863 \nL 1159 1991 \nL 2875 3500 \nL 3609 3500 \nL 1753 1863 \nL 3688 0 \nL 2938 0 \nL 1159 1709 \nL 1159 0 \nL 581 0 \nL 581 4863 \nz\n\" transform=\"scale(0.015625)\"/>\n       <path id=\"DejaVuSans-65\" d=\"M 3597 1894 \nL 3597 1613 \nL 953 1613 \nQ 991 1019 1311 708 \nQ 1631 397 2203 397 \nQ 2534 397 2845 478 \nQ 3156 559 3463 722 \nL 3463 178 \nQ 3153 47 2828 -22 \nQ 2503 -91 2169 -91 \nQ 1331 -91 842 396 \nQ 353 884 353 1716 \nQ 353 2575 817 3079 \nQ 1281 3584 2069 3584 \nQ 2775 3584 3186 3129 \nQ 3597 2675 3597 1894 \nz\nM 3022 2063 \nQ 3016 2534 2758 2815 \nQ 2500 3097 2075 3097 \nQ 1594 3097 1305 2825 \nQ 1016 2553 972 2059 \nL 3022 2063 \nz\n\" transform=\"scale(0.015625)\"/>\n       <path id=\"DejaVuSans-28\" d=\"M 1984 4856 \nQ 1566 4138 1362 3434 \nQ 1159 2731 1159 2009 \nQ 1159 1288 1364 580 \nQ 1569 -128 1984 -844 \nL 1484 -844 \nQ 1016 -109 783 600 \nQ 550 1309 550 2009 \nQ 550 2706 781 3412 \nQ 1013 4119 1484 4856 \nL 1984 4856 \nz\n\" transform=\"scale(0.015625)\"/>\n       <path id=\"DejaVuSans-63\" d=\"M 3122 3366 \nL 3122 2828 \nQ 2878 2963 2633 3030 \nQ 2388 3097 2138 3097 \nQ 1578 3097 1268 2742 \nQ 959 2388 959 1747 \nQ 959 1106 1268 751 \nQ 1578 397 2138 397 \nQ 2388 397 2633 464 \nQ 2878 531 3122 666 \nL 3122 134 \nQ 2881 22 2623 -34 \nQ 2366 -91 2075 -91 \nQ 1284 -91 818 406 \nQ 353 903 353 1747 \nQ 353 2603 823 3093 \nQ 1294 3584 2113 3584 \nQ 2378 3584 2631 3529 \nQ 2884 3475 3122 3366 \nz\n\" transform=\"scale(0.015625)\"/>\n       <path id=\"DejaVuSans-67\" d=\"M 2906 1791 \nQ 2906 2416 2648 2759 \nQ 2391 3103 1925 3103 \nQ 1463 3103 1205 2759 \nQ 947 2416 947 1791 \nQ 947 1169 1205 825 \nQ 1463 481 1925 481 \nQ 2391 481 2648 825 \nQ 2906 1169 2906 1791 \nz\nM 3481 434 \nQ 3481 -459 3084 -895 \nQ 2688 -1331 1869 -1331 \nQ 1566 -1331 1297 -1286 \nQ 1028 -1241 775 -1147 \nL 775 -588 \nQ 1028 -725 1275 -790 \nQ 1522 -856 1778 -856 \nQ 2344 -856 2625 -561 \nQ 2906 -266 2906 331 \nL 2906 616 \nQ 2728 306 2450 153 \nQ 2172 0 1784 0 \nQ 1141 0 747 490 \nQ 353 981 353 1791 \nQ 353 2603 747 3093 \nQ 1141 3584 1784 3584 \nQ 2172 3584 2450 3431 \nQ 2728 3278 2906 2969 \nL 2906 3500 \nL 3481 3500 \nL 3481 434 \nz\n\" transform=\"scale(0.015625)\"/>\n       <path id=\"DejaVuSans-70\" d=\"M 1159 525 \nL 1159 -1331 \nL 581 -1331 \nL 581 3500 \nL 1159 3500 \nL 1159 2969 \nQ 1341 3281 1617 3432 \nQ 1894 3584 2278 3584 \nQ 2916 3584 3314 3078 \nQ 3713 2572 3713 1747 \nQ 3713 922 3314 415 \nQ 2916 -91 2278 -91 \nQ 1894 -91 1617 61 \nQ 1341 213 1159 525 \nz\nM 3116 1747 \nQ 3116 2381 2855 2742 \nQ 2594 3103 2138 3103 \nQ 1681 3103 1420 2742 \nQ 1159 2381 1159 1747 \nQ 1159 1113 1420 752 \nQ 1681 391 2138 391 \nQ 2594 391 2855 752 \nQ 3116 1113 3116 1747 \nz\n\" transform=\"scale(0.015625)\"/>\n       <path id=\"DejaVuSans-29\" d=\"M 513 4856 \nL 1013 4856 \nQ 1481 4119 1714 3412 \nQ 1947 2706 1947 2009 \nQ 1947 1309 1714 600 \nQ 1481 -109 1013 -844 \nL 513 -844 \nQ 928 -128 1133 580 \nQ 1338 1288 1338 2009 \nQ 1338 2731 1133 3434 \nQ 928 4138 513 4856 \nz\n\" transform=\"scale(0.015625)\"/>\n      </defs>\n      <use xlink:href=\"#DejaVuSans-54\"/>\n      <use xlink:href=\"#DejaVuSans-6f\" x=\"44.083984\"/>\n      <use xlink:href=\"#DejaVuSans-6b\" x=\"105.265625\"/>\n      <use xlink:href=\"#DejaVuSans-65\" x=\"159.550781\"/>\n      <use xlink:href=\"#DejaVuSans-6e\" x=\"221.074219\"/>\n      <use xlink:href=\"#DejaVuSans-20\" x=\"284.453125\"/>\n      <use xlink:href=\"#DejaVuSans-28\" x=\"316.240234\"/>\n      <use xlink:href=\"#DejaVuSans-64\" x=\"355.253906\"/>\n      <use xlink:href=\"#DejaVuSans-65\" x=\"418.730469\"/>\n      <use xlink:href=\"#DejaVuSans-73\" x=\"480.253906\"/>\n      <use xlink:href=\"#DejaVuSans-63\" x=\"532.353516\"/>\n      <use xlink:href=\"#DejaVuSans-65\" x=\"587.333984\"/>\n      <use xlink:href=\"#DejaVuSans-6e\" x=\"648.857422\"/>\n      <use xlink:href=\"#DejaVuSans-64\" x=\"712.236328\"/>\n      <use xlink:href=\"#DejaVuSans-69\" x=\"775.712891\"/>\n      <use xlink:href=\"#DejaVuSans-6e\" x=\"803.496094\"/>\n      <use xlink:href=\"#DejaVuSans-67\" x=\"866.875\"/>\n      <use xlink:href=\"#DejaVuSans-20\" x=\"930.351562\"/>\n      <use xlink:href=\"#DejaVuSans-70\" x=\"962.138672\"/>\n      <use xlink:href=\"#DejaVuSans-72\" x=\"1025.615234\"/>\n      <use xlink:href=\"#DejaVuSans-6f\" x=\"1064.478516\"/>\n      <use xlink:href=\"#DejaVuSans-62\" x=\"1125.660156\"/>\n      <use xlink:href=\"#DejaVuSans-61\" x=\"1189.136719\"/>\n      <use xlink:href=\"#DejaVuSans-62\" x=\"1250.416016\"/>\n      <use xlink:href=\"#DejaVuSans-69\" x=\"1313.892578\"/>\n      <use xlink:href=\"#DejaVuSans-6c\" x=\"1341.675781\"/>\n      <use xlink:href=\"#DejaVuSans-69\" x=\"1369.458984\"/>\n      <use xlink:href=\"#DejaVuSans-74\" x=\"1397.242188\"/>\n      <use xlink:href=\"#DejaVuSans-79\" x=\"1436.451172\"/>\n      <use xlink:href=\"#DejaVuSans-29\" x=\"1495.630859\"/>\n     </g>\n    </g>\n   </g>\n   <g id=\"matplotlib.axis_4\">\n    <g id=\"ytick_30\">\n     <g id=\"line2d_56\">\n      <g>\n       <use xlink:href=\"#m6a2b8b9b95\" x=\"398.815744\" y=\"194.98975\" style=\"stroke: #000000; stroke-width: 0.8\"/>\n      </g>\n     </g>\n     <g id=\"text_19\">\n      <!-- 0.75 -->\n      <g transform=\"translate(365.096994 199.548812) scale(0.12 -0.12)\">\n       <defs>\n        <path id=\"DejaVuSans-2e\" d=\"M 684 794 \nL 1344 794 \nL 1344 0 \nL 684 0 \nL 684 794 \nz\n\" transform=\"scale(0.015625)\"/>\n       </defs>\n       <use xlink:href=\"#DejaVuSans-30\"/>\n       <use xlink:href=\"#DejaVuSans-2e\" x=\"63.623047\"/>\n       <use xlink:href=\"#DejaVuSans-37\" x=\"95.410156\"/>\n       <use xlink:href=\"#DejaVuSans-35\" x=\"159.033203\"/>\n      </g>\n     </g>\n    </g>\n    <g id=\"ytick_31\">\n     <g id=\"line2d_57\">\n      <g>\n       <use xlink:href=\"#m6a2b8b9b95\" x=\"398.815744\" y=\"162.134365\" style=\"stroke: #000000; stroke-width: 0.8\"/>\n      </g>\n     </g>\n     <g id=\"text_20\">\n      <!-- 0.80 -->\n      <g transform=\"translate(365.096994 166.693428) scale(0.12 -0.12)\">\n       <use xlink:href=\"#DejaVuSans-30\"/>\n       <use xlink:href=\"#DejaVuSans-2e\" x=\"63.623047\"/>\n       <use xlink:href=\"#DejaVuSans-38\" x=\"95.410156\"/>\n       <use xlink:href=\"#DejaVuSans-30\" x=\"159.033203\"/>\n      </g>\n     </g>\n    </g>\n    <g id=\"ytick_32\">\n     <g id=\"line2d_58\">\n      <g>\n       <use xlink:href=\"#m6a2b8b9b95\" x=\"398.815744\" y=\"129.278981\" style=\"stroke: #000000; stroke-width: 0.8\"/>\n      </g>\n     </g>\n     <g id=\"text_21\">\n      <!-- 0.85 -->\n      <g transform=\"translate(365.096994 133.838043) scale(0.12 -0.12)\">\n       <use xlink:href=\"#DejaVuSans-30\"/>\n       <use xlink:href=\"#DejaVuSans-2e\" x=\"63.623047\"/>\n       <use xlink:href=\"#DejaVuSans-38\" x=\"95.410156\"/>\n       <use xlink:href=\"#DejaVuSans-35\" x=\"159.033203\"/>\n      </g>\n     </g>\n    </g>\n    <g id=\"ytick_33\">\n     <g id=\"line2d_59\">\n      <g>\n       <use xlink:href=\"#m6a2b8b9b95\" x=\"398.815744\" y=\"96.423596\" style=\"stroke: #000000; stroke-width: 0.8\"/>\n      </g>\n     </g>\n     <g id=\"text_22\">\n      <!-- 0.90 -->\n      <g transform=\"translate(365.096994 100.982659) scale(0.12 -0.12)\">\n       <use xlink:href=\"#DejaVuSans-30\"/>\n       <use xlink:href=\"#DejaVuSans-2e\" x=\"63.623047\"/>\n       <use xlink:href=\"#DejaVuSans-39\" x=\"95.410156\"/>\n       <use xlink:href=\"#DejaVuSans-30\" x=\"159.033203\"/>\n      </g>\n     </g>\n    </g>\n    <g id=\"ytick_34\">\n     <g id=\"line2d_60\">\n      <g>\n       <use xlink:href=\"#m6a2b8b9b95\" x=\"398.815744\" y=\"63.568212\" style=\"stroke: #000000; stroke-width: 0.8\"/>\n      </g>\n     </g>\n     <g id=\"text_23\">\n      <!-- 0.95 -->\n      <g transform=\"translate(365.096994 68.127274) scale(0.12 -0.12)\">\n       <use xlink:href=\"#DejaVuSans-30\"/>\n       <use xlink:href=\"#DejaVuSans-2e\" x=\"63.623047\"/>\n       <use xlink:href=\"#DejaVuSans-39\" x=\"95.410156\"/>\n       <use xlink:href=\"#DejaVuSans-35\" x=\"159.033203\"/>\n      </g>\n     </g>\n    </g>\n    <g id=\"ytick_35\">\n     <g id=\"line2d_61\">\n      <g>\n       <use xlink:href=\"#m6a2b8b9b95\" x=\"398.815744\" y=\"30.712827\" style=\"stroke: #000000; stroke-width: 0.8\"/>\n      </g>\n     </g>\n     <g id=\"text_24\">\n      <!-- 1.00 -->\n      <g transform=\"translate(365.096994 35.271889) scale(0.12 -0.12)\">\n       <use xlink:href=\"#DejaVuSans-31\"/>\n       <use xlink:href=\"#DejaVuSans-2e\" x=\"63.623047\"/>\n       <use xlink:href=\"#DejaVuSans-30\" x=\"95.410156\"/>\n       <use xlink:href=\"#DejaVuSans-30\" x=\"159.033203\"/>\n      </g>\n     </g>\n    </g>\n    <g id=\"ytick_36\">\n     <g id=\"line2d_62\">\n      <g>\n       <use xlink:href=\"#mb8e8b418bd\" x=\"398.815744\" y=\"188.418673\" style=\"stroke: #000000; stroke-width: 0.6\"/>\n      </g>\n     </g>\n    </g>\n    <g id=\"ytick_37\">\n     <g id=\"line2d_63\">\n      <g>\n       <use xlink:href=\"#mb8e8b418bd\" x=\"398.815744\" y=\"181.847596\" style=\"stroke: #000000; stroke-width: 0.6\"/>\n      </g>\n     </g>\n    </g>\n    <g id=\"ytick_38\">\n     <g id=\"line2d_64\">\n      <g>\n       <use xlink:href=\"#mb8e8b418bd\" x=\"398.815744\" y=\"175.276519\" style=\"stroke: #000000; stroke-width: 0.6\"/>\n      </g>\n     </g>\n    </g>\n    <g id=\"ytick_39\">\n     <g id=\"line2d_65\">\n      <g>\n       <use xlink:href=\"#mb8e8b418bd\" x=\"398.815744\" y=\"168.705442\" style=\"stroke: #000000; stroke-width: 0.6\"/>\n      </g>\n     </g>\n    </g>\n    <g id=\"ytick_40\">\n     <g id=\"line2d_66\">\n      <g>\n       <use xlink:href=\"#mb8e8b418bd\" x=\"398.815744\" y=\"155.563288\" style=\"stroke: #000000; stroke-width: 0.6\"/>\n      </g>\n     </g>\n    </g>\n    <g id=\"ytick_41\">\n     <g id=\"line2d_67\">\n      <g>\n       <use xlink:href=\"#mb8e8b418bd\" x=\"398.815744\" y=\"148.992212\" style=\"stroke: #000000; stroke-width: 0.6\"/>\n      </g>\n     </g>\n    </g>\n    <g id=\"ytick_42\">\n     <g id=\"line2d_68\">\n      <g>\n       <use xlink:href=\"#mb8e8b418bd\" x=\"398.815744\" y=\"142.421135\" style=\"stroke: #000000; stroke-width: 0.6\"/>\n      </g>\n     </g>\n    </g>\n    <g id=\"ytick_43\">\n     <g id=\"line2d_69\">\n      <g>\n       <use xlink:href=\"#mb8e8b418bd\" x=\"398.815744\" y=\"135.850058\" style=\"stroke: #000000; stroke-width: 0.6\"/>\n      </g>\n     </g>\n    </g>\n    <g id=\"ytick_44\">\n     <g id=\"line2d_70\">\n      <g>\n       <use xlink:href=\"#mb8e8b418bd\" x=\"398.815744\" y=\"122.707904\" style=\"stroke: #000000; stroke-width: 0.6\"/>\n      </g>\n     </g>\n    </g>\n    <g id=\"ytick_45\">\n     <g id=\"line2d_71\">\n      <g>\n       <use xlink:href=\"#mb8e8b418bd\" x=\"398.815744\" y=\"116.136827\" style=\"stroke: #000000; stroke-width: 0.6\"/>\n      </g>\n     </g>\n    </g>\n    <g id=\"ytick_46\">\n     <g id=\"line2d_72\">\n      <g>\n       <use xlink:href=\"#mb8e8b418bd\" x=\"398.815744\" y=\"109.56575\" style=\"stroke: #000000; stroke-width: 0.6\"/>\n      </g>\n     </g>\n    </g>\n    <g id=\"ytick_47\">\n     <g id=\"line2d_73\">\n      <g>\n       <use xlink:href=\"#mb8e8b418bd\" x=\"398.815744\" y=\"102.994673\" style=\"stroke: #000000; stroke-width: 0.6\"/>\n      </g>\n     </g>\n    </g>\n    <g id=\"ytick_48\">\n     <g id=\"line2d_74\">\n      <g>\n       <use xlink:href=\"#mb8e8b418bd\" x=\"398.815744\" y=\"89.852519\" style=\"stroke: #000000; stroke-width: 0.6\"/>\n      </g>\n     </g>\n    </g>\n    <g id=\"ytick_49\">\n     <g id=\"line2d_75\">\n      <g>\n       <use xlink:href=\"#mb8e8b418bd\" x=\"398.815744\" y=\"83.281442\" style=\"stroke: #000000; stroke-width: 0.6\"/>\n      </g>\n     </g>\n    </g>\n    <g id=\"ytick_50\">\n     <g id=\"line2d_76\">\n      <g>\n       <use xlink:href=\"#mb8e8b418bd\" x=\"398.815744\" y=\"76.710365\" style=\"stroke: #000000; stroke-width: 0.6\"/>\n      </g>\n     </g>\n    </g>\n    <g id=\"ytick_51\">\n     <g id=\"line2d_77\">\n      <g>\n       <use xlink:href=\"#mb8e8b418bd\" x=\"398.815744\" y=\"70.139288\" style=\"stroke: #000000; stroke-width: 0.6\"/>\n      </g>\n     </g>\n    </g>\n    <g id=\"ytick_52\">\n     <g id=\"line2d_78\">\n      <g>\n       <use xlink:href=\"#mb8e8b418bd\" x=\"398.815744\" y=\"56.997135\" style=\"stroke: #000000; stroke-width: 0.6\"/>\n      </g>\n     </g>\n    </g>\n    <g id=\"ytick_53\">\n     <g id=\"line2d_79\">\n      <g>\n       <use xlink:href=\"#mb8e8b418bd\" x=\"398.815744\" y=\"50.426058\" style=\"stroke: #000000; stroke-width: 0.6\"/>\n      </g>\n     </g>\n    </g>\n    <g id=\"ytick_54\">\n     <g id=\"line2d_80\">\n      <g>\n       <use xlink:href=\"#mb8e8b418bd\" x=\"398.815744\" y=\"43.854981\" style=\"stroke: #000000; stroke-width: 0.6\"/>\n      </g>\n     </g>\n    </g>\n    <g id=\"ytick_55\">\n     <g id=\"line2d_81\">\n      <g>\n       <use xlink:href=\"#mb8e8b418bd\" x=\"398.815744\" y=\"37.283904\" style=\"stroke: #000000; stroke-width: 0.6\"/>\n      </g>\n     </g>\n    </g>\n    <g id=\"ytick_56\">\n     <g id=\"line2d_82\">\n      <g>\n       <use xlink:href=\"#mb8e8b418bd\" x=\"398.815744\" y=\"24.14175\" style=\"stroke: #000000; stroke-width: 0.6\"/>\n      </g>\n     </g>\n    </g>\n    <g id=\"text_25\">\n     <!-- Probability -->\n     <g transform=\"translate(358.601369 141.280438) rotate(-90) scale(0.12 -0.12)\">\n      <use xlink:href=\"#DejaVuSans-50\"/>\n      <use xlink:href=\"#DejaVuSans-72\" x=\"58.552734\"/>\n      <use xlink:href=\"#DejaVuSans-6f\" x=\"97.416016\"/>\n      <use xlink:href=\"#DejaVuSans-62\" x=\"158.597656\"/>\n      <use xlink:href=\"#DejaVuSans-61\" x=\"222.074219\"/>\n      <use xlink:href=\"#DejaVuSans-62\" x=\"283.353516\"/>\n      <use xlink:href=\"#DejaVuSans-69\" x=\"346.830078\"/>\n      <use xlink:href=\"#DejaVuSans-6c\" x=\"374.613281\"/>\n      <use xlink:href=\"#DejaVuSans-69\" x=\"402.396484\"/>\n      <use xlink:href=\"#DejaVuSans-74\" x=\"430.179688\"/>\n      <use xlink:href=\"#DejaVuSans-79\" x=\"469.388672\"/>\n     </g>\n    </g>\n   </g>\n   <g id=\"line2d_83\">\n    <path d=\"M 399.911036 237.41725 \nL 400.534339 206.694435 \nL 401.266855 181.784041 \nL 401.971197 164.837054 \nL 402.816408 150.568675 \nL 403.858835 137.150056 \nL 404.901261 126.675087 \nL 405.859167 119.1469 \nL 407.211504 110.407288 \nL 408.620188 102.586096 \nL 409.944352 96.403637 \nL 411.296689 91.071878 \nL 412.930763 85.576402 \nL 414.762053 80.197996 \nL 416.536995 75.648944 \nL 418.199243 71.993479 \nL 420.227748 68.097414 \nL 422.143559 64.885865 \nL 424.256586 61.760913 \nL 426.623176 58.665453 \nL 428.989766 55.901148 \nL 431.469051 53.329778 \nL 434.117378 50.933443 \nL 437.019268 48.604985 \nL 439.780289 46.662866 \nL 442.654006 44.908473 \nL 446.091196 43.071086 \nL 449.781949 41.342113 \nL 453.867134 39.673887 \nL 457.895972 38.262281 \nL 462.291067 36.967392 \nL 467.080595 35.803084 \nL 472.461769 34.741981 \nL 478.462765 33.795166 \nL 485.562535 32.9297 \nL 493.113084 32.2538 \nL 501.48067 31.72505 \nL 510.918856 31.350813 \nL 523.371627 31.080837 \nL 542.980515 30.891975 \nL 586.53704 30.760806 \nL 680.580816 30.727514 \nL 680.580816 30.727514 \n\" clip-path=\"url(#peefe84aa6b)\" style=\"fill: none; stroke: #000000; stroke-width: 1.5; stroke-linecap: square\"/>\n   </g>\n   <g id=\"LineCollection_1\">\n    <path d=\"M 455.163124 237.41725 \nL 455.163124 -1 \n\" clip-path=\"url(#peefe84aa6b)\" style=\"fill: none; stroke: #0071bc; stroke-width: 1.5\"/>\n   </g>\n   <g id=\"LineCollection_2\">\n    <path d=\"M 398.815744 63.568212 \nL 680.552643 63.568212 \n\" clip-path=\"url(#peefe84aa6b)\" style=\"fill: none; stroke-dasharray: 5.55,2.4; stroke-dashoffset: 0; stroke: #f7931e; stroke-width: 1.5\"/>\n   </g>\n   <g id=\"patch_107\">\n    <path d=\"M 398.815744 194.98975 \nL 398.815744 24.14175 \n\" style=\"fill: none; stroke: #000000; stroke-width: 0.8; stroke-linejoin: miter; stroke-linecap: square\"/>\n   </g>\n   <g id=\"patch_108\">\n    <path d=\"M 680.552643 194.98975 \nL 680.552643 24.14175 \n\" style=\"fill: none; stroke: #000000; stroke-width: 0.8; stroke-linejoin: miter; stroke-linecap: square\"/>\n   </g>\n   <g id=\"patch_109\">\n    <path d=\"M 398.815744 194.98975 \nL 680.552643 194.98975 \n\" style=\"fill: none; stroke: #000000; stroke-width: 0.8; stroke-linejoin: miter; stroke-linecap: square\"/>\n   </g>\n   <g id=\"patch_110\">\n    <path d=\"M 398.815744 24.14175 \nL 680.552643 24.14175 \n\" style=\"fill: none; stroke: #000000; stroke-width: 0.8; stroke-linejoin: miter; stroke-linecap: square\"/>\n   </g>\n   <g id=\"text_26\">\n    <!-- Cumulative probability -->\n    <g transform=\"translate(457.888818 18.14175) scale(0.144 -0.144)\">\n     <defs>\n      <path id=\"DejaVuSans-6d\" d=\"M 3328 2828 \nQ 3544 3216 3844 3400 \nQ 4144 3584 4550 3584 \nQ 5097 3584 5394 3201 \nQ 5691 2819 5691 2113 \nL 5691 0 \nL 5113 0 \nL 5113 2094 \nQ 5113 2597 4934 2840 \nQ 4756 3084 4391 3084 \nQ 3944 3084 3684 2787 \nQ 3425 2491 3425 1978 \nL 3425 0 \nL 2847 0 \nL 2847 2094 \nQ 2847 2600 2669 2842 \nQ 2491 3084 2119 3084 \nQ 1678 3084 1418 2786 \nQ 1159 2488 1159 1978 \nL 1159 0 \nL 581 0 \nL 581 3500 \nL 1159 3500 \nL 1159 2956 \nQ 1356 3278 1631 3431 \nQ 1906 3584 2284 3584 \nQ 2666 3584 2933 3390 \nQ 3200 3197 3328 2828 \nz\n\" transform=\"scale(0.015625)\"/>\n      <path id=\"DejaVuSans-76\" d=\"M 191 3500 \nL 800 3500 \nL 1894 563 \nL 2988 3500 \nL 3597 3500 \nL 2284 0 \nL 1503 0 \nL 191 3500 \nz\n\" transform=\"scale(0.015625)\"/>\n     </defs>\n     <use xlink:href=\"#DejaVuSans-43\"/>\n     <use xlink:href=\"#DejaVuSans-75\" x=\"69.824219\"/>\n     <use xlink:href=\"#DejaVuSans-6d\" x=\"133.203125\"/>\n     <use xlink:href=\"#DejaVuSans-75\" x=\"230.615234\"/>\n     <use xlink:href=\"#DejaVuSans-6c\" x=\"293.994141\"/>\n     <use xlink:href=\"#DejaVuSans-61\" x=\"321.777344\"/>\n     <use xlink:href=\"#DejaVuSans-74\" x=\"383.056641\"/>\n     <use xlink:href=\"#DejaVuSans-69\" x=\"422.265625\"/>\n     <use xlink:href=\"#DejaVuSans-76\" x=\"450.048828\"/>\n     <use xlink:href=\"#DejaVuSans-65\" x=\"509.228516\"/>\n     <use xlink:href=\"#DejaVuSans-20\" x=\"570.751953\"/>\n     <use xlink:href=\"#DejaVuSans-70\" x=\"602.539062\"/>\n     <use xlink:href=\"#DejaVuSans-72\" x=\"666.015625\"/>\n     <use xlink:href=\"#DejaVuSans-6f\" x=\"704.878906\"/>\n     <use xlink:href=\"#DejaVuSans-62\" x=\"766.060547\"/>\n     <use xlink:href=\"#DejaVuSans-61\" x=\"829.537109\"/>\n     <use xlink:href=\"#DejaVuSans-62\" x=\"890.816406\"/>\n     <use xlink:href=\"#DejaVuSans-69\" x=\"954.292969\"/>\n     <use xlink:href=\"#DejaVuSans-6c\" x=\"982.076172\"/>\n     <use xlink:href=\"#DejaVuSans-69\" x=\"1009.859375\"/>\n     <use xlink:href=\"#DejaVuSans-74\" x=\"1037.642578\"/>\n     <use xlink:href=\"#DejaVuSans-79\" x=\"1076.851562\"/>\n    </g>\n   </g>\n   <g id=\"legend_1\">\n    <g id=\"patch_111\">\n     <path d=\"M 469.480143 188.98975 \nL 672.152643 188.98975 \nQ 674.552643 188.98975 674.552643 186.58975 \nL 674.552643 152.56225 \nQ 674.552643 150.16225 672.152643 150.16225 \nL 469.480143 150.16225 \nQ 467.080143 150.16225 467.080143 152.56225 \nL 467.080143 186.58975 \nQ 467.080143 188.98975 469.480143 188.98975 \nz\n\" style=\"fill: #ffffff; opacity: 0.8; stroke: #cccccc; stroke-linejoin: miter\"/>\n    </g>\n    <g id=\"line2d_84\">\n     <path d=\"M 471.880143 159.880375 \nL 495.880143 159.880375 \n\" style=\"fill: none; stroke: #0071bc; stroke-width: 1.5\"/>\n    </g>\n    <g id=\"text_27\">\n     <!-- top-k threshold (k=2000) -->\n     <g transform=\"translate(505.480143 164.080375) scale(0.12 -0.12)\">\n      <defs>\n       <path id=\"DejaVuSans-2d\" d=\"M 313 2009 \nL 1997 2009 \nL 1997 1497 \nL 313 1497 \nL 313 2009 \nz\n\" transform=\"scale(0.015625)\"/>\n       <path id=\"DejaVuSans-68\" d=\"M 3513 2113 \nL 3513 0 \nL 2938 0 \nL 2938 2094 \nQ 2938 2591 2744 2837 \nQ 2550 3084 2163 3084 \nQ 1697 3084 1428 2787 \nQ 1159 2491 1159 1978 \nL 1159 0 \nL 581 0 \nL 581 4863 \nL 1159 4863 \nL 1159 2956 \nQ 1366 3272 1645 3428 \nQ 1925 3584 2291 3584 \nQ 2894 3584 3203 3211 \nQ 3513 2838 3513 2113 \nz\n\" transform=\"scale(0.015625)\"/>\n       <path id=\"DejaVuSans-3d\" d=\"M 678 2906 \nL 4684 2906 \nL 4684 2381 \nL 678 2381 \nL 678 2906 \nz\nM 678 1631 \nL 4684 1631 \nL 4684 1100 \nL 678 1100 \nL 678 1631 \nz\n\" transform=\"scale(0.015625)\"/>\n      </defs>\n      <use xlink:href=\"#DejaVuSans-74\"/>\n      <use xlink:href=\"#DejaVuSans-6f\" x=\"39.208984\"/>\n      <use xlink:href=\"#DejaVuSans-70\" x=\"100.390625\"/>\n      <use xlink:href=\"#DejaVuSans-2d\" x=\"163.867188\"/>\n      <use xlink:href=\"#DejaVuSans-6b\" x=\"199.951172\"/>\n      <use xlink:href=\"#DejaVuSans-20\" x=\"257.861328\"/>\n      <use xlink:href=\"#DejaVuSans-74\" x=\"289.648438\"/>\n      <use xlink:href=\"#DejaVuSans-68\" x=\"328.857422\"/>\n      <use xlink:href=\"#DejaVuSans-72\" x=\"392.236328\"/>\n      <use xlink:href=\"#DejaVuSans-65\" x=\"431.099609\"/>\n      <use xlink:href=\"#DejaVuSans-73\" x=\"492.623047\"/>\n      <use xlink:href=\"#DejaVuSans-68\" x=\"544.722656\"/>\n      <use xlink:href=\"#DejaVuSans-6f\" x=\"608.101562\"/>\n      <use xlink:href=\"#DejaVuSans-6c\" x=\"669.283203\"/>\n      <use xlink:href=\"#DejaVuSans-64\" x=\"697.066406\"/>\n      <use xlink:href=\"#DejaVuSans-20\" x=\"760.542969\"/>\n      <use xlink:href=\"#DejaVuSans-28\" x=\"792.330078\"/>\n      <use xlink:href=\"#DejaVuSans-6b\" x=\"831.34375\"/>\n      <use xlink:href=\"#DejaVuSans-3d\" x=\"889.253906\"/>\n      <use xlink:href=\"#DejaVuSans-32\" x=\"973.042969\"/>\n      <use xlink:href=\"#DejaVuSans-30\" x=\"1036.666016\"/>\n      <use xlink:href=\"#DejaVuSans-30\" x=\"1100.289062\"/>\n      <use xlink:href=\"#DejaVuSans-30\" x=\"1163.912109\"/>\n      <use xlink:href=\"#DejaVuSans-29\" x=\"1227.535156\"/>\n     </g>\n    </g>\n    <g id=\"line2d_85\">\n     <path d=\"M 471.880143 177.494125 \nL 495.880143 177.494125 \n\" style=\"fill: none; stroke-dasharray: 5.55,2.4; stroke-dashoffset: 0; stroke: #f7931e; stroke-width: 1.5\"/>\n    </g>\n    <g id=\"text_28\">\n     <!-- nucleus threshold (p=0.95) -->\n     <g transform=\"translate(505.480143 181.694125) scale(0.12 -0.12)\">\n      <use xlink:href=\"#DejaVuSans-6e\"/>\n      <use xlink:href=\"#DejaVuSans-75\" x=\"63.378906\"/>\n      <use xlink:href=\"#DejaVuSans-63\" x=\"126.757812\"/>\n      <use xlink:href=\"#DejaVuSans-6c\" x=\"181.738281\"/>\n      <use xlink:href=\"#DejaVuSans-65\" x=\"209.521484\"/>\n      <use xlink:href=\"#DejaVuSans-75\" x=\"271.044922\"/>\n      <use xlink:href=\"#DejaVuSans-73\" x=\"334.423828\"/>\n      <use xlink:href=\"#DejaVuSans-20\" x=\"386.523438\"/>\n      <use xlink:href=\"#DejaVuSans-74\" x=\"418.310547\"/>\n      <use xlink:href=\"#DejaVuSans-68\" x=\"457.519531\"/>\n      <use xlink:href=\"#DejaVuSans-72\" x=\"520.898438\"/>\n      <use xlink:href=\"#DejaVuSans-65\" x=\"559.761719\"/>\n      <use xlink:href=\"#DejaVuSans-73\" x=\"621.285156\"/>\n      <use xlink:href=\"#DejaVuSans-68\" x=\"673.384766\"/>\n      <use xlink:href=\"#DejaVuSans-6f\" x=\"736.763672\"/>\n      <use xlink:href=\"#DejaVuSans-6c\" x=\"797.945312\"/>\n      <use xlink:href=\"#DejaVuSans-64\" x=\"825.728516\"/>\n      <use xlink:href=\"#DejaVuSans-20\" x=\"889.205078\"/>\n      <use xlink:href=\"#DejaVuSans-28\" x=\"920.992188\"/>\n      <use xlink:href=\"#DejaVuSans-70\" x=\"960.005859\"/>\n      <use xlink:href=\"#DejaVuSans-3d\" x=\"1023.482422\"/>\n      <use xlink:href=\"#DejaVuSans-30\" x=\"1107.271484\"/>\n      <use xlink:href=\"#DejaVuSans-2e\" x=\"1170.894531\"/>\n      <use xlink:href=\"#DejaVuSans-39\" x=\"1202.681641\"/>\n      <use xlink:href=\"#DejaVuSans-35\" x=\"1266.304688\"/>\n      <use xlink:href=\"#DejaVuSans-29\" x=\"1329.927734\"/>\n     </g>\n    </g>\n   </g>\n  </g>\n </g>\n <defs>\n  <clipPath id=\"pd2b47956dc\">\n   <rect x=\"50.93375\" y=\"24.14175\" width=\"281.736898\" height=\"170.848\"/>\n  </clipPath>\n  <clipPath id=\"peefe84aa6b\">\n   <rect x=\"398.815744\" y=\"24.14175\" width=\"281.736898\" height=\"170.848\"/>\n  </clipPath>\n </defs>\n</svg>\n",
            "application/pdf": "[encoded data removed]"
          },
          "metadata": {}
        }
      ],
      "source": [
        "# For generating plot; just run:\n",
        "import matplotlib.pyplot as plt\n",
        "import numpy as np\n",
        "\n",
        "fig, axes = plt.subplots(1, 2, figsize=(10, 3.5))\n",
        "\n",
        "axes[0].hist(probs[0], bins=np.logspace(-10, -1, 100), color=\"C0\", edgecolor=\"C0\")\n",
        "axes[0].set_xscale(\"log\")\n",
        "axes[0].set_yscale(\"log\")\n",
        "axes[0].set_title(\"Probability distribution\")\n",
        "axes[0].set_xlabel(\"Probability\")\n",
        "axes[0].set_ylabel(\"Count\")\n",
        "# axes[0].grid(which=\"major\")\n",
        "\n",
        "axes[1].plot(np.cumsum(np.sort(probs[0])[::-1]), color=\"black\")\n",
        "axes[1].set_xlim([0, 10000])\n",
        "axes[1].set_ylim([0.75, 1.01])\n",
        "axes[1].set_title(\"Cumulative probability\")\n",
        "axes[1].set_ylabel(\"Probability\")\n",
        "axes[1].set_xlabel(\"Token (descending probability)\")\n",
        "# axes[1].grid(which=\"major\")\n",
        "axes[1].minorticks_on()\n",
        "# axes[1].grid(which='minor', linewidth='0.5')\n",
        "top_k_label = 'top-k threshold (k=2000)'\n",
        "top_p_label = 'nucleus threshold (p=0.95)'\n",
        "axes[1].vlines(x=2000, ymin=0, ymax=2, color='C0', label=top_k_label)\n",
        "axes[1].hlines(y=0.95, xmin=0, xmax=10000, color='C1', label=top_p_label, linestyle='--')\n",
        "axes[1].legend(loc='lower right')\n",
        "plt.tight_layout()"
      ]
    },
    {
      "cell_type": "code",
      "source": [
        "torch.manual_seed(42);"
      ],
      "metadata": {
        "id": "yMi74YS9_Jv6"
      },
      "execution_count": 48,
      "outputs": []
    },
    {
      "cell_type": "code",
      "source": [
        "output_topk = model.generate(input_ids, max_length=max_length, do_sample=True, top_k=50)\n",
        "print(tokenizer.decode(output_topk[0]))"
      ],
      "metadata": {
        "colab": {
          "base_uri": "https://localhost:8080/"
        },
        "id": "m3FQcY2U_OWv",
        "outputId": "4768c5c5-c919-4b7c-b18f-eb7a22db0b6f"
      },
      "execution_count": 49,
      "outputs": [
        {
          "output_type": "stream",
          "name": "stdout",
          "text": [
            "In a shocking finding, scientist discovered a herd of unicorns living in a\n",
            "remote, previously unexplored valley, in the Andes Mountains. Even more\n",
            "surprising to the researchers was the fact that the unicorns spoke perfect\n",
            "English.\n",
            "\n",
            "\n",
            "To get to the mountains, the researchers first needed to make sure that each of\n",
            "the animals, except those the researchers said were native to northern\n",
            "countries, didn't get injured.\n",
            "\n",
            "\n",
            "The researchers also found only one unicorn, also believed to be the same\n",
            "species as the original unicorn, who, according to the Spanish government, is\n",
            "described only in the journal Dinos Métropolitana.\n",
            "\n",
            "\n",
            "\n"
          ]
        }
      ]
    },
    {
      "cell_type": "code",
      "source": [
        "torch.manual_seed(42);"
      ],
      "metadata": {
        "id": "n96yiIDKAoST"
      },
      "execution_count": 50,
      "outputs": []
    },
    {
      "cell_type": "code",
      "source": [
        "output_topp = model.generate(input_ids, max_length=max_length, do_sample=True, top_p=0.9)\n",
        "print(tokenizer.decode(output_topp[0]))"
      ],
      "metadata": {
        "colab": {
          "base_uri": "https://localhost:8080/"
        },
        "id": "BhCMxKmbArNt",
        "outputId": "0f655ddd-dcc7-4e8b-8144-aebfe3729909"
      },
      "execution_count": 51,
      "outputs": [
        {
          "output_type": "stream",
          "name": "stdout",
          "text": [
            "In a shocking finding, scientist discovered a herd of unicorns living in a\n",
            "remote, previously unexplored valley, in the Andes Mountains. Even more\n",
            "surprising to the researchers was the fact that the unicorns spoke perfect\n",
            "English.\n",
            "\n",
            "\n",
            "To get to the mountains, the researchers first needed to make sure that each of\n",
            "the animals, except for the unicorns, were properly social. To do this, they had\n",
            "to use technology to help the group to understand each other and to help the\n",
            "animal communicate with one another.\n",
            "\n",
            "\n",
            "It took only 15 minutes, but the animals began to talk to each other in a way\n",
            "that they thought was human\n"
          ]
        }
      ]
    },
    {
      "cell_type": "markdown",
      "metadata": {
        "id": "6njrgiS3PYtF"
      },
      "source": [
        "## Which Decoding Method Is Best?"
      ]
    },
    {
      "cell_type": "markdown",
      "metadata": {
        "id": "IP932whRPYtG"
      },
      "source": [
        "## Conclusion"
      ]
    },
    {
      "cell_type": "code",
      "source": [],
      "metadata": {
        "id": "tA3pJmLUrEvk"
      },
      "execution_count": 51,
      "outputs": []
    }
  ],
  "metadata": {
    "kernelspec": {
      "display_name": "Python 3",
      "name": "python3"
    },
    "colab": {
      "provenance": [],
      "toc_visible": true
    }
  },
  "nbformat": 4,
  "nbformat_minor": 0
}